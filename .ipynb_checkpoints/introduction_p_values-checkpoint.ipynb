{
 "cells": [
  {
   "cell_type": "code",
   "execution_count": 2,
   "metadata": {},
   "outputs": [],
   "source": [
    "# Rewrite this so it's just a single package to load\n",
    "suppressMessages(require(tidyverse))\n",
    "suppressMessages(require(magrittr))\n",
    "suppressMessages(require(logspline))\n",
    "suppressMessages(require(patchwork))\n",
    "suppressMessages(require(IRdisplay))"
   ]
  },
  {
   "cell_type": "markdown",
   "metadata": {},
   "source": [
    "# Introduction\n",
    "\n",
    "The aim of this course is to give you an introduction to Bayesian statistics. It is by no means intended to be an exhaustive course, so at the end of it there will still be a lot for you to learn. However, I do hope that at the end of this workshop you’ll have a better understanding of Bayesian statistics, how it differs from Frequentist approaches, and how to incorporate some Bayesian approaches into your own research. \n",
    "\n",
    "The course will cover a number of topics including the foundations of Frequentist and Bayesian approaches to statistics, how to calculate Bayes factors, Bayesian estimation, and Bayesian regression modelling. \n",
    "\n",
    "- [The *p* value](#the-p-value)"
   ]
  },
  {
   "cell_type": "markdown",
   "metadata": {},
   "source": [
    "## *The p value* \n",
    "\n",
    "*The American Statistical Association (ASA) defines a p value as:*\n",
    "\n",
    "> *the probabi*lity under a specified statistical model that a statistical summary of the data (e.g., the sample mean difference between two compared groups) would be equal to or more extreme than its observed value [@wasserstein2016, my emphasis]\n",
    "\n",
    "While this is a perfectly acceptable definition it is maybe a little tricky to understand. The main reason for this is that the definition contains at least one *ill-defined concept* (\"probability\") and one tricky concept (\"specified statistical model\"). To understand what a *p* value really is, we're going to have to unpack both of these ideas. Along the way we're going to learn about some other concepts that will also help us understand *Bayesian* statistics. And a good grounding on Frequentist inference will also help use understand the distinction between Frequentist inference and Bayesian inference. "
   ]
  },
  {
   "cell_type": "markdown",
   "metadata": {},
   "source": [
    "### Understanding *p* values through simulation"
   ]
  },
  {
   "cell_type": "code",
   "execution_count": null,
   "metadata": {},
   "outputs": [],
   "source": []
  },
  {
   "cell_type": "code",
   "execution_count": null,
   "metadata": {},
   "outputs": [],
   "source": []
  },
  {
   "cell_type": "code",
   "execution_count": null,
   "metadata": {},
   "outputs": [],
   "source": []
  },
  {
   "cell_type": "code",
   "execution_count": null,
   "metadata": {},
   "outputs": [],
   "source": [
    "# Understanding p values through simulation\n",
    "set.seed(612) # Set the seed for reproducibility\n",
    "\n",
    "run.exp = function(sample_size, average){\n",
    "  # define function for running and experiment\n",
    "  \n",
    "      \n",
    "    # we don't know how much the pointer actually swings around,\n",
    "    # so lets just pick a random range between 1 and 10!\n",
    "    dev = runif(1,1,10); min_possible = 0 -dev; max_possible = 0 + dev\n",
    "  \n",
    "    # generate a sample of readings\n",
    "    this_sample = runif(sample_size, min_possible, max_possible)\n",
    "  \n",
    "  # make descriptive stats\n",
    "  tibble::tibble(sample_mean = mean(this_sample), \n",
    "                 sample_sd = sd(this_sample), \n",
    "                 n = sample_size,\n",
    "                 se = sample_sd / sqrt(sample_size))\n",
    "}\n",
    "\n",
    "future::plan(\"multiprocess\") # Set to run in parallel\n",
    "no_of_exps = 100000 # Set the number of experiments to run\n",
    "all_exps <- furrr::future_map_dfr(1:no_of_exps, function(x) \n",
    "  run.exp() %>% dplyr::mutate(i = x)) # run the experiments\n",
    "\n",
    "dplyr::glimpse(all_exps) # view the results"
   ]
  },
  {
   "cell_type": "code",
   "execution_count": null,
   "metadata": {},
   "outputs": [],
   "source": [
    "set.seed(151); X = rnorm(10, runif(1,-10,10), runif(1));\n",
    "\n",
    "glue::glue(\"Our {length(X)} measurements are: {glue::glue_collapse(round(X,2),sep = '; ')}  \n",
    "           Our $\\\\bar{{x}}$ = {round(mean(X),2)}  \n",
    "           Our $s_\\\\bar{{x}}$ = {round(sd(X)/sqrt(length(X)),3)}  \n",
    "This means that our scaled measurement, $t$ = {round(mean(X) / (sd(X)/sqrt(length(X))),3)}\") %>% \n",
    "IRdisplay::display_markdown()"
   ]
  },
  {
   "cell_type": "markdown",
   "metadata": {},
   "source": [
    "$t={\\frac {\\mu\\, \\sqrt{n}}{\\sigma}}$"
   ]
  },
  {
   "cell_type": "code",
   "execution_count": null,
   "metadata": {},
   "outputs": [],
   "source": [
    "all_exps %<>% mutate(t = (sample_mean * sqrt(n)) / sample_sd)\n",
    "\n",
    "\n",
    "all_exps %>% ggplot(aes(x = sample_mean)) + geom_histogram(fill = \"seagreen\",bins = 100) +\n",
    "  labs(x = \"sample mean\", y = \"number of experiments\") + \n",
    "  xlim(c(-max(abs(all_exps$sample_mean)) * 1.10, max(abs(all_exps$sample_mean)) * 1.10)) +\n",
    "  theme_minimal() -> mean_hist\n",
    "\n",
    "all_exps %>% ggplot(aes(x = t)) + geom_histogram(fill = \"seagreen\", bins = 100) +\n",
    "  labs(x = \"t stat\", y = \"number of experiments\") + xlim(c(-4,4)) +\n",
    "  theme_minimal() -> t_hist\n",
    "\n",
    "tibble(x = seq(-4, 4, length.out = 10000)) %>% \n",
    "  mutate(y = dlogspline(x,logspline(all_exps$t))) %>%\n",
    "  ggplot(aes(x = x, y = y)) + geom_line(colour = \"darkblue\") +\n",
    "  labs(x = \"t\", y = \"density\") + xlim(c(-4,4)) +\n",
    "  theme_minimal() -> density_plot\n",
    "\n",
    "\n",
    "(mean_hist | t_hist) / density_plot \n",
    "\n"
   ]
  },
  {
   "cell_type": "code",
   "execution_count": null,
   "metadata": {},
   "outputs": [],
   "source": [
    "this_exp =rnorm(10, mean = 3, sd = 4)\n"
   ]
  },
  {
   "cell_type": "code",
   "execution_count": null,
   "metadata": {},
   "outputs": [],
   "source": [
    "t = (mean(this_exp) * sqrt(10)) / sd(this_exp)\n",
    "t"
   ]
  },
  {
   "cell_type": "code",
   "execution_count": null,
   "metadata": {},
   "outputs": [],
   "source": [
    "(all_exps$sample_mean > mean(this_exp)) %>% mean()"
   ]
  },
  {
   "cell_type": "code",
   "execution_count": null,
   "metadata": {},
   "outputs": [],
   "source": [
    "  sample_size = 10; min_possible = -5; max_possible = 5\n",
    "  this_sample = runif(sample_size, min_possible, max_possible)\n",
    "\n"
   ]
  },
  {
   "cell_type": "code",
   "execution_count": null,
   "metadata": {},
   "outputs": [],
   "source": []
  },
  {
   "cell_type": "code",
   "execution_count": null,
   "metadata": {},
   "outputs": [],
   "source": [
    "set.seed(612) # Set the seed for reproducibility\n",
    "run.exp.trunc = function(){\n",
    "  # define function for running experiment\n",
    "  \n",
    "  # define characteristics of the population\n",
    "  sample_size = 10; min_possible = -5; max_possible = 5; trunc_at = 3\n",
    "  \n",
    "  # generate a sample\n",
    "  this_sample = runif(sample_size, min_possible, max_possible)\n",
    "  this_sample = map_dbl(this_sample, function(x) ifelse(x > trunc_at, trunc_at, x))\n",
    "    \n",
    "  # make descriptive stats\n",
    "  tibble::tibble(sample_mean = mean(this_sample), \n",
    "                 sample_sd = sd(this_sample), \n",
    "                 n = sample_size)  \n",
    "}"
   ]
  },
  {
   "cell_type": "code",
   "execution_count": null,
   "metadata": {},
   "outputs": [],
   "source": [
    "future::plan(\"multiprocess\") # Set to run in parallel\n",
    "no_of_exps = 100000 # Set the number of experiments to run\n",
    "all_exps_trunc <- furrr::future_map_dfr(1:no_of_exps, function(x) \n",
    "  run.exp.trunc() %>% dplyr::mutate(i = x)) # run the experiments\n",
    "\n",
    "dplyr::glimpse(all_exps_trunc) # view the results"
   ]
  },
  {
   "cell_type": "code",
   "execution_count": null,
   "metadata": {},
   "outputs": [],
   "source": [
    "set.seed(10); runif(n = 10, min = -1, max = 3) %>% t.test()"
   ]
  },
  {
   "cell_type": "code",
   "execution_count": null,
   "metadata": {},
   "outputs": [],
   "source": [
    "all_exps %>% head() %>% knitr::kable() %>% as.character() %>% display_html()"
   ]
  },
  {
   "cell_type": "code",
   "execution_count": null,
   "metadata": {},
   "outputs": [],
   "source": []
  },
  {
   "cell_type": "code",
   "execution_count": null,
   "metadata": {},
   "outputs": [],
   "source": [
    "# testing our rule\n",
    "set.seed(14) # set seed for reproducibly\n",
    "\n",
    "Pr_treasure = runif(1) # Set the probablity of finding treasure\n",
    "\n",
    "simulate_hunt <- function(Pr_treasure){\n",
    "    \n",
    "    # Decide whether this hunt has treasure\n",
    "    has.treasure = ifelse(runif(1) < Pr_treasure, 1, 0) \n",
    "    \n",
    "    X = rnorm(10, has.treasure, 1.5) # generate 10 readings\n",
    "    \n",
    "    # work out the scaled measurement and how suprising it is\n",
    "    # and decide whether to dig or not!\n",
    "    t.test(X) %>% broom::tidy() %>%\n",
    "  mutate(has.treasure = ifelse(has.treasure == 1, \"Y\",\"N\"), \n",
    "         how.suprising = p.value, \n",
    "         dig = ifelse(p.value < 0.05, \"Y\",\"N\")) %>%\n",
    "  select(has.treasure, dig)\n",
    "    \n",
    "}\n",
    "\n",
    "set.seed(11) # set seed for reproducibly\n",
    "furrr::future_map_dfr(1:100000, function(x) simulate_hunt(Pr_treasure)) -> test"
   ]
  },
  {
   "cell_type": "code",
   "execution_count": null,
   "metadata": {},
   "outputs": [],
   "source": [
    "test %>% slice(1:10) %>% knitr::kable() %>% as.character() %>% IRdisplay::display_html()"
   ]
  },
  {
   "cell_type": "code",
   "execution_count": null,
   "metadata": {},
   "outputs": [],
   "source": []
  },
  {
   "cell_type": "code",
   "execution_count": null,
   "metadata": {
    "slideshow": {
     "slide_type": "slide"
    }
   },
   "outputs": [],
   "source": [
    "list(p1 = c(heads = 2, flips = 2),p2 = c(heads = 2, flips = 3),p3 = c(heads = 2, flips = 4),p4 = c(heads = 4, flips = 4)) -> scenarios\n",
    "map(scenarios, function(x) {dbinom.like <- function(t) dbinom(x[[\"heads\"]],x[[\"flips\"]],t); integrate(dbinom.like,0,1)$value %>% tibble(heads = x[[\"heads\"]], flips = x[[\"flips\"]], auc = .)}) -> aucs\n",
    "map(aucs, function(x) ggplot(mapping = aes(x = seq(0,1,length.out = 100), y = dbinom(x$heads,x$flips,seq(0,1,length.out = 100)))) + geom_line() + labs(y = \"likelihood\", x = \"θ\", title = glue::glue(\"likelihood for {x$heads} heads in {x$flips} flips\"), subtitle = glue::glue(\"area under curve is {round(x$auc,2)}\")) + theme_minimal() + theme(text = element_text(size = 8))) -> plots\n",
    "(plots$p1 + plots$p2) / (plots$p3 + plots$p4) "
   ]
  },
  {
   "cell_type": "code",
   "execution_count": null,
   "metadata": {},
   "outputs": [],
   "source": []
  }
 ],
 "metadata": {
  "celltoolbar": "Slideshow",
  "kernelspec": {
   "display_name": "R",
   "language": "R",
   "name": "ir"
  },
  "language_info": {
   "codemirror_mode": "r",
   "file_extension": ".r",
   "mimetype": "text/x-r-source",
   "name": "R",
   "pygments_lexer": "r",
   "version": "3.6.1"
  }
 },
 "nbformat": 4,
 "nbformat_minor": 4
}
