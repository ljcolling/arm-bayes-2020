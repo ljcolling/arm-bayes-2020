{
 "cells": [
  {
   "cell_type": "markdown",
   "metadata": {},
   "source": [
    "# Table of Contents\n",
    "\n",
    "## Workshop topics\n",
    "\n",
    "The topics for [Part 1](part1.ipynb) are as follows:\n",
    "\n",
    "1. [Introduction](part1.ipynb#Introduction)\n",
    "2. [The p value](part1.ipynb#The-p-value)\n",
    "    1. [Probability](part1.ipynb#Probability)\n",
    "    2. [Probability and *p* values](part1.ipynb#Probability-and-p-values)\n",
    "        1. [Understanding the *p* through simulation](part1.ipynb#Understanding-the-p-through-simulation)\n",
    "            1. [Finding treasure](part1.ipynb#Finding-treasure)\n",
    "            2. [Using our device](part1.ipynb#Using-our-device)\n",
    "    3. [Interim summary](part1.ipynb#Interim-summary)\n",
    "3. [A short note on confidence intervals](part1.ipynb#A-short-note-on-confidence-intervals)\n",
    "\n",
    "\n"
   ]
  },
  {
   "cell_type": "markdown",
   "metadata": {},
   "source": [
    "The topics for [Part 2](part2.ipynb) are as follows:\n",
    "\n",
    "1. [Criticisms of *p* values](part2.ipynb#Criticisms-of-p-values)\n",
    "    1. [Same measurements from different devices](part2.ipynb#Same-measurements-from-different-devices)\n",
    "    2. [The universe of possible events](part2.ipynb#The-universe-of-possible-events)"
   ]
  },
  {
   "cell_type": "markdown",
   "metadata": {},
   "source": [
    "The topics for [Part 3](part1.ipynb) are as follows:\n",
    "\n",
    "1. [The evidential alternative to *p* values](part3.ipynb#The-evidential-alternative-to-p-values)\n",
    "    1. [A theory of statistical evidence](part3.ipynb#A-theory-of-statistical-evidence)\n",
    "        1. [Some features of likelihoods](part3.ipynb#Some-features-of-likelihoods)\n",
    "        2. [Likelihoods and statistical evidence](part3.ipynb#Likelihoods-and-statistical-evidence)\n",
    "        3. [Are all sub-hypotheses equal?](part3.ipynb#Are-all-sub-hypotheses-equal?)\n",
    "        "
   ]
  },
  {
   "cell_type": "markdown",
   "metadata": {},
   "source": [
    "The topics for [Part 4](part4.ipynb) are as follows:\n",
    "\n",
    "1. [Bayes rule](part4.ipynb#Bayes-rule)\n",
    "    1. [What is Bayes rule](part4.ipynb#What-is-Bayes-rule)\n",
    "        1. [Conditional probability form](part4.ipynb#Conditional-probability-form)\n",
    "        2. [Proportional form](part4.ipynb#Proportional-form)\n",
    "        3. [Ratio form](part4.ipynb#Ratio-form)\n",
    "    2. [Bayes factor](part4.ipynb#Bayes-factor)\n",
    "  "
   ]
  },
  {
   "cell_type": "markdown",
   "metadata": {},
   "source": [
    "The topics for [Part 5](part5.ipynb) are as follows:\n",
    "\n",
    "1. [Choosing priors Part I](part5.ipynb#Choosing-priors-Part-I)\n",
    "    1. [Priors with specific mathematical properties](part5.ipynb#Priors-with-specific-mathematical-properties)\n",
    "    2. [Priors that reflect ignorance](part5.ipynb#Priors-that-reflect-ignorance)\n",
    "    3. [Priors that reflect our beliefs about the world](part5.ipynb#Priors-that-reflect-our-beliefs-about-the-world.)"
   ]
  },
  {
   "cell_type": "markdown",
   "metadata": {},
   "source": [
    "The topics for [Part 6](part6.ipynb) are as follows:\n",
    "1. [Computing Bayes factors Part I](part6.ipynb#Computing-Bayes-factors-Part-I)\n",
    "    1. [Priors on effect sizes](part6.ipynb#Priors-on-effect-sizes)"
   ]
  },
  {
   "cell_type": "markdown",
   "metadata": {},
   "source": [
    "The topics for [Part 7](part7.ipynb) are as follows:\n",
    "1. [Computing Bayes factors Part II](part7.ipynb#Computing-Bayes-factors-Part-II)\n",
    "    1. [Priors on raw effects](part7.ipynb#Priors-on-raw-effects)"
   ]
  },
  {
   "cell_type": "markdown",
   "metadata": {},
   "source": [
    "The topics for [Part 8](part8.ipynb) are as follows:\n",
    "\n",
    "1. [Basic intro to Markov chain Monte Carlo (MCMC) methods](part8.ipynb#Basic-intro-to-Markov-chain-Monte-Carlo-(MCMC)-methods)\n",
    "    1. [Adding priors to our estimates](part8.ipynb#Adding-priors-to-our-estimates)"
   ]
  },
  {
   "cell_type": "markdown",
   "metadata": {},
   "source": [
    "The topics for [Part 9](Part9.ipynb) are as follows:\n",
    "\n",
    "1. [Computing simple posteriors](part9.ipynb#Computing-simple-posteriors)\n",
    "    1. [Regression in R](part9.ipynb#Regression-in-R)\n",
    "        1. [Doing inference with posteriors](part9.ipynb#Doing-inference-with-posteriors)\n",
    "    2. [Estimating means for one sample problems](part9.ipynb#Estimating-means-for-one-sample-problems)\n",
    "    3. [Estimating means for two sample problems](part9.ipynb#Estimating-means-for-two-sample-problems)\n",
    "    4. [Estimating correlations](part9.ipynb#Estimating-correlations)"
   ]
  },
  {
   "cell_type": "markdown",
   "metadata": {},
   "source": [
    "The topics for [Part 10](part10.ipynb) are as follows:\n",
    "\n",
    "1. [Regression](part10.ipynb#Regression)\n",
    "    1. [Over-fitting and under-fitting](part10.ipynb#Over-fitting-and-under-fitting)\n",
    "    2. [Model performance](part10.ipynb#Model-performance)\n",
    "    3. [Using WAIC and LOOIC](part10.ipynb#Using-WAIC-and-LOOIC)\n",
    "    4. [Model averaging](part10.ipynb#Model-averaging)"
   ]
  },
  {
   "cell_type": "markdown",
   "metadata": {},
   "source": [
    "The topics of [Part 11](part11.ipynb) are as follows:\n",
    "\n",
    "1. [Priors II](part11.ipynb#Priors-II)\n",
    "    1. [Priors that help model fits](part11.ipynb#Priors-that-help-model-fits)\n",
    "    2. [General advice on priors](part11.ipynb#General-advice-on-priors)"
   ]
  },
  {
   "cell_type": "markdown",
   "metadata": {},
   "source": [
    "## Appendices"
   ]
  },
  {
   "cell_type": "markdown",
   "metadata": {},
   "source": [
    "[Using the `bayesplay` package](bayesplay_guide.ipynb#Using-the-bayesplay-package)\n",
    "\n",
    "[Bayesian data analysis workshop 2020](assignment.ipynb#Bayesian-data-analysis-workshop-2020)"
   ]
  }
 ],
 "metadata": {
  "kernelspec": {
   "display_name": "R",
   "language": "R",
   "name": "ir"
  },
  "language_info": {
   "codemirror_mode": "r",
   "file_extension": ".r",
   "mimetype": "text/x-r-source",
   "name": "R",
   "pygments_lexer": "r",
   "version": "3.6.1"
  }
 },
 "nbformat": 4,
 "nbformat_minor": 4
}
