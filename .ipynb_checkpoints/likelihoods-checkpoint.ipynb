{
 "cells": [
  {
   "cell_type": "markdown",
   "metadata": {},
   "source": [
    "# Likelihoods"
   ]
  },
  {
   "cell_type": "code",
   "execution_count": 3,
   "metadata": {},
   "outputs": [
    {
     "name": "stderr",
     "output_type": "stream",
     "text": [
      "Loading required package: tidyverse\n",
      "\n",
      "── \u001b[1mAttaching packages\u001b[22m ─────────────────────────────────────── tidyverse 1.3.0 ──\n",
      "\n",
      "\u001b[32m✔\u001b[39m \u001b[34mggplot2\u001b[39m 3.2.1     \u001b[32m✔\u001b[39m \u001b[34mpurrr  \u001b[39m 0.3.3\n",
      "\u001b[32m✔\u001b[39m \u001b[34mtibble \u001b[39m 2.1.3     \u001b[32m✔\u001b[39m \u001b[34mdplyr  \u001b[39m 0.8.3\n",
      "\u001b[32m✔\u001b[39m \u001b[34mtidyr  \u001b[39m 1.0.0     \u001b[32m✔\u001b[39m \u001b[34mstringr\u001b[39m 1.4.0\n",
      "\u001b[32m✔\u001b[39m \u001b[34mreadr  \u001b[39m 1.3.1     \u001b[32m✔\u001b[39m \u001b[34mforcats\u001b[39m 0.4.0\n",
      "\n",
      "── \u001b[1mConflicts\u001b[22m ────────────────────────────────────────── tidyverse_conflicts() ──\n",
      "\u001b[31m✖\u001b[39m \u001b[34mdplyr\u001b[39m::\u001b[32mfilter()\u001b[39m masks \u001b[34mstats\u001b[39m::filter()\n",
      "\u001b[31m✖\u001b[39m \u001b[34mdplyr\u001b[39m::\u001b[32mlag()\u001b[39m    masks \u001b[34mstats\u001b[39m::lag()\n",
      "\n",
      "Loading required package: patchwork\n",
      "\n"
     ]
    }
   ],
   "source": [
    "require(tidyverse)\n",
    "require(patchwork)"
   ]
  },
  {
   "cell_type": "code",
   "execution_count": 3,
   "metadata": {},
   "outputs": [],
   "source": [
    "x = 2 # heads\n",
    "n = 3 # total\n",
    "t = n - x # tails"
   ]
  },
  {
   "cell_type": "code",
   "execution_count": 6,
   "metadata": {},
   "outputs": [],
   "source": [
    "p = .5"
   ]
  },
  {
   "cell_type": "code",
   "execution_count": 58,
   "metadata": {},
   "outputs": [
    {
     "data": {
      "text/html": [
       "0.24609375"
      ],
      "text/latex": [
       "0.24609375"
      ],
      "text/markdown": [
       "0.24609375"
      ],
      "text/plain": [
       "[1] 0.2460938"
      ]
     },
     "metadata": {},
     "output_type": "display_data"
    }
   ],
   "source": [
    "x = 5; t = 5; n = x + t; p = 0.5; choose(n,x) * p^x * (1 - p)^(n-x)"
   ]
  },
  {
   "cell_type": "code",
   "execution_count": 11,
   "metadata": {},
   "outputs": [
    {
     "data": {
      "text/html": [
       "0.145998001098633"
      ],
      "text/latex": [
       "0.145998001098633"
      ],
      "text/markdown": [
       "0.145998001098633"
      ],
      "text/plain": [
       "[1] 0.145998"
      ]
     },
     "metadata": {},
     "output_type": "display_data"
    }
   ],
   "source": [
    "x = 6; t = 4; n = x + t; p = 0.75; choose(n,x) * p^x * (1 - p)^(n-x)"
   ]
  },
  {
   "cell_type": "code",
   "execution_count": 12,
   "metadata": {},
   "outputs": [
    {
     "data": {
      "text/html": [
       "0.145998001098633"
      ],
      "text/latex": [
       "0.145998001098633"
      ],
      "text/markdown": [
       "0.145998001098633"
      ],
      "text/plain": [
       "[1] 0.145998"
      ]
     },
     "metadata": {},
     "output_type": "display_data"
    }
   ],
   "source": [
    "dbinom(x = 6, 10, .75)"
   ]
  },
  {
   "cell_type": "code",
   "execution_count": 43,
   "metadata": {},
   "outputs": [],
   "source": [
    "\n",
    "n = 10 # number of flips \n",
    "p = 0.5 # probability of heads\n",
    "flip_coins<-function(n,p){\n",
    "    purrr::rbernoulli(n = n, p = p) %>% \n",
    "    enframe() %>% \n",
    "    summarise(x = sum(value), n = n())\n",
    "}"
   ]
  },
  {
   "cell_type": "code",
   "execution_count": 59,
   "metadata": {},
   "outputs": [],
   "source": [
    "map_df(1:10000, function(x) flip_coins(10,.5)) -> x100_flips"
   ]
  },
  {
   "cell_type": "code",
   "execution_count": 73,
   "metadata": {},
   "outputs": [
    {
     "data": {
      "text/html": [
       "0.2098"
      ],
      "text/latex": [
       "0.2098"
      ],
      "text/markdown": [
       "0.2098"
      ],
      "text/plain": [
       "[1] 0.2098"
      ]
     },
     "metadata": {},
     "output_type": "display_data"
    }
   ],
   "source": [
    "X = 6; T = 4; N = X + T; P = 0.5;\n",
    "furrr::future_map_dfr(1:10000, function(x) flip_coins(N,P)) %>% \n",
    "       mutate(match = case_when(x == X ~ 1, TRUE ~ 0)) %>% pull(match) %>% mean()"
   ]
  },
  {
   "cell_type": "code",
   "execution_count": 74,
   "metadata": {},
   "outputs": [
    {
     "data": {
      "text/html": [
       "0.205078125"
      ],
      "text/latex": [
       "0.205078125"
      ],
      "text/markdown": [
       "0.205078125"
      ],
      "text/plain": [
       "[1] 0.2050781"
      ]
     },
     "metadata": {},
     "output_type": "display_data"
    }
   ],
   "source": [
    "choose(N,X) * P^X * (1 - P)^(N-X)"
   ]
  },
  {
   "cell_type": "code",
   "execution_count": 75,
   "metadata": {},
   "outputs": [
    {
     "data": {
      "text/html": [
       "0.205078125"
      ],
      "text/latex": [
       "0.205078125"
      ],
      "text/markdown": [
       "0.205078125"
      ],
      "text/plain": [
       "[1] 0.2050781"
      ]
     },
     "metadata": {},
     "output_type": "display_data"
    }
   ],
   "source": [
    "dbinom(6, , P)"
   ]
  },
  {
   "cell_type": "code",
   "execution_count": 148,
   "metadata": {},
   "outputs": [],
   "source": [
    "n = 10 # number of flips\n",
    "h = 3 # number of heads\n",
    "t = n - h # number of tails\n",
    "h1 = 0.3 # the probability of getting heads is 0.5\n",
    "h2 = 0.9 # the probability of getting heads is 0.7"
   ]
  },
  {
   "cell_type": "code",
   "execution_count": 149,
   "metadata": {},
   "outputs": [
    {
     "data": {
      "text/markdown": [
       "The likelihood under $\\mathcal{H}_1$ ($Pr_{heads}$ = 0.3) is 0.27  \n",
       "The likelihood under $\\mathcal{H}_2$ ($Pr_{heads}$ = 0.9) is 0   \n",
       "The likelihood ratio is 30501.59  \n",
       "The data are 30501.59 times more probable under $\\mathcal{H}_1$ than $\\mathcal{H}_2$"
      ]
     },
     "metadata": {},
     "output_type": "display_data"
    }
   ],
   "source": [
    "dbinom(h,n, h1) -> L1\n",
    "dbinom(h,n, h2) -> L2\n",
    "glue::glue(\"The likelihood under $\\\\mathcal{{H}}_1$ ($Pr_{{heads}}$ = {h1}) is {round(L1,2)}  \n",
    "The likelihood under $\\\\mathcal{{H}}_2$ ($Pr_{{heads}}$ = {h2}) is {round(L2,2)}   \n",
    "The likelihood ratio is {round(L1/L2,2)}  \n",
    "The data are {round(L1/L2,2)} times more probable under $\\\\mathcal{{H}}_1$ than $\\\\mathcal{{H}}_2$\") %>% \n",
    "IRdisplay::display_markdown()"
   ]
  },
  {
   "cell_type": "code",
   "execution_count": 150,
   "metadata": {},
   "outputs": [
    {
     "data": {
      "text/markdown": [
       "The likelihood under $\\mathcal{H}_1$ ($Pr_{heads}$ = 0.3) is 0.08  \n",
       "The likelihood under $\\mathcal{H}_2$ ($Pr_{heads}$ = 0.9) is 0   \n",
       "The likelihood ratio is 30501.59  \n",
       "The data are 30501.59 times more probable under $\\mathcal{H}_1$ than $\\mathcal{H}_2$"
      ]
     },
     "metadata": {},
     "output_type": "display_data"
    }
   ],
   "source": [
    "dnbinom(t,h,h1) -> L1\n",
    "dnbinom(t,h,h2) -> L2\n",
    "glue::glue(\"The likelihood under $\\\\mathcal{{H}}_1$ ($Pr_{{heads}}$ = {h1}) is {round(L1,2)}  \n",
    "The likelihood under $\\\\mathcal{{H}}_2$ ($Pr_{{heads}}$ = {h2}) is {round(L2,2)}   \n",
    "The likelihood ratio is {round(L1/L2,2)}  \n",
    "The data are {round(L1/L2,2)} times more probable under $\\\\mathcal{{H}}_1$ than $\\\\mathcal{{H}}_2$\") %>% \n",
    "IRdisplay::display_markdown()"
   ]
  },
  {
   "cell_type": "code",
   "execution_count": 188,
   "metadata": {},
   "outputs": [
    {
     "data": {
      "text/markdown": [
       "Our $\\mathcal{H}_1: Pr_{heads} = 0.5$   \n",
       "Our $\\mathcal{H}_2: Pr_{heads} = 0; 0.1; 0.2; 0.3; 0.4; 0.5; 0.6; 0.7; 0.8; 0.9; 1$  \n",
       "Our 10 likelihood ratios are: 0, 0.49, 1.72, 2.28, 1.83, 1, 0.36, 0.08, 0.01, 0, 0   \n",
       "The average likelihood ratio is 1.42   \n",
       "The data are 1.42 times more probable under $\\mathcal{H}_1$ than $\\mathcal{H}_2$"
      ]
     },
     "metadata": {},
     "output_type": "display_data"
    }
   ],
   "source": [
    "h1 = 0.5\n",
    "h2 = seq(0,1,1/n) \n",
    "LR1 = dbinom(h,n,h1) \n",
    "LR2 = dbinom(h,n,h2) \n",
    "\n",
    "LRs = glue::glue_collapse(round(LR2 / LR1,2), \", \")\n",
    "avg_LR = 1/(mean(LR2) / LR1)\n",
    "glue::glue(\"Our $\\\\mathcal{{H}}_1: Pr_{{heads}} = {h1}$   \n",
    "Our $\\\\mathcal{{H}}_2: Pr_{{heads}} = {glue::glue_collapse(h2,'; ')}$  \n",
    "Our {n} likelihood ratios are: {LRs}   \n",
    "The average likelihood ratio is {round(avg_LR,2)}   \n",
    "The data are {round(avg_LR,2)} times more probable under $\\\\mathcal{{H}}_1$ than $\\\\mathcal{{H}}_2$\") %>%\n",
    "IRdisplay::display_markdown()"
   ]
  },
  {
   "cell_type": "code",
   "execution_count": 173,
   "metadata": {},
   "outputs": [
    {
     "data": {
      "text/html": [
       "0.70593373090909"
      ],
      "text/latex": [
       "0.70593373090909"
      ],
      "text/markdown": [
       "0.70593373090909"
      ],
      "text/plain": [
       "[1] 0.7059337"
      ]
     },
     "metadata": {},
     "output_type": "display_data"
    }
   ],
   "source": []
  },
  {
   "cell_type": "code",
   "execution_count": null,
   "metadata": {},
   "outputs": [],
   "source": []
  },
  {
   "cell_type": "code",
   "execution_count": 156,
   "metadata": {},
   "outputs": [
    {
     "data": {
      "text/html": [
       "<span style=white-space:pre-wrap>'Our $\\\\mathcal{{H}}_1: Pr_{{heads}} = {h1}$   \\nOur $\\\\mathcal{{H}}_1: Pr_{{heads}} = {h2}$'</span>"
      ],
      "text/latex": [
       "'Our \\$\\textbackslash{}\\textbackslash{}mathcal\\{\\{H\\}\\}\\_1: Pr\\_\\{\\{heads\\}\\} = \\{h1\\}\\$   \\textbackslash{}nOur \\$\\textbackslash{}\\textbackslash{}mathcal\\{\\{H\\}\\}\\_1: Pr\\_\\{\\{heads\\}\\} = \\{h2\\}\\$'"
      ],
      "text/markdown": [
       "<span style=white-space:pre-wrap>'Our $\\\\mathcal{{H}}_1: Pr_{{heads}} = {h1}$   \\nOur $\\\\mathcal{{H}}_1: Pr_{{heads}} = {h2}$'</span>"
      ],
      "text/plain": [
       "Our $\\mathcal{{H}}_1: Pr_{{heads}} = {h1}$   \n",
       "Our $\\mathcal{{H}}_1: Pr_{{heads}} = {h2}$"
      ]
     },
     "metadata": {},
     "output_type": "display_data"
    }
   ],
   "source": [
    "glue::glue(\"Our $\\\\mathcal{{H}}_1: Pr_{{heads}} = {h1}$   \n",
    "Our $\\\\mathcal{{H}}_1: Pr_{{heads}} = {h2}$\")"
   ]
  },
  {
   "cell_type": "code",
   "execution_count": 175,
   "metadata": {},
   "outputs": [
    {
     "data": {
      "text/html": [
       "0.70593373090909"
      ],
      "text/latex": [
       "0.70593373090909"
      ],
      "text/markdown": [
       "0.70593373090909"
      ],
      "text/plain": [
       "[1] 0.7059337"
      ]
     },
     "metadata": {},
     "output_type": "display_data"
    }
   ],
   "source": [
    "mean(LR2 / LR1)"
   ]
  },
  {
   "cell_type": "markdown",
   "metadata": {},
   "source": [
    "Let's formalise this idea a bit. First, we'll drop the terminology *hypothesis*, and replace it with *model*. And we'll say that our data favours $\\mathcal{M_1}$ over $\\mathcal{M_2}$ by a factor of $\\frac{\\mathcal{M}_1}{\\mathcal{M}_2}$. And second, we'll say that the value of $\\mathcal{M}_H$ is going to be the average likelihood of all the $n$ sub-hypotheses ($\\Theta=\\left \\{ \\theta_1, \\theta_2,\\ldots\\theta_n\\right \\}$)  that make up $\\mathcal{M}_M$. Or, \n",
    "\n",
    " $$\\mathcal{M}_H = \\sum_{i=1}^{n}\\mathcal{L}_H(\\theta_i|\\mathbf{y})\\frac{1}{n}$$   \n"
   ]
  },
  {
   "cell_type": "code",
   "execution_count": null,
   "metadata": {},
   "outputs": [],
   "source": [
    "M = \\sum_{i=1}^{n}f_H(\\theta_i;\\mathbf{y})\\frac{1}{n}\n"
   ]
  },
  {
   "cell_type": "code",
   "execution_count": 211,
   "metadata": {},
   "outputs": [
    {
     "data": {
      "text/html": [
       "TRUE"
      ],
      "text/latex": [
       "TRUE"
      ],
      "text/markdown": [
       "TRUE"
      ],
      "text/plain": [
       "[1] TRUE"
      ]
     },
     "metadata": {},
     "output_type": "display_data"
    },
    {
     "data": {
      "text/html": [
       "TRUE"
      ],
      "text/latex": [
       "TRUE"
      ],
      "text/markdown": [
       "TRUE"
      ],
      "text/plain": [
       "[1] TRUE"
      ]
     },
     "metadata": {},
     "output_type": "display_data"
    }
   ],
   "source": [
    "n = 10 # number of flips\n",
    "h = 5 # number of heads\n",
    "t = n - h # number of tails\n",
    "s1 = 10; s2 = 10\n",
    "theta_range = seq(0,1,1/n)\n",
    "\n",
    "\n",
    "w1 = map_dbl(theta_range, function(x) ifelse(x == 0.5, 1, 0))\n",
    "sum(w1)==1\n",
    "\n",
    "\n",
    "w2 = (dbeta(x = theta_range,s1,s2)) / sum(dbeta(x = theta_range,s1,s2))\n",
    "sum(w2)==1\n",
    "\n",
    "L1 = dbinom(h,n,theta_range)\n",
    "M1 =  L1 * w1\n",
    "L2 = dbinom(h,n,theta_range)\n",
    "M2 = L2 * w2\n",
    "BF = (mean(M1) / mean(M2))\n",
    "\n",
    "\n",
    "\n",
    "tibble(prior_1 = w1,\n",
    "       prior_2 = w2, \n",
    "       like_1 = L1, \n",
    "       like_2 = L2,\n",
    "       M_1 = M1,\n",
    "       M_2 = M2, \n",
    "       theta = theta_range) -> df\n",
    "  \n",
    "df %>% pivot_longer(names(df)[!(names(df) %in% \"theta\")],names_to = c(\"type\",\"model\"),names_sep = \"_\") -> df\n"
   ]
  },
  {
   "cell_type": "code",
   "execution_count": 213,
   "metadata": {},
   "outputs": [
    {
     "data": {
      "image/png": "[encoded data removed]",
      "text/plain": [
       "plot without title"
      ]
     },
     "metadata": {
      "image/png": {
       "height": 420,
       "width": 420
      }
     },
     "output_type": "display_data"
    }
   ],
   "source": [
    "\n",
    "\n",
    "df %>% ggplot(aes(x = theta, y = value, \n",
    "                  group = interaction(type,model),\n",
    "                  colour = type)) + \n",
    "  geom_point() + geom_line(linetype = 1, alpha = .15) + \n",
    "  geom_segment(. %>% filter(type == \"M\"), \n",
    "               mapping = aes(xend = theta), yend = 0) +\n",
    "  facet_wrap(.~model,nrow = 2, labeller = labeller(model = c(\"1\" = \"model 1\", \"2\" = \"model 2\"))) + \n",
    "  scale_color_manual(values = c(\"prior\" = \"red\", \"like\" = \"blue\", \"M\" = \"seagreen\"),\n",
    "                     name = NULL, labels = c(prior = 'prior', \n",
    "                                             like = \"likelihood\",\n",
    "                                             M = \"prior × likelihood\")) + \n",
    "  theme_minimal() + theme(legend.position = \"bottom\") + \n",
    "  scale_x_continuous(\"θ\") + scale_y_continuous(name = \"probability\", labels = NULL) + labs(title = \"Model comparison\",\n",
    "subtitle = sprintf(paste0(\"BF\\u2081\\u2082 = \",round(BF,2)),fmt = \"%s\"))"
   ]
  },
  {
   "cell_type": "code",
   "execution_count": null,
   "metadata": {},
   "outputs": [],
   "source": []
  },
  {
   "cell_type": "code",
   "execution_count": 204,
   "metadata": {},
   "outputs": [
    {
     "ename": "ERROR",
     "evalue": "Error in .f(.x[[i]], ...): object 'theta' not found\n",
     "output_type": "error",
     "traceback": [
      "Error in .f(.x[[i]], ...): object 'theta' not found\nTraceback:\n",
      "1. df %>% pivot_longer(!theta, names_to = c(\"type\", \"model\"), names_sep = \"_\")",
      "2. withVisible(eval(quote(`_fseq`(`_lhs`)), env, env))",
      "3. eval(quote(`_fseq`(`_lhs`)), env, env)",
      "4. eval(quote(`_fseq`(`_lhs`)), env, env)",
      "5. `_fseq`(`_lhs`)",
      "6. freduce(value, `_function_list`)",
      "7. withVisible(function_list[[k]](value))",
      "8. function_list[[k]](value)",
      "9. pivot_longer(., !theta, names_to = c(\"type\", \"model\"), names_sep = \"_\")",
      "10. build_longer_spec(data, !!cols, names_to = names_to, values_to = values_to, \n  .     names_prefix = names_prefix, names_sep = names_sep, names_pattern = names_pattern, \n  .     names_ptypes = names_ptypes)",
      "11. tidyselect::vars_select(unique(names(data)), !!enquo(cols))",
      "12. vars_select_eval(.vars, quos)",
      "13. map_if(ind_list, is_helper, eval_tidy)",
      "14. map(.x[sel], .f, ...)",
      "15. .f(.x[[i]], ...)"
     ]
    }
   ],
   "source": [
    "df %>% pivot_longer(!theta,names_to = c(\"type\",\"model\"),names_sep = \"_\") -> df\n"
   ]
  },
  {
   "cell_type": "code",
   "execution_count": 14,
   "metadata": {},
   "outputs": [],
   "source": [
    "bf_func<-function(h,n,s1,s2){\n",
    "  theta_range = seq(0,1,1/n)\n",
    "\n",
    "  w1 = map_dbl(theta_range, function(x) ifelse(x == 0.5, 1, 0))\n",
    "  w2 = (dbeta(x = theta_range,s1,s2)) / sum(dbeta(x = theta_range,s1,s2))\n",
    "\n",
    "\n",
    "  L1 = dbinom(h,n,0.5)\n",
    "  M1 =  L1 * w1\n",
    "  \n",
    "  L2 = dbinom(h,n,theta_range)\n",
    "  M2 = L2 * w2\n",
    "  BF = (mean(M1) / mean(M2))\n",
    "  \n",
    "  tibble(x =theta_range, \n",
    "         y = w2) -> dat \n",
    "  ggplot(data = dat, aes(x = x, y = y)) + \n",
    "       geom_line() + \n",
    "        geom_vline(xintercept = h/n, linetype = 2, alpha = .3) +\n",
    "    labs(x = \"θ\", y = \"p(θ)\", title = glue::glue(\"BF M1/M2 = {round(BF,2)}\")) + \n",
    "    theme_minimal() -> p\n",
    "  return(p)\n",
    "}"
   ]
  },
  {
   "cell_type": "code",
   "execution_count": 15,
   "metadata": {},
   "outputs": [
    {
     "data": {
      "image/png": "[encoded data removed]",
      "text/plain": [
       "plot without title"
      ]
     },
     "metadata": {
      "image/png": {
       "height": 420,
       "width": 420
      }
     },
     "output_type": "display_data"
    }
   ],
   "source": [
    "h = 7; n = 10; \n",
    "\n",
    "bf_func(h,n,1,1) +\n",
    "bf_func(h,n,2,1) +\n",
    "bf_func(h,n,2,2) +\n",
    "bf_func(h,n,10,10) %>% \n",
    "  wrap_plots() + plot_annotation(title = glue::glue(\"BFs for observing {h} heads in {n} flips\"))"
   ]
  },
  {
   "cell_type": "code",
   "execution_count": 236,
   "metadata": {},
   "outputs": [
    {
     "data": {
      "image/png": "[encoded data removed]",
      "text/plain": [
       "plot without title"
      ]
     },
     "metadata": {
      "image/png": {
       "height": 420,
       "width": 420
      }
     },
     "output_type": "display_data"
    }
   ],
   "source": [
    "bf_func(h,n,1,1)"
   ]
  },
  {
   "cell_type": "code",
   "execution_count": null,
   "metadata": {},
   "outputs": [],
   "source": []
  }
 ],
 "metadata": {
  "kernelspec": {
   "display_name": "R",
   "language": "R",
   "name": "ir"
  },
  "language_info": {
   "codemirror_mode": "r",
   "file_extension": ".r",
   "mimetype": "text/x-r-source",
   "name": "R",
   "pygments_lexer": "r",
   "version": "3.6.1"
  }
 },
 "nbformat": 4,
 "nbformat_minor": 4
}
