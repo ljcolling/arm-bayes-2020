{
 "cells": [
  {
   "cell_type": "code",
   "execution_count": 1,
   "metadata": {},
   "outputs": [],
   "source": [
    "bayesplay::loadpackages()"
   ]
  },
  {
   "cell_type": "markdown",
   "metadata": {},
   "source": [
    "# Introduction\n",
    "\n",
    "The aim of this course is to give you an introduction to Bayesian statistics. It is by no means intended to be an exhaustive course, so at the end of it, there will still be a lot for you to learn. However, I do hope that at the end of this workshop you’ll have a better understanding of Bayesian statistics, how it differs from Frequentist approaches, and how to incorporate some Bayesian methods into your research. \n",
    "\n",
    "The course will cover several topics, including the foundations of Frequentist and Bayesian approaches to statistics, how to calculate Bayes factors, Bayesian estimation, and Bayesian regression modelling. "
   ]
  },
  {
   "cell_type": "markdown",
   "metadata": {},
   "source": [
    "# The *p* value\n",
    "\n",
    "The American Statistical Association (ASA) defines a *p* value as:\n",
    "\n",
    "> the probability under a specified statistical model that a statistical summary of the data (e.g., the sample mean difference between two compared groups) would be equal to or more extreme than its observed value ([Wasserstein and Lazar 2016](https://doi.org/10.1080/00031305.2016.1154108))\n",
    "\n",
    "While this is a perfectly acceptable definition, it is maybe a little tricky to understand. The main reason for this is that the definition contains at least one *ill-defined concept* (\"probability\") and one tricky concept (\"specified statistical model\"). To understand what a *p* value really is, we're going to have to unpack both of these ideas. Along the way, we're going to learn about some other concepts that will also help us understand *Frequentist* inference. And a good grounding in Frequentist inference will also help us understand the distinction between Frequentist inference and Bayesian inference. \n",
    "\n",
    "## Probability\n",
    "\n",
    "Most people think of *probability* as a mathematical concept. In a sense it is, but it is also a deeply *philosophical* concept. We deploy the word *probability* in many different *kinds* of situations, and it's not clear whether we mean the same thing in each of them. Some examples of where we use the word probability are when we ask questions like: What is the probability of getting heads on repeated tosses of a fair coin?  What is the probability that it will rain tomorrow? What is the probability the accused committed the crime? The word *probability* seemingly refers to different things in each of these situations. \n",
    "\n",
    "For example, we might suggest that the probability of the getting heads is 0.5, where this 0.5 refers to the *long-run relative frequency* of getting heads. That is, if we were to toss a coin many many times then on around 0.5 (i.e., half) of the tosses the coin would come up heads.\n",
    "\n",
    "We might use a different notion when thinking about the case of somebody accused of a crime. We might say something like, \"we are 90% sure\" (probability of .9) that the criminal committed the crime. But what does \"90% sure\" mean. Does it make sense to think of it as the *relative frequency*? If not, then how else might we think of it? We might, for example, think of it as a *credence* or a *degree of belief* that the proposition is true. Or we might think of it as a *degree of support*. That is, we might say that the available evidence supports the hypothesis that the accused committed the crime with odds of 9-to-1.\n",
    "\n",
    "This list isn't meant to be exhaustive. The aim is just to highlight that we might sometimes mean different things when we think about probability. It pays to keep this in minds as we move through the course. \n",
    "\n",
    "## Probability and *p* values\n",
    "\n",
    "Now that we know that *probability* can mean different things in different situations, what notion of *probability* is at play in ASA's definition of the *p* value? The common view is to say that it refers to *relative frequencies*. But relative frequencies of **what** over repeats of **what**?  \n",
    "\n",
    "> the p value refers to the relative frequency of obtaining a statistical summary of the data as large or larger than the observed value over hypothetical repeats of an experiment described by a specified statistical model\n",
    "\n",
    "### Understanding the *p* through simulation\n",
    "\n",
    "To understand how *p* values work, let's start with a little scenario: \n",
    "\n",
    "\n",
    "> You've been given a device that can be used to find buried treasure. The device has a numbered dial on it, and there is a little arrow that can point at these numbers. The indicator never stays still, but swings around a bit. You don't know how the device works, except that it behaves *differently* around treasure compared with when there is no treasure present. How can you use this device to find treasure?\n",
    "\n",
    "This seems like a hard problem. You know very little about the device. You don't know what it's meant to do when it finds treasure, and you don't know what it's meant to do when there isn't any treasure. So how do you go about using it to find treasure?\n",
    "\n",
    "#### Finding treasure \n",
    "\n",
    "The first step in using the device is to get a good description of what it does when there isn't any treasure around. To do this, you might just take your device somewhere without treasure. You can then just sit and watch the dial. After a long time watching it, you might notice that although the pointer swings around a lot, *on average* it points at zero. This one bit of information is enough to develop a treasure hunting strategy using this device. \n",
    "\n",
    "The first step in the strategy is deciding how many readings to take on each hunt. Because the pointer swings around a lot, we'll need to take a couple of readings and then use these to work out an average (which we'll call $\\bar{x}$). We're in a hurry so we'll take **10** readings on each hunt. \n",
    "\n",
    "Next, we'll need to scale our average. If our average is 1, then is this close to 0? How about 0.5? Or 5? Or 15? It's impossible to know because you don't know how big the average range of the dial's swings. So your scaling factor should be proportional to the magnitude of the average deviations you've observed (we'll call this scaling factor $s_{\\bar{x}}$).\n",
    "\n",
    "With this information in hand, we have enough to build a statistical model of our device's behaviour. To do this, we just go where there is no treasure and perform the following steps: 1) Take 10 readings; 2) work out an average ($\\bar{x}$); 3) scale it by our scaling factor ($s_{\\bar{x}}$); write down our scaled measurement (which we'll call $t$), and repeat!  Once we've done this many many times, then we'll have a nice distribution or statistical model of how our device behaves when there isn't any treasure. Of course, we don't have to do this for real. We can just simulate it! Feel free to play around with the simulation, to change the numbers, and to see how this influences our statistical model. \n"
   ]
  },
  {
   "cell_type": "code",
   "execution_count": 2,
   "metadata": {},
   "outputs": [],
   "source": [
    "# 1\n",
    "# run this chunk to set up the simulation function\n",
    "\n",
    "set.seed(612) # Set the seed for reproducibility\n",
    "\n",
    "run.exp = function(sample_size, average){\n",
    "  # define function for running and experiment\n",
    "  \n",
    "      \n",
    "    # we don't know how much the pointer actually swings around,\n",
    "    # so lets just pick a random range between 1 and 10!\n",
    "    dev = runif(1,1,10); min_possible = 0 -dev; max_possible = 0 + dev\n",
    "  \n",
    "    # generate a sample of readings\n",
    "    this_sample = runif(sample_size, min_possible, max_possible)\n",
    "  \n",
    "  # make descriptive stats\n",
    "  tibble::tibble(sample_mean = mean(this_sample), \n",
    "                 sample_sd = sd(this_sample), \n",
    "                 n = sample_size,\n",
    "                 se = sample_sd / sqrt(sample_size))\n",
    "}"
   ]
  },
  {
   "cell_type": "code",
   "execution_count": 3,
   "metadata": {},
   "outputs": [
    {
     "name": "stdout",
     "output_type": "stream",
     "text": [
      "Observations: 100,000\n",
      "Variables: 5\n",
      "$ sample_mean \u001b[3m\u001b[38;5;246m<dbl>\u001b[39m\u001b[23m -0.4030105, 0.1820626, 2.3305358, 0.3917287, 1.6935829, 1…\n",
      "$ sample_sd   \u001b[3m\u001b[38;5;246m<dbl>\u001b[39m\u001b[23m 0.7426556, 5.3153527, 4.5442619, 1.5272638, 5.5502626, 3.…\n",
      "$ n           \u001b[3m\u001b[38;5;246m<dbl>\u001b[39m\u001b[23m 10, 10, 10, 10, 10, 10, 10, 10, 10, 10, 10, 10, 10, 10, 1…\n",
      "$ se          \u001b[3m\u001b[38;5;246m<dbl>\u001b[39m\u001b[23m 0.2348483, 1.6808621, 1.4370218, 0.4829632, 1.7551471, 1.…\n",
      "$ i           \u001b[3m\u001b[38;5;246m<int>\u001b[39m\u001b[23m 1, 2, 3, 4, 5, 6, 7, 8, 9, 10, 11, 12, 13, 14, 15, 16, 17…\n"
     ]
    }
   ],
   "source": [
    "# 2\n",
    "# run this chunk to actually run the simulations!\n",
    "\n",
    "# set up to run in parallel\n",
    "inParallel = FALSE #  set to TRUE for local or FALSE for cloud\n",
    "if(inParallel){\n",
    "future::plan(multiprocess)\n",
    "no_of_exps = 100000 # Set the number of experiments to simulate\n",
    "map_df <- furrr::future_map_dfr\n",
    "} else {\n",
    "   no_of_exps =  1000\n",
    "}\n",
    "\n",
    "\n",
    "all_exps <- map_df(1:no_of_exps, function(x) \n",
    "  run.exp(sample_size = 10, average = 0) %>% dplyr::mutate(i = x)) # run the experiments\n",
    "\n",
    "dplyr::glimpse(all_exps) # view the results"
   ]
  },
  {
   "cell_type": "code",
   "execution_count": 4,
   "metadata": {},
   "outputs": [
    {
     "data": {
      "image/png": "[encoded data removed]",
      "text/plain": [
       "plot without title"
      ]
     },
     "metadata": {
      "image/png": {
       "height": 420,
       "width": 420
      }
     },
     "output_type": "display_data"
    }
   ],
   "source": [
    "# 3\n",
    "# run this chunk to view some plots of our simulations\n",
    "all_exps = all_exps %>% mutate(t = (sample_mean * sqrt(n)) / sample_sd)\n",
    "\n",
    "# make a histogram of the unscaled averages\n",
    "all_exps %>% ggplot(aes(x = sample_mean)) + geom_histogram(fill = \"seagreen\",bins = 100, na.rm = TRUE) +\n",
    "  labs(x = \"sample mean\", y = \"number of experiments\") + \n",
    "  xlim(c(-max(abs(all_exps$sample_mean)) * 1.10, max(abs(all_exps$sample_mean)) * 1.10)) +\n",
    "  theme_minimal(18) -> mean_hist\n",
    "\n",
    "# make a histograme of the scaled averages\n",
    "all_exps %>% ggplot(aes(x = t)) + geom_histogram(fill = \"seagreen\", bins = 100, na.rm = TRUE) +\n",
    "  labs(x = \"t stat\", y = \"number of experiments\") + xlim(c(-4,4)) +\n",
    "  theme_minimal(18) -> t_hist\n",
    "\n",
    "# convert the histogram of the scaled averages to a probability density\n",
    "tibble(x = seq(-4, 4, length.out = 10000)) %>% \n",
    "  mutate(y = dlogspline(x,logspline(all_exps$t))) %>%\n",
    "  ggplot(aes(x = x, y = y)) + geom_line(colour = \"darkblue\") +\n",
    "  labs(x = \"t\", y = \"density\") + xlim(c(-4,4)) +\n",
    "  theme_minimal(18) -> density_plot\n",
    "\n",
    "\n",
    "((mean_hist | t_hist) / density_plot ) + plot_annotation(tag_levels = \"A\")"
   ]
  },
  {
   "cell_type": "markdown",
   "metadata": {},
   "source": [
    "#### Using our device \n",
    "\n",
    "We can use our statistical model of our device (our distribution of *t* values) to come up with a method for finding treasure. Our statistical model tells us what readings we'll see when **we haven't found treasure** and **how often** we'll see those readings. In the absence of treasure we'll see readings near the middle of the distribution very often and readings near the tails of the distribution less often. We might even say that, in the absence of treasure, it would be pretty **surprising** to see an extreme reading. Now we don't know anything about how the device behaves when it's around treasure, but we know what readings would be *surprising* if it **wasn't** around treasure. \n",
    "\n",
    "We can use this fact to come up with a treasure hunting rule. When you see a **surprising** reading, dig for treasure. When you see an **unsurprising** reading, move on to the next spot. Let's try it out! "
   ]
  },
  {
   "cell_type": "code",
   "execution_count": 5,
   "metadata": {},
   "outputs": [
    {
     "data": {
      "text/markdown": [
       "Our 10 measurements are: 0.25; -0.54; -0.51; -0.75; 0.27; -1.62; -1.29; -0.21; 0.17; -0.83  \n",
       "           Our $\\bar{x}$ = -0.507  \n",
       "           Our $s_\\bar{x}$ = 0.204      \n",
       "This means that our scaled measurement, $t$ = -2.485"
      ]
     },
     "metadata": {},
     "output_type": "display_data"
    }
   ],
   "source": [
    "# 4\n",
    "# trying out our treasure hunting device\n",
    "set.seed(151); X = rnorm(10, runif(1,-10,10), runif(1));\n",
    "\n",
    "x_bar = mean(X) # work out an average\n",
    "s_x_bar = sd(X)/sqrt(length(X)) # work out the scaling factor\n",
    "t_value = x_bar / s_x_bar # work out the scaled measurement \n",
    "\n",
    "glue::glue(\"Our {length(X)} measurements are: {glue::glue_collapse(round(X,2),sep = '; ')}  \n",
    "           Our $\\\\bar{{x}}$ = {round(x_bar,3)}  \n",
    "           Our $s_\\\\bar{{x}}$ = {round(s_x_bar,3)}      \n",
    "This means that our scaled measurement, $t$ = {round(t_value,3)}\") %>% \n",
    "IRdisplay::display_markdown()"
   ]
  },
  {
   "cell_type": "markdown",
   "metadata": {},
   "source": [
    "Once we have our scaled reading, we can ask how **surprising** it is. To do this, we just compare it against the distribution of measurements that we generated when we weren't around treasure."
   ]
  },
  {
   "cell_type": "code",
   "execution_count": 6,
   "metadata": {},
   "outputs": [
    {
     "data": {
      "text/markdown": [
       "96.12% of values from our simulation where closer to zero than our current value.   \n",
       "Only 3.88% of values where further from zero than our current value."
      ]
     },
     "metadata": {},
     "output_type": "display_data"
    }
   ],
   "source": [
    "# 5\n",
    "# how surprising is our measurement\n",
    "\n",
    "# first convert it to an absolute value\n",
    "t_value = abs(t_value)\n",
    "\n",
    "larger_than_positive = mean(all_exps$t > t_value)\n",
    "smaller_than_negative = mean(all_exps$t < -t_value)\n",
    "\n",
    "further_from_zero = larger_than_positive + smaller_than_negative\n",
    "closer_to_zero = 1 - further_from_zero\n",
    "\n",
    "glue::glue(\"{round(closer_to_zero * 100,2)}% of values from our simulation where closer to zero than our current value.   \n",
    "Only {round(further_from_zero * 100, 2)}% of values where further from zero than our current value.\") %>%\n",
    "IRdisplay::display_markdown()"
   ]
  },
  {
   "cell_type": "markdown",
   "metadata": {},
   "source": [
    "Once we have a measurement of how surprising our value is, then we just need to set a threshold for when it's surprising enough to warrant digging. We'll call this threshold $\\alpha$, and we'll set it to 5% (for literally no reason in particular).  \n",
    "\n",
    "Now let's try using the rule. We'll do another simulation. We'll simulate many many hunts, and on each hunt there either will be treasure or there won't be treasure. Treasure will occur with the probability of $Pr_{\\mathrm{treasure}}$. We won't know this value, because we'll just randomly set it. For each hunt, we'll note done whether the rule told us to dig or move one. And we'll also record the ground truth to test the accuracy. "
   ]
  },
  {
   "cell_type": "code",
   "execution_count": 7,
   "metadata": {},
   "outputs": [],
   "source": [
    "# 6\n",
    "# testing our rule\n",
    "set.seed(14) # set seed for reproducibly\n",
    "if(inParallel){\n",
    "n_tests = 10000 # set the number of tests\n",
    "} else {\n",
    "n_tests = 1000    \n",
    "}\n",
    "Pr_treasure = runif(1) # Set the probablity of finding treasure\n",
    "\n",
    "simulate_hunt <- function(Pr_treasure){\n",
    "    \n",
    "    # Decide whether this hunt has treasure\n",
    "    has.treasure = ifelse(runif(1) < Pr_treasure, 1, 0) \n",
    "    \n",
    "    X = rnorm(10, has.treasure, 1.5) # generate 10 readings\n",
    "    \n",
    "    # work out the scaled measurement and how suprising it is\n",
    "    # and decide whether to dig or not!\n",
    "    t.test(X) %>% broom::tidy() %>%\n",
    "  mutate(has.treasure = ifelse(has.treasure == 1, \"Y\",\"N\"), \n",
    "         how.suprising = p.value, \n",
    "         dig = ifelse(p.value < 0.05, \"Y\",\"N\")) %>%\n",
    "  select(has.treasure, dig)\n",
    "    \n",
    "}\n",
    "\n",
    "set.seed(11) # set seed for reproducibly\n",
    "test_hunts = map_df(1:n_tests, function(x) simulate_hunt(Pr_treasure)) "
   ]
  },
  {
   "cell_type": "code",
   "execution_count": 8,
   "metadata": {},
   "outputs": [
    {
     "data": {
      "text/html": [
       "<table>\n",
       " <thead>\n",
       "  <tr>\n",
       "   <th style=\"text-align:left;\"> Had treasure? </th>\n",
       "   <th style=\"text-align:left;\"> Dig or not? </th>\n",
       "  </tr>\n",
       " </thead>\n",
       "<tbody>\n",
       "  <tr>\n",
       "   <td style=\"text-align:left;\"> N </td>\n",
       "   <td style=\"text-align:left;\"> N </td>\n",
       "  </tr>\n",
       "  <tr>\n",
       "   <td style=\"text-align:left;\"> N </td>\n",
       "   <td style=\"text-align:left;\"> N </td>\n",
       "  </tr>\n",
       "  <tr>\n",
       "   <td style=\"text-align:left;\"> N </td>\n",
       "   <td style=\"text-align:left;\"> N </td>\n",
       "  </tr>\n",
       "  <tr>\n",
       "   <td style=\"text-align:left;\"> Y </td>\n",
       "   <td style=\"text-align:left;\"> N </td>\n",
       "  </tr>\n",
       "  <tr>\n",
       "   <td style=\"text-align:left;\"> N </td>\n",
       "   <td style=\"text-align:left;\"> N </td>\n",
       "  </tr>\n",
       "  <tr>\n",
       "   <td style=\"text-align:left;\"> Y </td>\n",
       "   <td style=\"text-align:left;\"> N </td>\n",
       "  </tr>\n",
       "  <tr>\n",
       "   <td style=\"text-align:left;\"> N </td>\n",
       "   <td style=\"text-align:left;\"> N </td>\n",
       "  </tr>\n",
       "  <tr>\n",
       "   <td style=\"text-align:left;\"> N </td>\n",
       "   <td style=\"text-align:left;\"> N </td>\n",
       "  </tr>\n",
       "  <tr>\n",
       "   <td style=\"text-align:left;\"> N </td>\n",
       "   <td style=\"text-align:left;\"> N </td>\n",
       "  </tr>\n",
       "  <tr>\n",
       "   <td style=\"text-align:left;\"> N </td>\n",
       "   <td style=\"text-align:left;\"> N </td>\n",
       "  </tr>\n",
       "  <tr>\n",
       "   <td style=\"text-align:left;\"> N </td>\n",
       "   <td style=\"text-align:left;\"> N </td>\n",
       "  </tr>\n",
       "  <tr>\n",
       "   <td style=\"text-align:left;\"> Y </td>\n",
       "   <td style=\"text-align:left;\"> Y </td>\n",
       "  </tr>\n",
       "  <tr>\n",
       "   <td style=\"text-align:left;\"> N </td>\n",
       "   <td style=\"text-align:left;\"> N </td>\n",
       "  </tr>\n",
       "  <tr>\n",
       "   <td style=\"text-align:left;\"> N </td>\n",
       "   <td style=\"text-align:left;\"> Y </td>\n",
       "  </tr>\n",
       "  <tr>\n",
       "   <td style=\"text-align:left;\"> Y </td>\n",
       "   <td style=\"text-align:left;\"> Y </td>\n",
       "  </tr>\n",
       "  <tr>\n",
       "   <td style=\"text-align:left;\"> N </td>\n",
       "   <td style=\"text-align:left;\"> N </td>\n",
       "  </tr>\n",
       "  <tr>\n",
       "   <td style=\"text-align:left;\"> N </td>\n",
       "   <td style=\"text-align:left;\"> N </td>\n",
       "  </tr>\n",
       "  <tr>\n",
       "   <td style=\"text-align:left;\"> Y </td>\n",
       "   <td style=\"text-align:left;\"> N </td>\n",
       "  </tr>\n",
       "  <tr>\n",
       "   <td style=\"text-align:left;\"> N </td>\n",
       "   <td style=\"text-align:left;\"> N </td>\n",
       "  </tr>\n",
       "  <tr>\n",
       "   <td style=\"text-align:left;\"> Y </td>\n",
       "   <td style=\"text-align:left;\"> Y </td>\n",
       "  </tr>\n",
       "</tbody>\n",
       "</table>"
      ]
     },
     "metadata": {},
     "output_type": "display_data"
    }
   ],
   "source": [
    "# 7\n",
    "# look at the results of tests\n",
    "\n",
    "test_hunts %>% slice(1:20) %>% knitr::kable(format = \"html\", \n",
    "                                            col.names = c(\"Had treasure?\",\"Dig or not?\")) %>% \n",
    "as.character() %>% IRdisplay::display_html()\n"
   ]
  },
  {
   "cell_type": "markdown",
   "metadata": {},
   "source": [
    "To asses the usefulness of our rule, we can evaluate the accuracy of our rule. There are a few ways to do this. We can look at overall accuracy. We can look at how often we missed treasure when there was treasure. We can look how often dug for treasure when there wasn't any. Let's take a look at some metrics."
   ]
  },
  {
   "cell_type": "code",
   "execution_count": 9,
   "metadata": {},
   "outputs": [],
   "source": [
    "#8 \n",
    "\n",
    "# function for computing metrics\n",
    "get_metrics = function(test_hunts){\n",
    "    test_hunts %<>% mutate(type = case_when(has.treasure == \"Y\" & dig == \"Y\" ~ \"Hit\", \n",
    "                                            has.treasure == \"Y\" & dig == \"N\" ~ \"Miss\",\n",
    "                                            has.treasure == \"N\" & dig == \"N\" ~ \"Correct Rejection\",\n",
    "                                            has.treasure == \"N\" & dig == \"Y\" ~ \"False alarm\"))\n",
    "\n",
    "    metrics = test_hunts %>% \n",
    "    mutate(type = factor(type,levels = c(\"Hit\",\"Miss\",\"Correct Rejection\",\"False alarm\"))) %>% \n",
    "    group_by(type, `.drop` = FALSE) %>% summarise(n = n()) %>% mutate(type = as.character(type)) %>%\n",
    "    pivot_wider(names_from = \"type\", values_from = \"n\") %>% \n",
    "    mutate(Correct = `Correct Rejection` + Hit, \n",
    "       Incorrect = `False alarm` + Miss, \n",
    "       Accuracy = Correct / (Correct + Incorrect)) \n",
    "\n",
    "    amount_of_treasure = test_hunts %>% \n",
    "    mutate(has.treasure = factor(has.treasure, levels = c(\"Y\",\"N\"))) %>%\n",
    "    group_by(has.treasure, `.drop` = FALSE) %>% summarise(n = n()) %>%\n",
    "        spread(key = has.treasure, value = n) %>% \n",
    "        set_colnames(c(\"N\" = \"No treasure\", \"Y\" = \"Treasure\")) %>% \n",
    "        mutate(`actual Pr_treasure` = `Treasure` / (`No treasure` + `Treasure`))\n",
    "\n",
    "    cbind(metrics,amount_of_treasure)\n",
    "    \n",
    "    \n",
    "}\n"
   ]
  },
  {
   "cell_type": "code",
   "execution_count": 10,
   "metadata": {},
   "outputs": [
    {
     "data": {
      "text/html": [
       "<table>\n",
       "<caption>A data.frame: 1 × 10</caption>\n",
       "<thead>\n",
       "\t<tr><th scope=col>Hit</th><th scope=col>Miss</th><th scope=col>Correct Rejection</th><th scope=col>False alarm</th><th scope=col>Correct</th><th scope=col>Incorrect</th><th scope=col>Accuracy</th><th scope=col>No treasure</th><th scope=col>Treasure</th><th scope=col>actual Pr_treasure</th></tr>\n",
       "\t<tr><th scope=col>&lt;int&gt;</th><th scope=col>&lt;int&gt;</th><th scope=col>&lt;int&gt;</th><th scope=col>&lt;int&gt;</th><th scope=col>&lt;int&gt;</th><th scope=col>&lt;int&gt;</th><th scope=col>&lt;dbl&gt;</th><th scope=col>&lt;int&gt;</th><th scope=col>&lt;int&gt;</th><th scope=col>&lt;dbl&gt;</th></tr>\n",
       "</thead>\n",
       "<tbody>\n",
       "\t<tr><td>1204</td><td>1389</td><td>7047</td><td>360</td><td>8251</td><td>1749</td><td>0.8251</td><td>2593</td><td>7407</td><td>0.7407</td></tr>\n",
       "</tbody>\n",
       "</table>\n"
      ],
      "text/latex": [
       "A data.frame: 1 × 10\n",
       "\\begin{tabular}{r|llllllllll}\n",
       " Hit & Miss & Correct Rejection & False alarm & Correct & Incorrect & Accuracy & No treasure & Treasure & actual Pr\\_treasure\\\\\n",
       " <int> & <int> & <int> & <int> & <int> & <int> & <dbl> & <int> & <int> & <dbl>\\\\\n",
       "\\hline\n",
       "\t 1204 & 1389 & 7047 & 360 & 8251 & 1749 & 0.8251 & 2593 & 7407 & 0.7407\\\\\n",
       "\\end{tabular}\n"
      ],
      "text/markdown": [
       "\n",
       "A data.frame: 1 × 10\n",
       "\n",
       "| Hit &lt;int&gt; | Miss &lt;int&gt; | Correct Rejection &lt;int&gt; | False alarm &lt;int&gt; | Correct &lt;int&gt; | Incorrect &lt;int&gt; | Accuracy &lt;dbl&gt; | No treasure &lt;int&gt; | Treasure &lt;int&gt; | actual Pr_treasure &lt;dbl&gt; |\n",
       "|---|---|---|---|---|---|---|---|---|---|\n",
       "| 1204 | 1389 | 7047 | 360 | 8251 | 1749 | 0.8251 | 2593 | 7407 | 0.7407 |\n",
       "\n"
      ],
      "text/plain": [
       "  Hit  Miss Correct Rejection False alarm Correct Incorrect Accuracy\n",
       "1 1204 1389 7047              360         8251    1749      0.8251  \n",
       "  No treasure Treasure actual Pr_treasure\n",
       "1 2593        7407     0.7407            "
      ]
     },
     "metadata": {},
     "output_type": "display_data"
    }
   ],
   "source": [
    "# 9\n",
    "# Get some metrics for your simulated hunt\n",
    "test_hunts %>% get_metrics()"
   ]
  },
  {
   "cell_type": "markdown",
   "metadata": {},
   "source": [
    "The rule seems to work pretty well in terms of accuracy. But how much is accuracy dependent on the actual probability of finding treasure? Let's run two more quick simulations where we set the probability of treasure actually being present to 1 or 0. \n"
   ]
  },
  {
   "cell_type": "code",
   "execution_count": 11,
   "metadata": {},
   "outputs": [
    {
     "data": {
      "text/html": [
       "<table>\n",
       "<caption>A data.frame: 1 × 10</caption>\n",
       "<thead>\n",
       "\t<tr><th scope=col>Hit</th><th scope=col>Miss</th><th scope=col>Correct Rejection</th><th scope=col>False alarm</th><th scope=col>Correct</th><th scope=col>Incorrect</th><th scope=col>Accuracy</th><th scope=col>No treasure</th><th scope=col>Treasure</th><th scope=col>actual Pr_treasure</th></tr>\n",
       "\t<tr><th scope=col>&lt;int&gt;</th><th scope=col>&lt;int&gt;</th><th scope=col>&lt;int&gt;</th><th scope=col>&lt;int&gt;</th><th scope=col>&lt;int&gt;</th><th scope=col>&lt;int&gt;</th><th scope=col>&lt;dbl&gt;</th><th scope=col>&lt;int&gt;</th><th scope=col>&lt;int&gt;</th><th scope=col>&lt;dbl&gt;</th></tr>\n",
       "</thead>\n",
       "<tbody>\n",
       "\t<tr><td>0</td><td>0</td><td>9506</td><td>494</td><td>9506</td><td>494</td><td>0.9506</td><td>0</td><td>10000</td><td>1</td></tr>\n",
       "</tbody>\n",
       "</table>\n"
      ],
      "text/latex": [
       "A data.frame: 1 × 10\n",
       "\\begin{tabular}{r|llllllllll}\n",
       " Hit & Miss & Correct Rejection & False alarm & Correct & Incorrect & Accuracy & No treasure & Treasure & actual Pr\\_treasure\\\\\n",
       " <int> & <int> & <int> & <int> & <int> & <int> & <dbl> & <int> & <int> & <dbl>\\\\\n",
       "\\hline\n",
       "\t 0 & 0 & 9506 & 494 & 9506 & 494 & 0.9506 & 0 & 10000 & 1\\\\\n",
       "\\end{tabular}\n"
      ],
      "text/markdown": [
       "\n",
       "A data.frame: 1 × 10\n",
       "\n",
       "| Hit &lt;int&gt; | Miss &lt;int&gt; | Correct Rejection &lt;int&gt; | False alarm &lt;int&gt; | Correct &lt;int&gt; | Incorrect &lt;int&gt; | Accuracy &lt;dbl&gt; | No treasure &lt;int&gt; | Treasure &lt;int&gt; | actual Pr_treasure &lt;dbl&gt; |\n",
       "|---|---|---|---|---|---|---|---|---|---|\n",
       "| 0 | 0 | 9506 | 494 | 9506 | 494 | 0.9506 | 0 | 10000 | 1 |\n",
       "\n"
      ],
      "text/plain": [
       "  Hit Miss Correct Rejection False alarm Correct Incorrect Accuracy No treasure\n",
       "1 0   0    9506              494         9506    494       0.9506   0          \n",
       "  Treasure actual Pr_treasure\n",
       "1 10000    1                 "
      ]
     },
     "metadata": {},
     "output_type": "display_data"
    }
   ],
   "source": [
    "# 10 \n",
    "test_hunts_nothing = furrr::future_map_dfr(1:n_tests, function(x) simulate_hunt(0)) \n",
    "test_hunts_nothing %>% get_metrics()                                    "
   ]
  },
  {
   "cell_type": "code",
   "execution_count": 12,
   "metadata": {},
   "outputs": [
    {
     "data": {
      "text/html": [
       "<table>\n",
       "<caption>A data.frame: 1 × 10</caption>\n",
       "<thead>\n",
       "\t<tr><th scope=col>Hit</th><th scope=col>Miss</th><th scope=col>Correct Rejection</th><th scope=col>False alarm</th><th scope=col>Correct</th><th scope=col>Incorrect</th><th scope=col>Accuracy</th><th scope=col>No treasure</th><th scope=col>Treasure</th><th scope=col>actual Pr_treasure</th></tr>\n",
       "\t<tr><th scope=col>&lt;int&gt;</th><th scope=col>&lt;int&gt;</th><th scope=col>&lt;int&gt;</th><th scope=col>&lt;int&gt;</th><th scope=col>&lt;int&gt;</th><th scope=col>&lt;int&gt;</th><th scope=col>&lt;dbl&gt;</th><th scope=col>&lt;int&gt;</th><th scope=col>&lt;int&gt;</th><th scope=col>&lt;dbl&gt;</th></tr>\n",
       "</thead>\n",
       "<tbody>\n",
       "\t<tr><td>4679</td><td>5321</td><td>0</td><td>0</td><td>4679</td><td>5321</td><td>0.4679</td><td>10000</td><td>0</td><td>0</td></tr>\n",
       "</tbody>\n",
       "</table>\n"
      ],
      "text/latex": [
       "A data.frame: 1 × 10\n",
       "\\begin{tabular}{r|llllllllll}\n",
       " Hit & Miss & Correct Rejection & False alarm & Correct & Incorrect & Accuracy & No treasure & Treasure & actual Pr\\_treasure\\\\\n",
       " <int> & <int> & <int> & <int> & <int> & <int> & <dbl> & <int> & <int> & <dbl>\\\\\n",
       "\\hline\n",
       "\t 4679 & 5321 & 0 & 0 & 4679 & 5321 & 0.4679 & 10000 & 0 & 0\\\\\n",
       "\\end{tabular}\n"
      ],
      "text/markdown": [
       "\n",
       "A data.frame: 1 × 10\n",
       "\n",
       "| Hit &lt;int&gt; | Miss &lt;int&gt; | Correct Rejection &lt;int&gt; | False alarm &lt;int&gt; | Correct &lt;int&gt; | Incorrect &lt;int&gt; | Accuracy &lt;dbl&gt; | No treasure &lt;int&gt; | Treasure &lt;int&gt; | actual Pr_treasure &lt;dbl&gt; |\n",
       "|---|---|---|---|---|---|---|---|---|---|\n",
       "| 4679 | 5321 | 0 | 0 | 4679 | 5321 | 0.4679 | 10000 | 0 | 0 |\n",
       "\n"
      ],
      "text/plain": [
       "  Hit  Miss Correct Rejection False alarm Correct Incorrect Accuracy\n",
       "1 4679 5321 0                 0           4679    5321      0.4679  \n",
       "  No treasure Treasure actual Pr_treasure\n",
       "1 10000       0        0                 "
      ]
     },
     "metadata": {},
     "output_type": "display_data"
    }
   ],
   "source": [
    "# 11\n",
    "test_hunts_everywhere = furrr::future_map_dfr(1:n_tests, function(x) simulate_hunt(1))\n",
    "test_hunts_everywhere %>% get_metrics()"
   ]
  },
  {
   "cell_type": "markdown",
   "metadata": {},
   "source": [
    "But maybe just looking at accuracy isn't the best. After all, there are two ways in which we can be wrong. We can dig when we're not meant to, and we can move on when there's actually treasure. So let's split that accuracy percentage (or rather the [1 - accuracy] or \"error\" percentage) into two: 1) Digging when there's no treasure, and 2) moving on without digging when there was treasure. Now let's adjust $Pr_{\\mathrm{treasure}}$ and see how the two error rates fare. \n"
   ]
  },
  {
   "cell_type": "code",
   "execution_count": 13,
   "metadata": {},
   "outputs": [
    {
     "data": {
      "text/html": [
       "<table>\n",
       "<caption>A data.frame: 1 × 12</caption>\n",
       "<thead>\n",
       "\t<tr><th scope=col>Hit</th><th scope=col>Miss</th><th scope=col>Correct Rejection</th><th scope=col>False alarm</th><th scope=col>Correct</th><th scope=col>Incorrect</th><th scope=col>Accuracy</th><th scope=col>No treasure</th><th scope=col>Treasure</th><th scope=col>actual Pr_treasure</th><th scope=col>False alarm rate</th><th scope=col>Miss rate</th></tr>\n",
       "\t<tr><th scope=col>&lt;int&gt;</th><th scope=col>&lt;int&gt;</th><th scope=col>&lt;int&gt;</th><th scope=col>&lt;int&gt;</th><th scope=col>&lt;int&gt;</th><th scope=col>&lt;int&gt;</th><th scope=col>&lt;dbl&gt;</th><th scope=col>&lt;int&gt;</th><th scope=col>&lt;int&gt;</th><th scope=col>&lt;dbl&gt;</th><th scope=col>&lt;dbl&gt;</th><th scope=col>&lt;dbl&gt;</th></tr>\n",
       "</thead>\n",
       "<tbody>\n",
       "\t<tr><td>0</td><td>0</td><td>9506</td><td>494</td><td>9506</td><td>494</td><td>0.9506</td><td>0</td><td>10000</td><td>1</td><td>0.0494</td><td>0</td></tr>\n",
       "</tbody>\n",
       "</table>\n"
      ],
      "text/latex": [
       "A data.frame: 1 × 12\n",
       "\\begin{tabular}{r|llllllllllll}\n",
       " Hit & Miss & Correct Rejection & False alarm & Correct & Incorrect & Accuracy & No treasure & Treasure & actual Pr\\_treasure & False alarm rate & Miss rate\\\\\n",
       " <int> & <int> & <int> & <int> & <int> & <int> & <dbl> & <int> & <int> & <dbl> & <dbl> & <dbl>\\\\\n",
       "\\hline\n",
       "\t 0 & 0 & 9506 & 494 & 9506 & 494 & 0.9506 & 0 & 10000 & 1 & 0.0494 & 0\\\\\n",
       "\\end{tabular}\n"
      ],
      "text/markdown": [
       "\n",
       "A data.frame: 1 × 12\n",
       "\n",
       "| Hit &lt;int&gt; | Miss &lt;int&gt; | Correct Rejection &lt;int&gt; | False alarm &lt;int&gt; | Correct &lt;int&gt; | Incorrect &lt;int&gt; | Accuracy &lt;dbl&gt; | No treasure &lt;int&gt; | Treasure &lt;int&gt; | actual Pr_treasure &lt;dbl&gt; | False alarm rate &lt;dbl&gt; | Miss rate &lt;dbl&gt; |\n",
       "|---|---|---|---|---|---|---|---|---|---|---|---|\n",
       "| 0 | 0 | 9506 | 494 | 9506 | 494 | 0.9506 | 0 | 10000 | 1 | 0.0494 | 0 |\n",
       "\n"
      ],
      "text/plain": [
       "  Hit Miss Correct Rejection False alarm Correct Incorrect Accuracy No treasure\n",
       "1 0   0    9506              494         9506    494       0.9506   0          \n",
       "  Treasure actual Pr_treasure False alarm rate Miss rate\n",
       "1 10000    1                  0.0494           0        "
      ]
     },
     "metadata": {},
     "output_type": "display_data"
    },
    {
     "data": {
      "text/html": [
       "<table>\n",
       "<caption>A data.frame: 1 × 12</caption>\n",
       "<thead>\n",
       "\t<tr><th scope=col>Hit</th><th scope=col>Miss</th><th scope=col>Correct Rejection</th><th scope=col>False alarm</th><th scope=col>Correct</th><th scope=col>Incorrect</th><th scope=col>Accuracy</th><th scope=col>No treasure</th><th scope=col>Treasure</th><th scope=col>actual Pr_treasure</th><th scope=col>False alarm rate</th><th scope=col>Miss rate</th></tr>\n",
       "\t<tr><th scope=col>&lt;int&gt;</th><th scope=col>&lt;int&gt;</th><th scope=col>&lt;int&gt;</th><th scope=col>&lt;int&gt;</th><th scope=col>&lt;int&gt;</th><th scope=col>&lt;int&gt;</th><th scope=col>&lt;dbl&gt;</th><th scope=col>&lt;int&gt;</th><th scope=col>&lt;int&gt;</th><th scope=col>&lt;dbl&gt;</th><th scope=col>&lt;dbl&gt;</th><th scope=col>&lt;dbl&gt;</th></tr>\n",
       "</thead>\n",
       "<tbody>\n",
       "\t<tr><td>4679</td><td>5321</td><td>0</td><td>0</td><td>4679</td><td>5321</td><td>0.4679</td><td>10000</td><td>0</td><td>0</td><td>0</td><td>0.5321</td></tr>\n",
       "</tbody>\n",
       "</table>\n"
      ],
      "text/latex": [
       "A data.frame: 1 × 12\n",
       "\\begin{tabular}{r|llllllllllll}\n",
       " Hit & Miss & Correct Rejection & False alarm & Correct & Incorrect & Accuracy & No treasure & Treasure & actual Pr\\_treasure & False alarm rate & Miss rate\\\\\n",
       " <int> & <int> & <int> & <int> & <int> & <int> & <dbl> & <int> & <int> & <dbl> & <dbl> & <dbl>\\\\\n",
       "\\hline\n",
       "\t 4679 & 5321 & 0 & 0 & 4679 & 5321 & 0.4679 & 10000 & 0 & 0 & 0 & 0.5321\\\\\n",
       "\\end{tabular}\n"
      ],
      "text/markdown": [
       "\n",
       "A data.frame: 1 × 12\n",
       "\n",
       "| Hit &lt;int&gt; | Miss &lt;int&gt; | Correct Rejection &lt;int&gt; | False alarm &lt;int&gt; | Correct &lt;int&gt; | Incorrect &lt;int&gt; | Accuracy &lt;dbl&gt; | No treasure &lt;int&gt; | Treasure &lt;int&gt; | actual Pr_treasure &lt;dbl&gt; | False alarm rate &lt;dbl&gt; | Miss rate &lt;dbl&gt; |\n",
       "|---|---|---|---|---|---|---|---|---|---|---|---|\n",
       "| 4679 | 5321 | 0 | 0 | 4679 | 5321 | 0.4679 | 10000 | 0 | 0 | 0 | 0.5321 |\n",
       "\n"
      ],
      "text/plain": [
       "  Hit  Miss Correct Rejection False alarm Correct Incorrect Accuracy\n",
       "1 4679 5321 0                 0           4679    5321      0.4679  \n",
       "  No treasure Treasure actual Pr_treasure False alarm rate Miss rate\n",
       "1 10000       0        0                  0                0.5321   "
      ]
     },
     "metadata": {},
     "output_type": "display_data"
    }
   ],
   "source": [
    "# 12 \n",
    "get_metrics2 = function(.data){\n",
    "    .data %>% mutate(`False alarm rate` = `False alarm`/(`No treasure` + `Treasure`),\n",
    "                            `Miss rate` = `Miss` / (`No treasure` + `Treasure`))\n",
    "}\n",
    "\n",
    "\n",
    "test_hunts_nothing %>% get_metrics() %>% get_metrics2()\n",
    "test_hunts_everywhere %>% get_metrics() %>% get_metrics2()"
   ]
  },
  {
   "cell_type": "markdown",
   "metadata": {},
   "source": [
    "We can see that no matter what we do, the false positive rate (digging when there's no treasure) never goes above 5%, which is the same value we set for $\\alpha$. This is great because it means that we can with certainty set the upper bound of this error rate. And, we can do so knowing nothing about how much treasure there is to be found or how our device works in the presence of treasure. All we need is: 1) to know that *on average* the device points as zero when there's no treasure around and 2) to sit and watch the device for a long time and just record some scaled measurements that the device produces. In fact, we don't even need to do (2). We can just *pretend* to this by simulating the results, and we only need to input **one parameter**—that value we need for step 1. Everything else can just be made up. \n",
    "\n",
    "I'm not going to talk much about the other error rate, because this isn't a course of frequentist inference. But we can estimate it based on some assumptions about how the device behaves *in the presence of treasure*. For example, if we know that treasure of a certain values results in the device pointing on average at 1, then we can calculate the **upper bound** of missing treasures smaller than that value. \n",
    "\n",
    "Limiting our error rates this way is pretty good, but we can do even better if we change the scenario a little. Let's say that instead of hunting randomly for treasure, we're sent shipments that contain collections of treasure boxes. For these collections, one of two things is true. Either all the boxes contain treasure or none of the boxes contain treasure. Now all we have to do, is run our device over the boxes and if the device produces \"surprisingly large\" deviations on more than $(100 \\times \\alpha)\\%$  of boxes we accept the whole lot. If our device indicated \"surprisingly large\" deviations on fewer than $(100 \\times \\alpha)\\%$  of boxes we send them all back. By doing this, we can **guarantee** that we'll accept exactly 100% of shipments that have treasure and reject exactly 100% of shipments that don't have treasure. And again, we get all this power from just running some *pretend experiments* (simulations). \n",
    "\n",
    "## Interim summary \n",
    "\n",
    "What this rather long-winded demonstration was meant to show is that *p* values are very good at doing one thing. That thing is, controlling how often we're wrong *in the long run.* Deployed in the right context, we can even ensure that we're **never** wrong. This all comes from a simple process: Setting the value of **one parameter**, running pretend experiments, and then comparing our data at hand to results obtained from our pretend experiments to **judge whether our data is surprising** or not. \n",
    "\n",
    "Of course, our treasure-hunting scenario, whether in the first form where we hunt randomly for treasure or in the second form where we examine batches that either do or don't contain treasure, may not be exactly analogous to how science works. These means that deciding whether *p* values are useful or not is going to depend on how closely their real-world use case matches their ideal operating environment.  \n",
    "\n",
    "# A short note on confidence intervals\n",
    "\n",
    "I'll mention confidence intervals only briefly, but they follow the *exact* same logic as *p*-values. Let say I collect some measurements, work out the average. I could scale this value with my scaling factor and then turn to my list of results from the pretend experiments to work out my *p* value. However, I can also use the results from the pretend experiments to construct (the very poorly named) confidence interval. \n",
    "\n",
    "Looking at my pretend experiments I would see that any scaled values that are more than about 2.23 *t* units from 0 would be surprising. Using this information, I can ask myself the following question: If my device on average pointed at the current sample average, rather than zero, what data values would be surprising? The answer to this is, of course, values that are more than 2.23 *t* units from the sample mean. Having an answer in *t* units isn't very useful. But I know that I converted measurements to *t* units by scaling readings using the scaling factor $s_{\\bar{x}}$. This means we can just un-scale the value in *t* units back into raw units using the scaling factor calculated from my sample. This means I can say that any values $\\pm  2.23\\cdot{}s_{\\bar{x}}$ from the sample mean would be surprising. Any values less than this, or in this range, would be unsurprising if my device, on average, pointed at my current sample mean. I could draw a line through these values, pull little tails on this line, and *hey presto* I have  a confidence interval. \n",
    "\n",
    "Now just to be clear, just like a *p* value, a confidence interval tells you what values would be surprising/unsurprising on an assumption of a certain value of the parameter. For the *p* value you set the parameter to 0 (or wherever else the device points when no treasure is around). For the confidence interval, I just set the parameter to the value from my current sample. It's exactly the same idea.\n",
    "\n",
    "Hopefully, this should make it clear what the confidence interval doesn't tell you. It doesn't tell you about the *probability of a parameter falling within a range* (the common misinterpretation). It tells you *frequency with which data from pretend experiments will fall within a particular range on the assumption that the parameter is equal to the observed value*. At no point are we making inferences about **parameters** or **true values** of parameters. We are holding parameters constant, doing pretend experiments, and then judging whether the data we have at hand is surprising or not *in relation to those pretend experiments*.\n",
    "\n",
    "Now that we're all on the same page about *p* values and confidence intervals, we're aware of their power, and where they get this power from, let's look at some criticisms of *p* values.\n",
    "\n"
   ]
  }
 ],
 "metadata": {
  "kernelspec": {
   "display_name": "R",
   "language": "R",
   "name": "ir"
  },
  "language_info": {
   "codemirror_mode": "r",
   "file_extension": ".r",
   "mimetype": "text/x-r-source",
   "name": "R",
   "pygments_lexer": "r",
   "version": "3.6.1"
  }
 },
 "nbformat": 4,
 "nbformat_minor": 4
}
