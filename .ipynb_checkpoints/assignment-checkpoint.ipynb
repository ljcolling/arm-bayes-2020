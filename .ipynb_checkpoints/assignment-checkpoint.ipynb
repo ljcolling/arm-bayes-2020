{
 "cells": [
  {
   "cell_type": "code",
   "execution_count": null,
   "metadata": {},
   "outputs": [],
   "source": [
    "bayesplay::loadpackages()"
   ]
  },
  {
   "cell_type": "markdown",
   "metadata": {},
   "source": [
    "# Bayesian data analysis workshop 2020\n",
    "\n",
    "\n",
    "## Guide\n",
    "\n",
    "All analysis code should be written in this notebook. Explanatory text can also be included. \n",
    "\n",
    "Once complete, the notebook should be downloaded as an `.ipynb` as attached to the assignment. Note, you have no persistent storage, so please ensure you regularly download the file while you're working on it so work does not get lost.\n"
   ]
  },
  {
   "cell_type": "markdown",
   "metadata": {},
   "source": [
    "# Question 1\n",
    "\n",
    "A researcher was interested in whether there is a gender difference in maths anxiety scores. They predict women would have higher scores than men.  Using the aMAS score (which assigns scored from 9 to 45), they find the following data:\n"
   ]
  },
  {
   "cell_type": "code",
   "execution_count": null,
   "metadata": {},
   "outputs": [],
   "source": [
    "set.seed(1)\n",
    "max_possible = 45\n",
    "male = 28 + 9 * scale(rnorm(n = 15, 0, 1)) %>% map_dbl(., function(x) round(x))\n",
    "female = (35 + 10 * scale(rnorm(n = 16, 0, 1))) %>% map_dbl(.,function(x) ifelse(x > 45, 45, round(x)))\n",
    "\n",
    "amas_data = rbind(tibble(gender = \"male\", score = male),\n",
    "             tibble(gender = \"female\", score = female))\n",
    "                                                            \n",
    "amas_data"
   ]
  },
  {
   "cell_type": "markdown",
   "metadata": {},
   "source": [
    "## 1.1\n",
    "\n",
    "Represent this prediction (that women would score higher than man) in three ways. \n",
    "\n",
    "1. With a uniform prior (remember that the max score is 45)\n",
    "2. With a normal prior. For the normal prior you theorise that the difference is mostly like to be small. You decide to put most of the weight near 0 with the prior weight reducing steadily as it approaches the maximum possible difference. To do this, use a normal prior centred at zero and with a standard deviation of half the maximum possible difference.\n",
    "3. Some other way you think is reasonable and explain your reasoning.\n",
    "\n",
    "# 1.2 \n",
    "\n",
    "1. For your $\\mathcal{H}_0$ you should use a point null of 0. \n",
    "2. In addition you should also trying using an interval null. You consider differences between 0 and 5 to be equally \"null\". Represent this with a uniform prior. \n",
    "\n",
    "# 1.3 \n",
    "\n",
    "1. Define likelihood for your data. Explain your reasoning behind it. \n",
    "2. Compute the corresponding **Bayes Factors** for the 3 $\\times$ $\\mathcal{H}_1$ priors and 2 $\\times$ $\\mathcal{H}_0$ priors\n",
    "\n",
    "You can also choose to include plots of the priors and likelihoods, or anything else that will help you explanations. \n"
   ]
  },
  {
   "cell_type": "code",
   "execution_count": null,
   "metadata": {},
   "outputs": [],
   "source": [
    "bayesplay::loadpackages()\n",
    "\n",
    "# You can write the code for question 1 in here!"
   ]
  },
  {
   "cell_type": "markdown",
   "metadata": {},
   "source": [
    "# Question 2\n",
    "\n",
    "\n",
    "The data set `math_data` contains data from a mathematics and reading assessment for 40 children. The data contains 4 columns. \n",
    "\n",
    "1. `id` is the ID of the child\n",
    "2. `reading` is their reading score \n",
    "3. `procspeed` is their score on a processing speed task\n",
    "4. `math` is their score on a math assessment\n",
    "\n",
    "You're interested in the **math** outcome measure. Specifically, you're interested in whether **reading** predicts **math**. "
   ]
  },
  {
   "cell_type": "code",
   "execution_count": null,
   "metadata": {},
   "outputs": [],
   "source": [
    "set.seed(613)\n",
    "\n",
    "n   <- 40\n",
    "rho <- .7\n",
    "\n",
    "math_data =  tibble(\n",
    "         id = 1:n,\n",
    "         reading = rnorm(n, 100, 1),                    \n",
    "         procspeed = rnorm(n, rho * reading, sqrt(1 - rho^2)), \n",
    "         math     = 100 + rnorm(n, (reading - procspeed), 1))     \n",
    "\n",
    "math_data"
   ]
  },
  {
   "cell_type": "markdown",
   "metadata": {},
   "source": [
    "## 2.1\n",
    "\n",
    "1. Using **brms** fit 4 regression models. \n",
    "    1. Model 1 should be an intercept only model (predicting math)\n",
    "    2. Model 2 should include 1 predictor (predicting math)\n",
    "    3. Model 3 should include 1 predictor (predicting math) - Model 2 and Model 3 should have different predictors\n",
    "    4. Model 4 should include both predictiors (i.e., reading and processing speed)\n",
    "\n",
    "2. Describe the priors you've used for the parameters and include your reasoning about the prior choices.\n",
    "\n",
    "## 2.2\n",
    "\n",
    "1. Provide a table or figure of the regression coefficients for all 4 models\n",
    "\n",
    "## 2.3 \n",
    "\n",
    "1. Compare the models using PSIS-LOO and state which model is \"best\"\n",
    "2. Average the model using PSIS-LOO\n",
    "3. Generate **model averaged** predictions for the relationship between Reading and Math.\n"
   ]
  },
  {
   "cell_type": "code",
   "execution_count": null,
   "metadata": {},
   "outputs": [],
   "source": [
    "bayesplay::loadpackages()\n",
    "\n",
    "# You can write the code for question 2 in here!"
   ]
  }
 ],
 "metadata": {
  "kernelspec": {
   "display_name": "R",
   "language": "R",
   "name": "ir"
  },
  "language_info": {
   "codemirror_mode": "r",
   "file_extension": ".r",
   "mimetype": "text/x-r-source",
   "name": "R",
   "pygments_lexer": "r",
   "version": "3.6.1"
  }
 },
 "nbformat": 4,
 "nbformat_minor": 4
}
