{
 "cells": [
  {
   "cell_type": "code",
   "execution_count": 1,
   "metadata": {},
   "outputs": [],
   "source": [
    "bayesplay::loadpackages()"
   ]
  },
  {
   "cell_type": "code",
   "execution_count": 2,
   "metadata": {},
   "outputs": [
    {
     "data": {
      "text/markdown": [
       "Accuracy for positive words was 0.8  \n",
       "Accuracy for neutral words was 0.76"
      ]
     },
     "metadata": {},
     "output_type": "display_data"
    }
   ],
   "source": [
    "# 1\n",
    "\n",
    "# lets generate some data to work with because usually we work with raw data and not summary stats\n",
    "\n",
    "# statistics reported by Grider and Malmberg (2008) in Rouder et al (2009, pg 232)\n",
    "\n",
    "# reported values!\n",
    "sample_size = 80\n",
    "netural_words = 0.76\n",
    "positive_words = 0.80\n",
    "t_stat = 2.24\n",
    "\n",
    "# calculate the rest from the reported values!\n",
    "mean_of_difference = positive_words - netural_words\n",
    "sd_of_difference = (mean_of_difference * sqrt(sample_size)) / t_stat\n",
    "\n",
    "# generate some data that matches those characteristics\n",
    "\n",
    "g_m_2008_data = mean_of_difference + sd_of_difference * scale(rnorm(n = sample_size, 0, 1))\n",
    "\n",
    "glue(\"Accuracy for positive words was {positive_words}  \n",
    "Accuracy for neutral words was {netural_words}\")%>% IRdisplay::display_markdown()\n"
   ]
  },
  {
   "cell_type": "code",
   "execution_count": 3,
   "metadata": {},
   "outputs": [
    {
     "data": {
      "image/png": "[encoded data removed]",
      "text/plain": [
       "plot without title"
      ]
     },
     "metadata": {
      "image/png": {
       "height": 420,
       "width": 420
      }
     },
     "output_type": "display_data"
    }
   ],
   "source": [
    "# 2\n",
    "\n",
    "# lets take a look at the data\n",
    "\n",
    "plot1 = ggplot(mapping = aes(x = c(\"neutral\",\"positive\"), y = c(netural_words,positive_words))) + \n",
    "geom_col() + theme_minimal(16) + scale_y_continuous(name = \"recall accuracy\", limits = c(0,1)) + \n",
    "scale_x_discrete(name = \"valence\")\n",
    "plot2 = ggplot(mapping = (aes(x = g_m_2008_data))) + geom_histogram(bins = 30) + \n",
    "scale_x_continuous(\"difference in accuracy\") + theme_minimal(16)\n",
    "plot1 + plot2 + plot_annotation(tag_levels = \"A\")"
   ]
  },
  {
   "cell_type": "code",
   "execution_count": 4,
   "metadata": {},
   "outputs": [
    {
     "data": {
      "text/markdown": [
       "*t* (79) = 2.24, *p* = 0.03"
      ]
     },
     "metadata": {},
     "output_type": "display_data"
    }
   ],
   "source": [
    "# 3\n",
    "\n",
    "# lets do some analysis!\n",
    "\n",
    "# first, lets run a *t* test like Grider and Malmberg (2008)\n",
    "t_test_results = t.test(g_m_2008_data)\n",
    "\n",
    "# now we'll format them nicely!\n",
    "t_test_results %>% tidy() %>% \n",
    "glue::glue_data(\"*t* ({parameter}) = {round(statistic,2)}, *p* = {round(p.value,2)}\") %>%\n",
    "IRdisplay::display_markdown()\n",
    "\n"
   ]
  },
  {
   "cell_type": "code",
   "execution_count": 5,
   "metadata": {},
   "outputs": [
    {
     "data": {
      "text/markdown": [
       "JZS Bayes factor = 1.02"
      ]
     },
     "metadata": {},
     "output_type": "display_data"
    }
   ],
   "source": [
    "# 4\n",
    "\n",
    "# now run a BF analysis with \"default\" priors\n",
    "\n",
    "store_bought_bf  = BayesFactor::ttestBF(g_m_2008_data, rscale = 1)\n",
    "store_bought_bf %>% tidy() %>% glue::glue_data(\"JZS Bayes factor = {round(BF01,2)}\") %>% \n",
    "IRdisplay::display_markdown()"
   ]
  },
  {
   "cell_type": "markdown",
   "metadata": {},
   "source": []
  },
  {
   "cell_type": "code",
   "execution_count": 6,
   "metadata": {},
   "outputs": [
    {
     "data": {
      "text/markdown": [
       "The observed effect size is 0.25"
      ]
     },
     "metadata": {},
     "output_type": "display_data"
    }
   ],
   "source": [
    "# 5\n",
    "# calculate delta \n",
    "\n",
    "delta = mean(g_m_2008_data) / sd(g_m_2008_data)\n",
    "\n",
    "glue::glue(\"The observed effect size is {round(delta,2)}\") %>% IRdisplay::display_markdown()"
   ]
  },
  {
   "cell_type": "markdown",
   "metadata": {},
   "source": []
  },
  {
   "cell_type": "code",
   "execution_count": 7,
   "metadata": {},
   "outputs": [
    {
     "data": {
      "text/plain": [
       "Object of class likelihood \n",
       "Likelihood type: non-central t \n",
       "Parameters\n",
       "Center: 0.250439613479977\n",
       "DF: 79"
      ]
     },
     "metadata": {},
     "output_type": "display_data"
    }
   ],
   "source": [
    "# 6 \n",
    "\n",
    "# Lets set up our likelihood\n",
    "# we've already calculated the delta which will be the centre\n",
    "# so we only need the number of data point\n",
    "\n",
    "# calculate df\n",
    "df = length(g_m_2008_data) - 1\n",
    "\n",
    "# define liklihood \n",
    "\n",
    "data_model = t.lik(center = delta, df = df)\n",
    "data_model\n"
   ]
  },
  {
   "cell_type": "markdown",
   "metadata": {},
   "source": []
  },
  {
   "cell_type": "code",
   "execution_count": 8,
   "metadata": {},
   "outputs": [
    {
     "data": {
      "image/png": "[encoded data removed]",
      "text/plain": [
       "plot without title"
      ]
     },
     "metadata": {
      "image/png": {
       "height": 420,
       "width": 420
      }
     },
     "output_type": "display_data"
    }
   ],
   "source": [
    "# 7\n",
    "\n",
    "# Let's plot the likelihood function\n",
    "# We'll make the plot and then style it with standard ggplot syntax\n",
    "\n",
    "plot(data_model, theta = seq(from = -1, to = 1,by = 0.001)) + \n",
    "    scale_x_continuous(name = \"δ\") + \n",
    "    theme_minimal(18) + \n",
    "    geom_vline(xintercept = delta, linetype = 2)"
   ]
  },
  {
   "cell_type": "markdown",
   "metadata": {},
   "source": [
    "Now that we have our likelihood's we'll need to define our two models. The syntax for defining models is a little clunky, but essentially we just need to give a weighting for every possible value of $\\delta$. These should also (ideally) be proper probability distributions. That is, the area under their curves should be **1**. We don't have to worry about this at the moment, because we're using a proper probability distribution. In later analyses we will need to worry about it but luckily **bayesplay** automatically normalises priors so that they're proper. \n",
    "\n",
    "Most of our priors are either going to be **normal distributions**, **cauchy distributions**, **uniform distributions**, **t distibutions** or similar. Luckily **R** provides functions for these probability densities. They're are `dnorm()`, `dcauchy()`, `dunif()`, and `dt()` respectively. The basic structure of specifying a prior is as follows:\n",
    "\n",
    "```r\n",
    "prior = function(theta.range)\n",
    "    {\n",
    "    list(func = function(theta) PRIOR_FUNCTION,\n",
    "         theta.range = theta.range)\n",
    "    }\n",
    "```"
   ]
  },
  {
   "cell_type": "code",
   "execution_count": 9,
   "metadata": {},
   "outputs": [],
   "source": [
    "# 8\n",
    "\n",
    "# we'll start by defining the null prior. \n",
    "# this is, for all values other than delta = 0, set the weight to 0, and when \n",
    "# delta = 0, set the weight to 1\n",
    "\n",
    "h0_model = function(theta.range){\n",
    "    list(func = function(theta) ifelse(theta == 0, 1, 0),\n",
    "         theta.range = theta.range)\n",
    "}"
   ]
  },
  {
   "cell_type": "code",
   "execution_count": 10,
   "metadata": {},
   "outputs": [],
   "source": [
    "# 9 \n",
    "\n",
    "# now we define the \"alternative\" prior\n",
    "# this will be a standard cauchy distribution\n",
    "\n",
    "h1_model = function(theta.range){\n",
    "    list(func = function(theta) dcauchy(x = theta, location = 0, scale = 1),\n",
    "         theta.range = theta.range)\n",
    "}"
   ]
  },
  {
   "cell_type": "markdown",
   "metadata": {},
   "source": []
  },
  {
   "cell_type": "code",
   "execution_count": 11,
   "metadata": {},
   "outputs": [
    {
     "data": {
      "image/png": "[encoded data removed]",
      "text/plain": [
       "plot without title"
      ]
     },
     "metadata": {
      "image/png": {
       "height": 420,
       "width": 420
      }
     },
     "output_type": "display_data"
    }
   ],
   "source": [
    "# 10\n",
    "\n",
    "# plot the prior\n",
    "\n",
    "# first set the range of values for the plot\n",
    "\n",
    "theta.range = seq(-10,10,.1) # from -10 to +10 in steps 0.1\n",
    "\n",
    "# then make a tibble with the data for the plot\n",
    "tibble(theta = theta.range, p = h1_model(theta.range)$func(theta.range)) %>% \n",
    "ggplot(aes(x = theta, y = p)) + geom_line() + scale_x_continuous(name = \"δ\") + \n",
    "scale_y_continuous(name = \"p(δ)\") + theme_minimal()"
   ]
  },
  {
   "cell_type": "markdown",
   "metadata": {},
   "source": []
  },
  {
   "cell_type": "markdown",
   "metadata": {},
   "source": [
    "\n",
    "\n",
    "\n"
   ]
  },
  {
   "cell_type": "code",
   "execution_count": 12,
   "metadata": {},
   "outputs": [
    {
     "data": {
      "text/plain": [
       "Object of class posterior \n",
       "Parameter range: from  0  to  0 \n",
       "Area under the curve (integral): 0.03386948 \n",
       "Prior function:  function(theta) ifelse(theta == 0, 1, 0) \n",
       "Likelihood function:   "
      ]
     },
     "metadata": {},
     "output_type": "display_data"
    }
   ],
   "source": [
    "# 11\n",
    "\n",
    "# multiple the prior and likelihood for H_0\n",
    "\n",
    "M0 = data_model * h0_model(theta.range = c(0,0))\n",
    "M0"
   ]
  },
  {
   "cell_type": "code",
   "execution_count": 13,
   "metadata": {},
   "outputs": [
    {
     "data": {
      "text/plain": [
       "Object of class posterior \n",
       "Parameter range: from  -Inf  to  Inf \n",
       "Area under the curve (integral): 0.033066 \n",
       "Prior function:  function(theta) dcauchy(x = theta, location = 0, scale = 1) \n",
       "Likelihood function:   "
      ]
     },
     "metadata": {},
     "output_type": "display_data"
    }
   ],
   "source": [
    "# 12\n",
    "\n",
    "# multiple the prior and likelihood for H_1\n",
    "\n",
    "M1 = data_model * h1_model(theta.range = c(-Inf, Inf))\n",
    "M1"
   ]
  },
  {
   "cell_type": "markdown",
   "metadata": {},
   "source": []
  },
  {
   "cell_type": "code",
   "execution_count": 14,
   "metadata": {},
   "outputs": [
    {
     "data": {
      "text/html": [
       "1.02429933485414"
      ],
      "text/latex": [
       "1.02429933485414"
      ],
      "text/markdown": [
       "1.02429933485414"
      ],
      "text/plain": [
       "[1] 1.024299"
      ]
     },
     "metadata": {},
     "output_type": "display_data"
    }
   ],
   "source": [
    "# 13\n",
    "\n",
    "BF01 = M0$integral / M1$integral\n",
    "BF01"
   ]
  },
  {
   "cell_type": "markdown",
   "metadata": {},
   "source": []
  },
  {
   "cell_type": "code",
   "execution_count": 15,
   "metadata": {},
   "outputs": [
    {
     "data": {
      "text/markdown": [
       "The store bought **BF** using the **Bayes factor** package is 1.02   \n",
       "The one we made at home is 1.02"
      ]
     },
     "metadata": {},
     "output_type": "display_data"
    }
   ],
   "source": [
    "# 14\n",
    "\n",
    "glue::glue(\"The store bought **BF** using the **Bayes factor** package is {round(tidy(store_bought_bf)$BF01,2)}   \n",
    "The one we made at home is {round(BF01,2)}\") %>% IRdisplay::display_markdown()"
   ]
  },
  {
   "cell_type": "markdown",
   "metadata": {},
   "source": []
  },
  {
   "cell_type": "code",
   "execution_count": 16,
   "metadata": {},
   "outputs": [
    {
     "data": {
      "text/markdown": [
       "B<sub>01</sub> = 1.02  \n",
       "B<sub>01</sub> = 0.98"
      ]
     },
     "metadata": {},
     "output_type": "display_data"
    }
   ],
   "source": [
    "# 15\n",
    "\n",
    "# calculate observed parameter value\n",
    "delta = mean(g_m_2008_data) / sd(g_m_2008_data)\n",
    "\n",
    "# define liklihood \n",
    "data_model = t.lik(center = delta, df = length(g_m_2008_data) - 1)\n",
    "\n",
    "# define model / priors\n",
    "\n",
    "h0_model = function(theta.range){\n",
    "    list(func = function(theta) ifelse(theta == 0, 1, 0),\n",
    "         theta.range = theta.range)\n",
    "}\n",
    "\n",
    "\n",
    "h1_model = function(theta.range){\n",
    "    list(func = function(theta) dcauchy(x = theta, location = 0, scale = 1),\n",
    "         theta.range = theta.range)\n",
    "}\n",
    "\n",
    "# multiply the prior and likelihoods and priors\n",
    "\n",
    "M0 = data_model * h0_model(theta.range = c(0,0))\n",
    "\n",
    "M1 = data_model * h1_model(theta.range = c(-Inf, Inf))\n",
    "\n",
    "# take the intergral and divide\n",
    "\n",
    "BF01 = M0$integral / M1$integral\n",
    "glue::glue(\"B<sub>01</sub> = {round(BF01,2)}  \n",
    "B<sub>01</sub> = {round(1/BF01,2)}\") %>% IRdisplay::display_markdown()"
   ]
  },
  {
   "cell_type": "markdown",
   "metadata": {},
   "source": []
  },
  {
   "cell_type": "code",
   "execution_count": 17,
   "metadata": {},
   "outputs": [
    {
     "data": {
      "text/markdown": [
       "B<sub>01</sub> = 1.56  \n",
       "B<sub>01</sub> = 0.64"
      ]
     },
     "metadata": {},
     "output_type": "display_data"
    }
   ],
   "source": [
    "# 16\n",
    "# calculate observed parameter value\n",
    "# effect sizes are just t / sqrt(N)\n",
    "t_value = 2.03\n",
    "N = 80\n",
    "delta = t_value / sqrt(N)\n",
    "\n",
    "# define liklihood \n",
    "data_model = t.lik(center = delta, df = N - 1)\n",
    "\n",
    "# define model / priors\n",
    "\n",
    "h0_model = function(theta.range){\n",
    "    list(func = function(theta) ifelse(theta == 0, 1, 0),\n",
    "         theta.range = theta.range)\n",
    "}\n",
    "\n",
    "\n",
    "h1_model = function(theta.range){\n",
    "    list(func = function(theta) dcauchy(x = theta, location = 0, scale = 1),\n",
    "         theta.range = theta.range)\n",
    "}\n",
    "\n",
    "# multiply the prior and likelihoods\n",
    "\n",
    "M0 = data_model * h0_model(theta.range = c(0,0))\n",
    "\n",
    "M1 = data_model * h1_model(theta.range = c(-Inf, Inf))\n",
    "\n",
    "# take the intergral and divide\n",
    "\n",
    "BF01 =  M0$integral / M1$integral\n",
    "glue::glue(\"B<sub>01</sub> = {round(BF01,2)}  \n",
    "B<sub>01</sub> = {round(1/BF01,2)}\") %>% IRdisplay::display_markdown()"
   ]
  },
  {
   "cell_type": "markdown",
   "metadata": {},
   "source": []
  },
  {
   "cell_type": "code",
   "execution_count": 18,
   "metadata": {},
   "outputs": [
    {
     "data": {
      "image/png": "[encoded data removed]",
      "text/plain": [
       "plot without title"
      ]
     },
     "metadata": {
      "image/png": {
       "height": 420,
       "width": 420
      }
     },
     "output_type": "display_data"
    }
   ],
   "source": [
    "# 17\n",
    "\n",
    "# define the prior\n",
    "\n",
    "h1_unit_information = function(theta.range){\n",
    "    list(func = function(theta) dnorm(x = theta, mean = 0, sd = 1),\n",
    "         theta.range = theta.range)\n",
    "}\n",
    "\n",
    "\n",
    "\n",
    "# plot it over a reasonable range of theta\n",
    "theta.range = seq(-10,10,.01) \n",
    "\n",
    "# then make a tibble with the data for the plot\n",
    "tibble(theta = theta.range, p = h1_unit_information(theta.range)$func(theta.range)) %>% \n",
    "ggplot(aes(x = theta, y = p)) + geom_line() + scale_x_continuous(name = \"δ\") + \n",
    "scale_y_continuous(name = \"p(δ)\") + theme_minimal()"
   ]
  },
  {
   "cell_type": "markdown",
   "metadata": {},
   "source": []
  },
  {
   "cell_type": "code",
   "execution_count": 19,
   "metadata": {},
   "outputs": [
    {
     "data": {
      "text/markdown": [
       "B<sub>01</sub> = 1.21  \n",
       "B<sub>01</sub> = 0.83"
      ]
     },
     "metadata": {},
     "output_type": "display_data"
    }
   ],
   "source": [
    "# 18\n",
    "\n",
    "M1_unit_info = data_model * h1_unit_information(theta.range = c(-Inf, Inf))\n",
    "\n",
    "BF01 =  M0$integral / M1_unit_info$integral\n",
    "glue::glue(\"B<sub>01</sub> = {round(BF01,2)}  \n",
    "B<sub>01</sub> = {round(1/BF01,2)}\") %>% IRdisplay::display_markdown()\n"
   ]
  },
  {
   "cell_type": "markdown",
   "metadata": {},
   "source": []
  },
  {
   "cell_type": "code",
   "execution_count": 20,
   "metadata": {},
   "outputs": [
    {
     "data": {
      "text/markdown": [
       "B<sub>01</sub> = 0.13  \n",
       "B<sub>01</sub> = 7.55"
      ]
     },
     "metadata": {},
     "output_type": "display_data"
    }
   ],
   "source": [
    "# 19\n",
    "\n",
    "h1_psychic = function(theta.range){\n",
    "    list(func = function(theta) ifelse(theta == delta, 1, 0) ,\n",
    "         theta.range = theta.range)\n",
    "}\n",
    "\n",
    "M1_psychic = data_model * h1_psychic(theta.range = c(delta, delta))\n",
    "\n",
    "BF01 =  M0$integral / M1_psychic$integral\n",
    "glue::glue(\"B<sub>01</sub> = {round(BF01,2)}  \n",
    "B<sub>01</sub> = {round(1/BF01,2)}\") %>% IRdisplay::display_markdown()"
   ]
  },
  {
   "cell_type": "markdown",
   "metadata": {},
   "source": []
  },
  {
   "cell_type": "code",
   "execution_count": 21,
   "metadata": {},
   "outputs": [
    {
     "data": {
      "text/markdown": [
       "B<sub>01</sub> = 97.42  \n",
       "B<sub>01</sub> = 0.01"
      ]
     },
     "metadata": {},
     "output_type": "display_data"
    }
   ],
   "source": [
    "# 20 \n",
    "\n",
    "h1_uniform = function(theta.range){\n",
    "    list(func = function(theta) dunif(x = theta, min = -100, max = 100) ,\n",
    "         theta.range = theta.range)\n",
    "}\n",
    "\n",
    "M1_uniform = data_model * h1_uniform(theta.range = c(-100, 100))\n",
    "\n",
    "BF01 =  M0$integral / M1_uniform$integral\n",
    "glue::glue(\"B<sub>01</sub> = {round(BF01,2)}  \n",
    "B<sub>01</sub> = {round(1/BF01,2)}\") %>% IRdisplay::display_markdown()"
   ]
  },
  {
   "cell_type": "markdown",
   "metadata": {},
   "source": []
  },
  {
   "cell_type": "markdown",
   "metadata": {},
   "source": [
    "### Dienes (2014) Example 1"
   ]
  },
  {
   "cell_type": "code",
   "execution_count": 22,
   "metadata": {},
   "outputs": [],
   "source": [
    "# to define the likelihood we'll need the mean and the standard error\n",
    "\n",
    "negative_mood_acc = 65\n",
    "positive_mood_acc = 70\n",
    "mean_diff = abs(negative_mood_acc - positive_mood_acc)\n",
    "t_stat = 0.5\n",
    "se = mean_diff / t_stat"
   ]
  },
  {
   "cell_type": "code",
   "execution_count": 23,
   "metadata": {},
   "outputs": [
    {
     "data": {
      "image/png": "[encoded data removed]",
      "text/plain": [
       "plot without title"
      ]
     },
     "metadata": {
      "image/png": {
       "height": 420,
       "width": 420
      }
     },
     "output_type": "display_data"
    }
   ],
   "source": [
    "# define the likelihood\n",
    "# we'll use a normal likelihood\n",
    "# using a normal might not be the *best* choice, but we'll use it because Dienes (2014) uses a normal\n",
    "# we can discuss alternatives in subsequent examples\n",
    "\n",
    "#data_model = norm.lik(center = mean_diff, scale =  se)\n",
    "data_model = scaled.shifted.t.lik(center = mean_diff, scale =  se, df = 1)\n",
    "\n",
    "\n",
    "plot(data_model, theta = seq(-40,40,.1)) + geom_vline(xintercept = mean_diff, linetype = 2) + \n",
    "scale_x_continuous(name = \"mean difference\", breaks = c(seq(-40,40,20),mean_diff)) + theme_minimal()"
   ]
  },
  {
   "cell_type": "code",
   "execution_count": 24,
   "metadata": {},
   "outputs": [
    {
     "data": {
      "image/png": "[encoded data removed]",
      "text/plain": [
       "plot without title"
      ]
     },
     "metadata": {
      "image/png": {
       "height": 420,
       "width": 420
      }
     },
     "output_type": "display_data"
    }
   ],
   "source": [
    "# define model / priors\n",
    "\n",
    "h0_model = function(theta.range){\n",
    "    list(func = function(theta) ifelse(theta == 0, 1, 0), # a point null with mean diff = 0\n",
    "         theta.range = theta.range)\n",
    "}\n",
    "\n",
    "h1_model = function(theta.range){\n",
    "    list(func = function(theta) dunif(x = theta, min = 0, max = 20), # uniform prior from 0 to 20\n",
    "         theta.range = theta.range)\n",
    "}\n",
    "\n",
    "# plot the h1 prior \n",
    "\n",
    "theta.range = seq(-10,30,.1) # from -10 to +30 in steps 0.1\n",
    "\n",
    "# then make a tibble with the data for the plot\n",
    "tibble(theta = theta.range, p = h1_model(theta.range)$func(theta.range)) %>% \n",
    "ggplot(aes(x = theta, y = p)) + geom_line() + scale_x_continuous(name = \"mean difference\") + \n",
    "scale_y_continuous(name = \"p(mean difference)\") + theme_minimal()\n"
   ]
  },
  {
   "cell_type": "code",
   "execution_count": 25,
   "metadata": {},
   "outputs": [
    {
     "data": {
      "text/markdown": [
       "B<sub>10</sub> = 0.9"
      ]
     },
     "metadata": {},
     "output_type": "display_data"
    }
   ],
   "source": [
    "# multiply the prior and likelihoods and priors\n",
    "M0 = data_model * h0_model(theta.range = c(0,0))\n",
    "\n",
    "M1 = data_model * h1_model(theta.range = c(-Inf, Inf))\n",
    "\n",
    "\n",
    "BF10 = M1$integral / M0$integral\n",
    "glue::glue(\"B<sub>10</sub> = {round(BF10,2)}\") %>% IRdisplay::display_markdown()"
   ]
  },
  {
   "cell_type": "markdown",
   "metadata": {},
   "source": [
    "Dienes extends the example a bit to show how **BFs** and *p*-values will sometimes lead to different conclusions. It's worth examing the example to understand why this is the case. It'll help us understand both **BFs** and *p*-values better. \n",
    "\n",
    "Dienes asks to consider two examples:\n",
    "\n",
    "1. A mean difference of 1 with a standard error of 10\n",
    "2. A mean difference of 1 with a standard error of 1\n",
    "\n",
    "He goes on to calculate *p* values and **BFs** (using the above model<sup>1</sup>) for both example. We'll do the same, and examine the results. \n",
    "\n",
    "\n",
    "<sup>1</sup><small>A key point here is that the exact same priors are used for both examples. We might want to question whether this is reasonable.</small>"
   ]
  },
  {
   "cell_type": "code",
   "execution_count": 26,
   "metadata": {},
   "outputs": [
    {
     "data": {
      "text/markdown": [
       "For Example 1, a standard *t* test gives the result: *t*(50) = 0.1, \n",
       "*p* = 0.92"
      ]
     },
     "metadata": {},
     "output_type": "display_data"
    }
   ],
   "source": [
    "# Example 1 (t test)\n",
    "\n",
    "mean_diff = 1\n",
    "se.1 = 10\n",
    "df = 50\n",
    "t_stat.1 = mean_diff / se.1\n",
    "p_value.1 = 2 * pt(t_stat.1, df,lower.tail = F)\n",
    "\n",
    "glue::glue(\"For Example 1, a standard *t* test gives the result: *t*({df}) = {round(t_stat.1,2)}, \n",
    "*p* = {round(p_value.1,2)}\") %>% \n",
    "IRdisplay::display_markdown()"
   ]
  },
  {
   "cell_type": "code",
   "execution_count": 27,
   "metadata": {},
   "outputs": [
    {
     "data": {
      "text/markdown": [
       "For example 1, the BF analysis gives B<sub>01</sub> = 1.55"
      ]
     },
     "metadata": {},
     "output_type": "display_data"
    }
   ],
   "source": [
    "# Example 1 with BFs\n",
    "\n",
    "# We'll use the same priors as before so we just have to change the likelihood (aka data mode)\n",
    "\n",
    "data_model.1 = norm.lik(center = mean_diff, scale =  se.1)\n",
    "\n",
    "M0 = data_model.1 * h0_model(theta.range = c(0,0))\n",
    "\n",
    "M1 = data_model.1 * h1_model(theta.range = c(-Inf, Inf))\n",
    "BF01.1 = M0$integral / M1$integral\n",
    "glue::glue(\"For example 1, the BF analysis gives B<sub>01</sub> = {round(BF01.1,2)}\") %>%\n",
    "IRdisplay::display_markdown()\n"
   ]
  },
  {
   "cell_type": "code",
   "execution_count": 28,
   "metadata": {},
   "outputs": [
    {
     "data": {
      "text/markdown": [
       "For Example 2, a standard *t* test gives the result: *t*(50) = 1, \n",
       "*p* = 0.32"
      ]
     },
     "metadata": {},
     "output_type": "display_data"
    }
   ],
   "source": [
    "# Example 2 (t test)\n",
    "\n",
    "mean_diff = 1\n",
    "se.2 = 1\n",
    "df = 50\n",
    "t_stat.2 = mean_diff / se.2\n",
    "p_value.2 = 2 * pt(t_stat.2, df,lower.tail = F)\n",
    "\n",
    "glue::glue(\"For Example 2, a standard *t* test gives the result: *t*({df}) = {round(t_stat.2,2)}, \n",
    "*p* = {round(p_value.2,2)}\") %>% \n",
    "IRdisplay::display_markdown()"
   ]
  },
  {
   "cell_type": "code",
   "execution_count": 29,
   "metadata": {},
   "outputs": [
    {
     "data": {
      "text/markdown": [
       "For example 2, the BF analysis gives B<sub>10</sub> = 5.75"
      ]
     },
     "metadata": {},
     "output_type": "display_data"
    }
   ],
   "source": [
    "# Example 2 with BFs\n",
    "\n",
    "# We'll use the same priors as before so we just have to change the likelihood (aka data mode)\n",
    "\n",
    "data_model.2 = norm.lik(center = mean_diff, scale =  se.2)\n",
    "\n",
    "M0 = data_model.2 * h0_model(theta.range = c(0,0))\n",
    "\n",
    "M1 = data_model.2 * h1_model(theta.range = c(-Inf, Inf))\n",
    "BF01.2 = M0$integral / M1$integral\n",
    "glue::glue(\"For example 2, the BF analysis gives B<sub>10</sub> = {round(BF01.2,2)}\") %>%\n",
    "IRdisplay::display_markdown()\n"
   ]
  },
  {
   "cell_type": "markdown",
   "metadata": {},
   "source": [
    "Understanding the difference between these two inferences highlights how the two kinds of analysis ask different questions. Remember, *p* values ask about whether **data are surprising** given a particular parameter. In contrast, **BFs** ask about **plausible values of a parameter**. We can highlight this different by plotting, on the same figure, the range of **unsurprising** data values and the **likely values of the parameter** given our data."
   ]
  },
  {
   "cell_type": "code",
   "execution_count": 30,
   "metadata": {},
   "outputs": [
    {
     "data": {
      "image/png": "[encoded data removed]",
      "text/plain": [
       "plot without title"
      ]
     },
     "metadata": {
      "image/png": {
       "height": 420,
       "width": 420
      }
     },
     "output_type": "display_data"
    }
   ],
   "source": [
    "# Example 1\n",
    "\n",
    "# First get the unsurprising range of data values\n",
    "\n",
    "# work out the range of unsurprising values in t units\n",
    "t_range.1 = qt(.975, df = 50, ncp = 0)\n",
    "\n",
    "# unscale this so that it's in original units\n",
    "mean_range.1 = t_range.1 * se.1\n",
    "\n",
    "plot(data_model.1, theta = seq(-30,30,.1)) + ylim(c(-.02,.4)) +\n",
    "geom_errorbarh(mapping = aes(xmin = -mean_range.1, xmax = mean_range.1, y = 0), height = .02) + \n",
    "geom_vline(xintercept = mean_diff, linetype = 2 ) + theme_minimal() +\n",
    "labs(subtitle = glue::glue(\"p = {round(p_value.1,2)}; B₀₁ = {round(BF01.1,2)}\"), x = \"mean difference\", y = \"\")"
   ]
  },
  {
   "cell_type": "code",
   "execution_count": 31,
   "metadata": {},
   "outputs": [
    {
     "data": {
      "image/png": "[encoded data removed]",
      "text/plain": [
       "plot without title"
      ]
     },
     "metadata": {
      "image/png": {
       "height": 420,
       "width": 420
      }
     },
     "output_type": "display_data"
    }
   ],
   "source": [
    "# Example 2\n",
    "\n",
    "# First get the unsurprising range of data values\n",
    "\n",
    "# work out the range of unsurprising values in t units\n",
    "t_range.2 = qt(.975, df = 50, ncp = 0)\n",
    "\n",
    "# unscale this so that it's in original units\n",
    "mean_range.2 = t_range.2 * se.2\n",
    "\n",
    "plot(data_model.2, theta = seq(-30,30,.1))  + ylim(c(-.02,.4)) +\n",
    "geom_errorbarh(mapping = aes(xmin = -mean_range.2, xmax = mean_range.2, y = 0), height = .02) + \n",
    "geom_vline(xintercept = mean_diff, linetype = 2 ) + theme_minimal()  +\n",
    "labs(subtitle = glue::glue(\"p = {round(p_value.2,2)}; B₀₁ = {round(BF01.2,2)}\"), x = \"mean difference\", y = \"\")"
   ]
  },
  {
   "cell_type": "markdown",
   "metadata": {},
   "source": [
    "In the plots we can see that in example 1, a very wide range of values of the mean difference could plausibly produce the value of the mean difference we actually observed. In example 2, however, the range of plausible values for the mean difference is very small. In example 1, the range of values includes values that are both very big and very small. That is, data show that we're very uncertain about the actual value of the mean difference with the likelihood being wide and spread out; therefore, the BF value does allow us to make any strong conclusions either way about which model is best supported. In example 2, however, the range is narrow and all the values are very close to 0 (our null value)—that is, the likelihood is highly peaked near 0.\n",
    "\n",
    "The frequentist inference asks something completely different. We set the paramter to 0, and then generate data based on this. We compare this generated data with our actual data and ask if it's surprising or not. From the first plot, we see that the \"unsurprising\" range is very large. Our data lies somewhere near the middle of the range. In the second figure, the range is very narrow. As a result, our data now lies right near the edge of the range. \n",
    "\n",
    "Again, because this is not a class on frequentist inference I won't give details on what I think the **correct** frequentist analysis for these example should be. But these examples are illustrative because they employ the **common** way **most people** would analyse this kind data."
   ]
  },
  {
   "cell_type": "code",
   "execution_count": null,
   "metadata": {},
   "outputs": [],
   "source": []
  }
 ],
 "metadata": {
  "kernelspec": {
   "display_name": "R",
   "language": "R",
   "name": "ir"
  },
  "language_info": {
   "codemirror_mode": "r",
   "file_extension": ".r",
   "mimetype": "text/x-r-source",
   "name": "R",
   "pygments_lexer": "r",
   "version": "3.6.1"
  }
 },
 "nbformat": 4,
 "nbformat_minor": 4
}
