{
 "cells": [
  {
   "cell_type": "markdown",
   "metadata": {},
   "source": [
    "# Table of Contents\n",
    "\n",
    "The topics for [Part I](part1.ipynb) are as follows:\n",
    "\n",
    "1. [Introduction](part1.ipynb#Introduction)\n",
    "2. [The p value](part1.ipynb#The-p-value)\n",
    "    1. [Probability](part1.ipynb#Probability)\n",
    "    2. [Probability and *p* values](part1.ipynb#Probability-and-p-values)\n",
    "        1. [Understanding the *p* through simulation](part1.ipynb#Understanding-the-p-through-simulation)\n",
    "            1. [Finding treasure](part1.ipynb#Finding-treasure)\n",
    "            2. [Using our device](part1.ipynb#Using-our-device)\n",
    "    3. [Interim summary](part1.ipynb#Interim-summary)\n",
    "3. [A short note on confidence intervals](part1.ipynb#A-short-note-on-confidence-intervals)\n",
    "\n",
    "\n"
   ]
  },
  {
   "cell_type": "markdown",
   "metadata": {},
   "source": [
    "The topics for [Part II](part2.ipynb) are as follows:\n",
    "\n",
    "1. [Criticisms of *p* values](part2.ipynb#Criticisms-of-p-values)\n",
    "    1. [Same measurements from different devices](part2.ipynb#Same-measurements-from-different-devices)\n",
    "    2. [The universe of possible events](part2.ipynb#The-universe-of-possible-events)"
   ]
  },
  {
   "cell_type": "markdown",
   "metadata": {},
   "source": [
    "The topics for [Part III](part3.ipynb) are as follows:\n",
    "\n",
    "1. [The evidential alternative to *p* values](part3.ipynb#The-evidential-alternative-to-p-values)\n",
    "    1. [A theory of statistical evidence](part3.ipynb#A-theory-of-statistical-evidence)\n",
    "        1. [Some features of likelihoods](part3.ipynb#Some-features-of-likelihoods)\n",
    "        2. [Likelihoods and statistical evidence](part3.ipynb#Likelihoods-and-statistical-evidence)\n",
    "        3. [Are all sub-hypotheses equal?](part3.ipynb#Are-all-sub-hypotheses-equal?)"
   ]
  },
  {
   "cell_type": "markdown",
   "metadata": {},
   "source": [
    "The topics for [Part IV](part4.ipynb) are as follows:\n",
    "\n",
    "1. [Bayes rule](part4.ipynb#Bayes-rule)\n",
    "    1. [What is Bayes rule](part4.ipynb#What-is-Bayes-rule)\n",
    "        1. [Conditional probability form](part4.ipynb#Conditional-probability-form)\n",
    "        2. [Proportional form](part4.ipynb#Proportional-form)\n",
    "        3. [Ratio form](part4.ipynb#Ratio-form)\n",
    "    2. [Bayes factor](part4.ipynb#Bayes-factor)\n",
    "  "
   ]
  },
  {
   "cell_type": "markdown",
   "metadata": {},
   "source": [
    "The topics for [Part V](part5.ipynb) are as follows:\n",
    "\n",
    "1. [Choosing priors Part I](part5.ipynb#Choosing-priors-Part-I)\n",
    "    1. [Priors with specific mathematical properties](part5.ipynb#Priors-with-specific-mathematical-properties)\n",
    "    2. [Priors that reflect ignorance](part5.ipynb#Priors-that-reflect-ignorance)\n",
    "    3. [Priors that reflect our beliefs about the world](part5.ipynb#Priors-that-reflect-our-beliefs-about-the-world.)"
   ]
  }
 ],
 "metadata": {
  "kernelspec": {
   "display_name": "R",
   "language": "R",
   "name": "ir"
  },
  "language_info": {
   "codemirror_mode": "r",
   "file_extension": ".r",
   "mimetype": "text/x-r-source",
   "name": "R",
   "pygments_lexer": "r",
   "version": "3.6.1"
  }
 },
 "nbformat": 4,
 "nbformat_minor": 4
}
