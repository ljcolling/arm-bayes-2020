{
 "cells": [
  {
   "cell_type": "markdown",
   "metadata": {},
   "source": [
    "# Estimation"
   ]
  },
  {
   "cell_type": "code",
   "execution_count": 1,
   "metadata": {},
   "outputs": [
    {
     "name": "stderr",
     "output_type": "stream",
     "text": [
      "Loading required package: brms\n",
      "\n",
      "Loading required package: Rcpp\n",
      "\n",
      "Registered S3 method overwritten by 'xts':\n",
      "  method     from\n",
      "  as.zoo.xts zoo \n",
      "\n",
      "Loading 'brms' package (version 2.10.0). Useful instructions\n",
      "can be found by typing help('brms'). A more detailed introduction\n",
      "to the package is available through vignette('brms_overview').\n",
      "\n",
      "Loading required package: BEST\n",
      "\n",
      "Loading required package: HDInterval\n",
      "\n",
      "Loading required package: tidyverse\n",
      "\n",
      "── \u001b[1mAttaching packages\u001b[22m ─────────────────────────────────────── tidyverse 1.3.0 ──\n",
      "\n",
      "\u001b[32m✔\u001b[39m \u001b[34mggplot2\u001b[39m 3.2.1     \u001b[32m✔\u001b[39m \u001b[34mpurrr  \u001b[39m 0.3.3\n",
      "\u001b[32m✔\u001b[39m \u001b[34mtibble \u001b[39m 2.1.3     \u001b[32m✔\u001b[39m \u001b[34mdplyr  \u001b[39m 0.8.3\n",
      "\u001b[32m✔\u001b[39m \u001b[34mtidyr  \u001b[39m 1.0.0     \u001b[32m✔\u001b[39m \u001b[34mstringr\u001b[39m 1.4.0\n",
      "\u001b[32m✔\u001b[39m \u001b[34mreadr  \u001b[39m 1.3.1     \u001b[32m✔\u001b[39m \u001b[34mforcats\u001b[39m 0.4.0\n",
      "\n",
      "── \u001b[1mConflicts\u001b[22m ────────────────────────────────────────── tidyverse_conflicts() ──\n",
      "\u001b[31m✖\u001b[39m \u001b[34mdplyr\u001b[39m::\u001b[32mfilter()\u001b[39m masks \u001b[34mstats\u001b[39m::filter()\n",
      "\u001b[31m✖\u001b[39m \u001b[34mdplyr\u001b[39m::\u001b[32mlag()\u001b[39m    masks \u001b[34mstats\u001b[39m::lag()\n",
      "\n",
      "Loading required package: MASS\n",
      "\n",
      "\n",
      "Attaching package: ‘MASS’\n",
      "\n",
      "\n",
      "The following object is masked from ‘package:dplyr’:\n",
      "\n",
      "    select\n",
      "\n",
      "\n"
     ]
    }
   ],
   "source": [
    "require(brms)\n",
    "require(BEST)\n",
    "require(tidyverse)\n",
    "require(MASS)"
   ]
  },
  {
   "cell_type": "code",
   "execution_count": 28,
   "metadata": {},
   "outputs": [
    {
     "data": {
      "image/png": "[encoded data removed]",
      "text/plain": [
       "plot without title"
      ]
     },
     "metadata": {
      "image/png": {
       "height": 420,
       "width": 420
      }
     },
     "output_type": "display_data"
    }
   ],
   "source": [
    "# 1\n",
    "\n",
    "# lets generate some data specific characteristics\n",
    "mu = 10\n",
    "sigma = 5\n",
    "\n",
    "# we'll generate N data point\n",
    "N = 20\n",
    "\n",
    "sample_data = as.numeric(mu + sigma * scale(rnorm(n = N, 0, 1)))\n",
    "\n",
    "ggplot() + geom_dotplot(mapping = aes(x = sample_data),binwidth = 2) + \n",
    "scale_y_continuous(name = NULL, labels = NULL) + theme_minimal() "
   ]
  },
  {
   "cell_type": "code",
   "execution_count": 53,
   "metadata": {},
   "outputs": [
    {
     "data": {
      "text/markdown": [
       "our MLE for the mean is 10 and for the sd is 4.873"
      ]
     },
     "metadata": {},
     "output_type": "display_data"
    }
   ],
   "source": [
    "# 2 \n",
    "\n",
    "# lets like estimate the mean and sd\n",
    "\n",
    "mean_opts = seq(9.8,10.2, by = .1) # some values for the mean to try out\n",
    "sd_opts = seq(4.7, 5, length.out =  10000) # some values for the sd to try out\n",
    "\n",
    "opts = cross_df(list(mean = mean_opts, \n",
    "              sd = sd_opts)) %>% set_names(c(\"m\",\"s\")) # make every possible combination of our two vectors\n",
    "\n",
    "# write our liklihood function\n",
    "norm.lik = function(D, m, s){\n",
    "    \n",
    "    # instead of working out the product of the likelihoods \n",
    "    # we'll just take the sum of the log values\n",
    "    # because they're mathematically equivalent\n",
    "    log.lik = sum(dnorm(sample_data, mean = m, sd = s, log = T))\n",
    "    \n",
    "    # then we just \"un-log\" it\n",
    "    exp(log.lik)\n",
    "    \n",
    "}\n",
    "\n",
    "log.likes = furrr::future_pmap_dbl(opts,  function(m,s) norm.lik(D = sample_data, m = m, s = s))\n",
    "                                   \n",
    "# find the row that contains the max likelihood\n",
    "                                   \n",
    "max.row = which.max(log.likes)                       \n",
    "\n",
    "# get the mean and sd from this row\n",
    "                                   \n",
    "opts[max.row,] %>% \n",
    "glue::glue_data(\"our MLE for the mean is {round(m,3)} and for the sd is {round(s,3)}\") %>%\n",
    "IRdisplay::display_markdown()"
   ]
  },
  {
   "cell_type": "code",
   "execution_count": 41,
   "metadata": {},
   "outputs": [
    {
     "data": {
      "text/markdown": [
       "our MLE for the mean is 10 \n",
       "and for the sd is 4.873"
      ]
     },
     "metadata": {},
     "output_type": "display_data"
    }
   ],
   "source": [
    "# 3\n",
    "\n",
    "# Do mle the smart way!\n",
    "\n",
    "mle_smart_way = MASS::fitdistr(sample_data, densfun = \"normal\") \n",
    "glue::glue(\"our MLE for the mean is {round(mle_smart_way$estimate[[1]],3)} \n",
    "and for the sd is {round(mle_smart_way$estimate[[2]],3)}\") %>%\n",
    "IRdisplay::display_markdown()"
   ]
  },
  {
   "cell_type": "code",
   "execution_count": 59,
   "metadata": {},
   "outputs": [
    {
     "data": {
      "text/markdown": [
       "The mean of our means is 9.98"
      ]
     },
     "metadata": {},
     "output_type": "display_data"
    },
    {
     "data": {
      "text/markdown": [
       "The sd of our means is 1.11"
      ]
     },
     "metadata": {},
     "output_type": "display_data"
    }
   ],
   "source": [
    "# 4\n",
    "\n",
    "set.seed(3)\n",
    "mu = 10\n",
    "sigma = 5\n",
    "N = 20\n",
    "sample_data = mu + sigma * scale(rnorm(n = N, 0, 1))\n",
    "\n",
    "# a toy MCMC algorithm\n",
    "\n",
    "mean_estimate = mean(sample_data)\n",
    "starting_mu = mean_estimate\n",
    "sd_fixed = sqrt(sum((sample_data - mean_estimate)^2 * 1/N))\n",
    "n_samples = 7000\n",
    "\n",
    "\n",
    "parameter_sample = rep(0,n_samples)\n",
    "parameter_sample[1] = starting_mu\n",
    "\n",
    "for(i in 2 : n_samples){\n",
    "  \n",
    "  \n",
    "  \n",
    "  current_mu = parameter_sample[i-1]\n",
    "  \n",
    "  # get the product of the likelihood for the current mu value\n",
    "  current_lik = sum(dnorm(sample_data, mean = current_mu, sd = sd_fixed, log = T))\n",
    "  \n",
    "  \n",
    "  # take step \n",
    "  new_mu = current_mu  + rnorm(n = 1,0,1)\n",
    "  \n",
    "  # get product of likelihood for the new mu value\n",
    "  \n",
    "  new_lik = sum(dnorm(sample_data, mean = new_mu, sd = sd_fixed, log = T))\n",
    "  \n",
    "  \n",
    "  prop = ifelse(new_lik > current_lik,.95,.2)\n",
    "  \n",
    "  if((runif(1) < prop)){\n",
    "    parameter_sample[i] = new_mu\n",
    "  } else {\n",
    "    parameter_sample[i] = current_mu\n",
    "  }\n",
    "  \n",
    "}\n",
    "\n",
    "glue::glue(\"The mean of our means is {round(mean(parameter_sample),2)}\") %>% IRdisplay::display_markdown()\n",
    "glue::glue(\"The sd of our means is {round(sd(parameter_sample),2)}\") %>% IRdisplay::display_markdown()"
   ]
  },
  {
   "cell_type": "code",
   "execution_count": 28,
   "metadata": {},
   "outputs": [],
   "source": [
    "# 5\n",
    "\n",
    "x = rnorm(n = 20, mean = 2, sd = 4)\n",
    "\n",
    "delta = greta::rmal()\n"
   ]
  },
  {
   "cell_type": "code",
   "execution_count": 34,
   "metadata": {},
   "outputs": [
    {
     "data": {
      "text/html": [
       "4.87339717240448"
      ],
      "text/latex": [
       "4.87339717240448"
      ],
      "text/markdown": [
       "4.87339717240448"
      ],
      "text/plain": [
       "[1] 4.873397"
      ]
     },
     "metadata": {},
     "output_type": "display_data"
    }
   ],
   "source": [
    "# estimate the mean \n",
    "\n",
    "mean_estimate = sum(sample_data * 1/N)\n",
    "\n",
    "# estimate the sd of the data\n",
    "\n",
    "sd_estimate = sqrt(sum((sample_data - mean_estimate)^2 * 1/N))"
   ]
  },
  {
   "cell_type": "code",
   "execution_count": 36,
   "metadata": {},
   "outputs": [],
   "source": [
    "mle_smart_way = MASS::fitdistr(sample_data, densfun = \"normal\") "
   ]
  },
  {
   "cell_type": "code",
   "execution_count": 38,
   "metadata": {},
   "outputs": [
    {
     "ename": "ERROR",
     "evalue": "Error in eval(expr, envir, enclos): trying to get slot \"mean\" from an object (class \"fitdistr\") that is not an S4 object \n",
     "output_type": "error",
     "traceback": [
      "Error in eval(expr, envir, enclos): trying to get slot \"mean\" from an object (class \"fitdistr\") that is not an S4 object \nTraceback:\n"
     ]
    }
   ],
   "source": []
  },
  {
   "cell_type": "code",
   "execution_count": 14,
   "metadata": {},
   "outputs": [
    {
     "data": {
      "text/html": [
       "<table>\n",
       "<caption>A tibble: 1 × 2</caption>\n",
       "<thead>\n",
       "\t<tr><th scope=col>m</th><th scope=col>s</th></tr>\n",
       "\t<tr><th scope=col>&lt;dbl&gt;</th><th scope=col>&lt;dbl&gt;</th></tr>\n",
       "</thead>\n",
       "<tbody>\n",
       "\t<tr><td>10</td><td>4.873387</td></tr>\n",
       "</tbody>\n",
       "</table>\n"
      ],
      "text/latex": [
       "A tibble: 1 × 2\n",
       "\\begin{tabular}{r|ll}\n",
       " m & s\\\\\n",
       " <dbl> & <dbl>\\\\\n",
       "\\hline\n",
       "\t 10 & 4.873387\\\\\n",
       "\\end{tabular}\n"
      ],
      "text/markdown": [
       "\n",
       "A tibble: 1 × 2\n",
       "\n",
       "| m &lt;dbl&gt; | s &lt;dbl&gt; |\n",
       "|---|---|\n",
       "| 10 | 4.873387 |\n",
       "\n"
      ],
      "text/plain": [
       "  m  s       \n",
       "1 10 4.873387"
      ]
     },
     "metadata": {},
     "output_type": "display_data"
    }
   ],
   "source": [
    "mu = 10\n",
    "sigma = 5\n",
    "N = 20\n",
    "sample_data = mu + sigma * scale(rnorm(n = N, 0, 1))\n",
    "\n",
    "sample_data  = as.numeric(sample_data)\n",
    "mean_opts = seq(9.8,10.2, by = .1)\n",
    "sd_opts = seq(4.7, 5, length.out =  10000)  \n",
    "\n",
    "cross_df(list(mean = mean_opts, \n",
    "              sd = sd_opts)) %>% set_names(c(\"m\",\"s\"))-> opts\n",
    "furrr::future_pmap_dbl(opts,  function(m,s) sum(dnorm(sample_data, mean = m, sd = s, log = T))) -> mle\n",
    "opts[which.max(mle),]"
   ]
  },
  {
   "cell_type": "code",
   "execution_count": 15,
   "metadata": {},
   "outputs": [
    {
     "data": {
      "text/plain": [
       "      mean          sd    \n",
       "  10.0000000    4.8733972 \n",
       " ( 1.0897247) ( 0.7705518)"
      ]
     },
     "metadata": {},
     "output_type": "display_data"
    }
   ],
   "source": [
    "MASS::fitdistr(sample_data, densfun = \"normal\")"
   ]
  },
  {
   "cell_type": "code",
   "execution_count": 51,
   "metadata": {},
   "outputs": [
    {
     "data": {
      "text/html": [
       "9.97832069871724"
      ],
      "text/latex": [
       "9.97832069871724"
      ],
      "text/markdown": [
       "9.97832069871724"
      ],
      "text/plain": [
       "[1] 9.978321"
      ]
     },
     "metadata": {},
     "output_type": "display_data"
    },
    {
     "data": {
      "text/html": [
       "1.10886337884734"
      ],
      "text/latex": [
       "1.10886337884734"
      ],
      "text/markdown": [
       "1.10886337884734"
      ],
      "text/plain": [
       "[1] 1.108863"
      ]
     },
     "metadata": {},
     "output_type": "display_data"
    }
   ],
   "source": [
    "set.seed(3)\n",
    "mu = 10\n",
    "sigma = 5\n",
    "N = 20\n",
    "sample_data = mu + sigma * scale(rnorm(n = N, 0, 1))\n",
    "\n",
    "# a toy MCMC algorithm\n",
    "\n",
    "mean_estimate = mean(sample_data)\n",
    "starting_mu = mean_estimate\n",
    "sd_fixed = sqrt(sum((sample_data - mean_estimate)^2 * 1/N))\n",
    "n_samples = 7000\n",
    "\n",
    "\n",
    "parameter_sample = rep(0,n_samples)\n",
    "parameter_sample[1] = starting_mu\n",
    "\n",
    "for(i in 2 : n_samples){\n",
    "  \n",
    "  \n",
    "  \n",
    "  current_mu = parameter_sample[i-1]\n",
    "  \n",
    "  # get the product of the likelihood for the current mu value\n",
    "  current_lik = sum(dnorm(sample_data, mean = current_mu, sd = sd_fixed, log = T))\n",
    "  \n",
    "  \n",
    "  # take step \n",
    "  new_mu = current_mu  + rnorm(n = 1,0,1)\n",
    "  \n",
    "  # get product of likelihood for the new mu value\n",
    "  \n",
    "  new_lik = sum(dnorm(sample_data, mean = new_mu, sd = sd_fixed, log = T))\n",
    "  \n",
    "  \n",
    "  prop = ifelse(new_lik > current_lik,.95,.2)\n",
    "  \n",
    "  if((runif(1) < prop)){\n",
    "    parameter_sample[i] = new_mu\n",
    "  } else {\n",
    "    parameter_sample[i] = current_mu\n",
    "  }\n",
    "  \n",
    "}\n",
    "mean(parameter_sample)\n",
    "sd(parameter_sample)\n"
   ]
  },
  {
   "cell_type": "code",
   "execution_count": 158,
   "metadata": {},
   "outputs": [],
   "source": [
    "current = sum(dnorm(sample_data, mean = new_mu, sd = sd_fixed, log = T))\n"
   ]
  },
  {
   "cell_type": "code",
   "execution_count": 190,
   "metadata": {},
   "outputs": [],
   "source": [
    "current_lik = log(prod(dnorm(sample_data, mean = 10, sd = sd_fixed, log = F)))"
   ]
  },
  {
   "cell_type": "code",
   "execution_count": 221,
   "metadata": {},
   "outputs": [
    {
     "data": {
      "text/html": [
       "8.29125663367963e-27"
      ],
      "text/latex": [
       "8.29125663367963e-27"
      ],
      "text/markdown": [
       "8.29125663367963e-27"
      ],
      "text/plain": [
       "[1] 8.291257e-27"
      ]
     },
     "metadata": {},
     "output_type": "display_data"
    }
   ],
   "source": [
    "prod(dnorm(sample_data, mean = 10, sd = sd_fixed, log = F))"
   ]
  },
  {
   "cell_type": "code",
   "execution_count": 249,
   "metadata": {},
   "outputs": [
    {
     "data": {
      "text/html": [
       "2.68811714181614e+43"
      ],
      "text/latex": [
       "2.68811714181614e+43"
      ],
      "text/markdown": [
       "2.68811714181614e+43"
      ],
      "text/plain": [
       "[1] 2.688117e+43"
      ]
     },
     "metadata": {},
     "output_type": "display_data"
    }
   ],
   "source": [
    "exp(100)"
   ]
  },
  {
   "cell_type": "code",
   "execution_count": null,
   "metadata": {},
   "outputs": [],
   "source": [
    "ggplot(mapping = aes(x = parameter_sample)) + geom_histogram(binwidth  = .1)\n"
   ]
  },
  {
   "cell_type": "code",
   "execution_count": 194,
   "metadata": {},
   "outputs": [
    {
     "data": {
      "text/html": [
       "TRUE"
      ],
      "text/latex": [
       "TRUE"
      ],
      "text/markdown": [
       "TRUE"
      ],
      "text/plain": [
       "[1] TRUE"
      ]
     },
     "metadata": {},
     "output_type": "display_data"
    }
   ],
   "source": [
    "1 < exp(current_lik  / new_lik)\n"
   ]
  },
  {
   "cell_type": "code",
   "execution_count": 98,
   "metadata": {},
   "outputs": [
    {
     "name": "stderr",
     "output_type": "stream",
     "text": [
      "Compiling the C++ model\n",
      "\n",
      "recompiling to avoid crashing R session\n",
      "\n",
      "Start sampling\n",
      "\n"
     ]
    },
    {
     "name": "stdout",
     "output_type": "stream",
     "text": [
      "\n",
      "SAMPLING FOR MODEL '18e327419c687d89aecd2a9688580588' NOW (CHAIN 1).\n",
      "Chain 1: \n",
      "Chain 1: Gradient evaluation took 1.1e-05 seconds\n",
      "Chain 1: 1000 transitions using 10 leapfrog steps per transition would take 0.11 seconds.\n",
      "Chain 1: Adjust your expectations accordingly!\n",
      "Chain 1: \n",
      "Chain 1: \n",
      "Chain 1: Iteration:    1 / 2000 [  0%]  (Warmup)\n",
      "Chain 1: Iteration:  200 / 2000 [ 10%]  (Warmup)\n",
      "Chain 1: Iteration:  400 / 2000 [ 20%]  (Warmup)\n",
      "Chain 1: Iteration:  600 / 2000 [ 30%]  (Warmup)\n",
      "Chain 1: Iteration:  800 / 2000 [ 40%]  (Warmup)\n",
      "Chain 1: Iteration: 1000 / 2000 [ 50%]  (Warmup)\n",
      "Chain 1: Iteration: 1001 / 2000 [ 50%]  (Sampling)\n",
      "Chain 1: Iteration: 1200 / 2000 [ 60%]  (Sampling)\n",
      "Chain 1: Iteration: 1400 / 2000 [ 70%]  (Sampling)\n",
      "Chain 1: Iteration: 1600 / 2000 [ 80%]  (Sampling)\n",
      "Chain 1: Iteration: 1800 / 2000 [ 90%]  (Sampling)\n",
      "Chain 1: Iteration: 2000 / 2000 [100%]  (Sampling)\n",
      "Chain 1: \n",
      "Chain 1:  Elapsed Time: 0.01351 seconds (Warm-up)\n",
      "Chain 1:                0.016728 seconds (Sampling)\n",
      "Chain 1:                0.030238 seconds (Total)\n",
      "Chain 1: \n",
      "\n",
      "SAMPLING FOR MODEL '18e327419c687d89aecd2a9688580588' NOW (CHAIN 2).\n",
      "Chain 2: \n",
      "Chain 2: Gradient evaluation took 4e-06 seconds\n",
      "Chain 2: 1000 transitions using 10 leapfrog steps per transition would take 0.04 seconds.\n",
      "Chain 2: Adjust your expectations accordingly!\n",
      "Chain 2: \n",
      "Chain 2: \n",
      "Chain 2: Iteration:    1 / 2000 [  0%]  (Warmup)\n",
      "Chain 2: Iteration:  200 / 2000 [ 10%]  (Warmup)\n",
      "Chain 2: Iteration:  400 / 2000 [ 20%]  (Warmup)\n",
      "Chain 2: Iteration:  600 / 2000 [ 30%]  (Warmup)\n",
      "Chain 2: Iteration:  800 / 2000 [ 40%]  (Warmup)\n",
      "Chain 2: Iteration: 1000 / 2000 [ 50%]  (Warmup)\n",
      "Chain 2: Iteration: 1001 / 2000 [ 50%]  (Sampling)\n",
      "Chain 2: Iteration: 1200 / 2000 [ 60%]  (Sampling)\n",
      "Chain 2: Iteration: 1400 / 2000 [ 70%]  (Sampling)\n",
      "Chain 2: Iteration: 1600 / 2000 [ 80%]  (Sampling)\n",
      "Chain 2: Iteration: 1800 / 2000 [ 90%]  (Sampling)\n",
      "Chain 2: Iteration: 2000 / 2000 [100%]  (Sampling)\n",
      "Chain 2: \n",
      "Chain 2:  Elapsed Time: 0.013084 seconds (Warm-up)\n",
      "Chain 2:                0.013533 seconds (Sampling)\n",
      "Chain 2:                0.026617 seconds (Total)\n",
      "Chain 2: \n",
      "\n",
      "SAMPLING FOR MODEL '18e327419c687d89aecd2a9688580588' NOW (CHAIN 3).\n",
      "Chain 3: \n",
      "Chain 3: Gradient evaluation took 4e-06 seconds\n",
      "Chain 3: 1000 transitions using 10 leapfrog steps per transition would take 0.04 seconds.\n",
      "Chain 3: Adjust your expectations accordingly!\n",
      "Chain 3: \n",
      "Chain 3: \n",
      "Chain 3: Iteration:    1 / 2000 [  0%]  (Warmup)\n",
      "Chain 3: Iteration:  200 / 2000 [ 10%]  (Warmup)\n",
      "Chain 3: Iteration:  400 / 2000 [ 20%]  (Warmup)\n",
      "Chain 3: Iteration:  600 / 2000 [ 30%]  (Warmup)\n",
      "Chain 3: Iteration:  800 / 2000 [ 40%]  (Warmup)\n",
      "Chain 3: Iteration: 1000 / 2000 [ 50%]  (Warmup)\n",
      "Chain 3: Iteration: 1001 / 2000 [ 50%]  (Sampling)\n",
      "Chain 3: Iteration: 1200 / 2000 [ 60%]  (Sampling)\n",
      "Chain 3: Iteration: 1400 / 2000 [ 70%]  (Sampling)\n",
      "Chain 3: Iteration: 1600 / 2000 [ 80%]  (Sampling)\n",
      "Chain 3: Iteration: 1800 / 2000 [ 90%]  (Sampling)\n",
      "Chain 3: Iteration: 2000 / 2000 [100%]  (Sampling)\n",
      "Chain 3: \n",
      "Chain 3:  Elapsed Time: 0.012056 seconds (Warm-up)\n",
      "Chain 3:                0.012967 seconds (Sampling)\n",
      "Chain 3:                0.025023 seconds (Total)\n",
      "Chain 3: \n",
      "\n",
      "SAMPLING FOR MODEL '18e327419c687d89aecd2a9688580588' NOW (CHAIN 4).\n",
      "Chain 4: \n",
      "Chain 4: Gradient evaluation took 4e-06 seconds\n",
      "Chain 4: 1000 transitions using 10 leapfrog steps per transition would take 0.04 seconds.\n",
      "Chain 4: Adjust your expectations accordingly!\n",
      "Chain 4: \n",
      "Chain 4: \n",
      "Chain 4: Iteration:    1 / 2000 [  0%]  (Warmup)\n",
      "Chain 4: Iteration:  200 / 2000 [ 10%]  (Warmup)\n",
      "Chain 4: Iteration:  400 / 2000 [ 20%]  (Warmup)\n",
      "Chain 4: Iteration:  600 / 2000 [ 30%]  (Warmup)\n",
      "Chain 4: Iteration:  800 / 2000 [ 40%]  (Warmup)\n",
      "Chain 4: Iteration: 1000 / 2000 [ 50%]  (Warmup)\n",
      "Chain 4: Iteration: 1001 / 2000 [ 50%]  (Sampling)\n",
      "Chain 4: Iteration: 1200 / 2000 [ 60%]  (Sampling)\n",
      "Chain 4: Iteration: 1400 / 2000 [ 70%]  (Sampling)\n",
      "Chain 4: Iteration: 1600 / 2000 [ 80%]  (Sampling)\n",
      "Chain 4: Iteration: 1800 / 2000 [ 90%]  (Sampling)\n",
      "Chain 4: Iteration: 2000 / 2000 [100%]  (Sampling)\n",
      "Chain 4: \n",
      "Chain 4:  Elapsed Time: 0.011947 seconds (Warm-up)\n",
      "Chain 4:                0.014509 seconds (Sampling)\n",
      "Chain 4:                0.026456 seconds (Total)\n",
      "Chain 4: \n"
     ]
    }
   ],
   "source": [
    "require(brms)\n",
    "\n",
    "x =  as.numeric(2 + 4 * scale(rnorm(n = 10, 0, 1)))\n",
    "xz = x / sd(x)\n",
    "df = enframe(xz) %>% set_names(c(\"i\",\"y\"))\n",
    "\n",
    "priors = prior(cauchy(0,1), class = \"Intercept\") + prior(cauchy(0,1), class = \"sigma\")\n",
    "fit1 = brm(formula = y ~ 1, data = df, prior = priors, family = gaussian)\n"
   ]
  },
  {
   "cell_type": "code",
   "execution_count": 89,
   "metadata": {},
   "outputs": [],
   "source": [
    "delta = posterior_samples(fit1, c(\"Intercept\",\"sigma\")) %>% set_names(c(\"delta\",\"sigma\")) %>% pull(delta)"
   ]
  },
  {
   "cell_type": "code",
   "execution_count": 101,
   "metadata": {},
   "outputs": [
    {
     "data": {
      "text/html": [
       "0.646271581750985"
      ],
      "text/latex": [
       "0.646271581750985"
      ],
      "text/markdown": [
       "0.646271581750985"
      ],
      "text/plain": [
       "[1] 0.6462716"
      ]
     },
     "metadata": {},
     "output_type": "display_data"
    }
   ],
   "source": [
    "require(logspline)\n",
    "fitPost = logspline(delta)\n",
    "BF_SD = dcauchy(0,0,1) / dlogspline(0,fitPost)\n",
    "BF_SD"
   ]
  },
  {
   "cell_type": "code",
   "execution_count": 100,
   "metadata": {},
   "outputs": [
    {
     "data": {
      "text/plain": [
       "Bayes factor analysis\n",
       "--------------\n",
       "[1] Alt., r=1 : 0.6623551 ±0%\n",
       "\n",
       "Against denominator:\n",
       "  Null, mu = 0 \n",
       "---\n",
       "Bayes factor type: BFoneSample, JZS\n"
      ]
     },
     "metadata": {},
     "output_type": "display_data"
    }
   ],
   "source": [
    "BayesFactor::ttestBF(x,rscale = 1)"
   ]
  },
  {
   "cell_type": "code",
   "execution_count": 102,
   "metadata": {},
   "outputs": [
    {
     "data": {
      "text/html": [
       "<table>\n",
       "<caption>A matrix: 3 × 4 of type dbl</caption>\n",
       "<thead>\n",
       "\t<tr><th></th><th scope=col>Estimate</th><th scope=col>Est.Error</th><th scope=col>Q2.5</th><th scope=col>Q97.5</th></tr>\n",
       "</thead>\n",
       "<tbody>\n",
       "\t<tr><th scope=row>b_Intercept</th><td>  0.4217975</td><td>0.3319315</td><td> -0.2556766</td><td>  1.097511</td></tr>\n",
       "\t<tr><th scope=row>sigma</th><td>  1.0805280</td><td>0.2739644</td><td>  0.6891034</td><td>  1.735344</td></tr>\n",
       "\t<tr><th scope=row>lp__</th><td>-17.2295682</td><td>1.0952343</td><td>-20.1907587</td><td>-16.177875</td></tr>\n",
       "</tbody>\n",
       "</table>\n"
      ],
      "text/latex": [
       "A matrix: 3 × 4 of type dbl\n",
       "\\begin{tabular}{r|llll}\n",
       "  & Estimate & Est.Error & Q2.5 & Q97.5\\\\\n",
       "\\hline\n",
       "\tb\\_Intercept &   0.4217975 & 0.3319315 &  -0.2556766 &   1.097511\\\\\n",
       "\tsigma &   1.0805280 & 0.2739644 &   0.6891034 &   1.735344\\\\\n",
       "\tlp\\_\\_ & -17.2295682 & 1.0952343 & -20.1907587 & -16.177875\\\\\n",
       "\\end{tabular}\n"
      ],
      "text/markdown": [
       "\n",
       "A matrix: 3 × 4 of type dbl\n",
       "\n",
       "| <!--/--> | Estimate | Est.Error | Q2.5 | Q97.5 |\n",
       "|---|---|---|---|---|\n",
       "| b_Intercept |   0.4217975 | 0.3319315 |  -0.2556766 |   1.097511 |\n",
       "| sigma |   1.0805280 | 0.2739644 |   0.6891034 |   1.735344 |\n",
       "| lp__ | -17.2295682 | 1.0952343 | -20.1907587 | -16.177875 |\n",
       "\n"
      ],
      "text/plain": [
       "            Estimate    Est.Error Q2.5        Q97.5     \n",
       "b_Intercept   0.4217975 0.3319315  -0.2556766   1.097511\n",
       "sigma         1.0805280 0.2739644   0.6891034   1.735344\n",
       "lp__        -17.2295682 1.0952343 -20.1907587 -16.177875"
      ]
     },
     "metadata": {},
     "output_type": "display_data"
    }
   ],
   "source": [
    "MASS::fitdistr(sample_data, densfun = \"normal\")"
   ]
  },
  {
   "cell_type": "code",
   "execution_count": 182,
   "metadata": {},
   "outputs": [
    {
     "data": {
      "text/markdown": [
       "B<sub>10</sub> = 1.287"
      ]
     },
     "metadata": {},
     "output_type": "display_data"
    }
   ],
   "source": [
    "M = 29\n",
    "SE = 30\n",
    "N = 10\n",
    "\n",
    "# characteristics of M priors\n",
    "prior_M = 0\n",
    "prior_sd = 40\n",
    "\n",
    "data_model = bayesplay::scaled.shifted.t.lik(center = M, scale = SE, df = N-2)\n",
    "\n",
    "\n",
    "h0_model = function(theta.range){\n",
    "    list(func = function(theta) ifelse(theta == 0, 1, 0), # a point null with mean diff = 0\n",
    "         theta.range = theta.range)\n",
    "}\n",
    "\n",
    "h1_model = function(theta.range){\n",
    "    list(func = function(theta) dnorm(x = theta, mean = prior_M, sd = prior_sd), # uniform prior from 0 to 20\n",
    "         theta.range = theta.range)\n",
    "}\n",
    "\n",
    "\n",
    "M0 = data_model * h0_model(theta.range = c(0,0))\n",
    "\n",
    "M1 = data_model * h1_model(theta.range = c(0, Inf))\n",
    "\n",
    "\n",
    "BF10 = M1$integral / M0$integral\n",
    "glue::glue(\"B<sub>10</sub> = {round(BF10,3)}\") %>% IRdisplay::display_markdown()\n"
   ]
  },
  {
   "cell_type": "code",
   "execution_count": 53,
   "metadata": {},
   "outputs": [
    {
     "data": {
      "text/markdown": [
       "B<sub>01</sub> = 394.5874"
      ]
     },
     "metadata": {},
     "output_type": "display_data"
    }
   ],
   "source": [
    "require(bayesplay)\n",
    "data_model = bayesplay::scaled.shifted.t.lik(center = 1.8, scale = 0.36, df = 18)\n",
    "#data_model = bayesplay::norm.lik(center = 1.8, scale = 0.36)\n",
    "\n",
    "\n",
    "h0_model = function(theta.range){\n",
    "    list(func = function(theta) ifelse(theta == 0, 1, 0), # a point null with mean diff = 0\n",
    "         theta.range = theta.range)\n",
    "}\n",
    "\n",
    "h1_model = function(theta.range){\n",
    "    list(func = function(theta) dnorm(x = theta, mean = 0, sd = 7), # uniform prior from 0 to 20\n",
    "         theta.range = theta.range)\n",
    "}\n",
    "\n",
    "\n",
    "M0 = data_model * h0_model(theta.range = c(0,0))\n",
    "\n",
    "M1 = data_model * h1_model(theta.range = c(0, Inf))\n",
    "\n",
    "\n",
    "BF10 = M1$integral / M0$integral\n",
    "glue::glue(\"B<sub>01</sub> = {round(BF10,5)}\") %>% IRdisplay::display_markdown()\n"
   ]
  },
  {
   "cell_type": "code",
   "execution_count": null,
   "metadata": {},
   "outputs": [],
   "source": []
  },
  {
   "cell_type": "code",
   "execution_count": 196,
   "metadata": {},
   "outputs": [
    {
     "data": {
      "text/html": [
       "0.184333789969317"
      ],
      "text/latex": [
       "0.184333789969317"
      ],
      "text/markdown": [
       "0.184333789969317"
      ],
      "text/plain": [
       "[1] 0.1843338"
      ]
     },
     "metadata": {},
     "output_type": "display_data"
    }
   ],
   "source": [
    "# characteristics of the data\n",
    "\n",
    "M = 29\n",
    "SE = 30\n",
    "N = 10\n",
    "\n",
    "# characteristics of M priors\n",
    "prior_M = 0\n",
    "prior_sd = 40\n",
    "\n",
    "GenSynthSample = function(mean, sd, se, n){\n",
    "  inputs = as.list(sys.call())\n",
    "  if(sum(names(inputs) %in% c(\"se\",\"sd\")) == 2){\n",
    "    stop(\"input se OR sd\")\n",
    "  }\n",
    "  \n",
    "  if(\"se\" %in% names(inputs)){\n",
    "    sd = se * sqrt(n)\n",
    "  }\n",
    "  \n",
    "  x = mean + sd * scale(rnorm(n, 0, 1))\n",
    "  return(x)\n",
    "}\n",
    "\n",
    "\n",
    "x =  GenSynthSample(mean = M, se = SE, n = N)\n",
    "\n",
    "mu = normal(0,prior_sd, truncation = c(0,Inf))\n",
    "#sigma = cauchy(0,2, truncation = c(0,Inf))\n",
    "sigma = uniform(min = 0, max = 2 * (SE * sqrt(N)))\n",
    "\n",
    "\n",
    "distribution(x) = normal(mu,sigma)\n",
    "\n",
    "m = model(mu,sigma)\n",
    "\n",
    "\n",
    "draws = mcmc(m, n_samples = 10000, verbose = FALSE)\n",
    "\n",
    "posteriorMu = draws[[1]][,1]\n",
    "\n",
    "\n",
    "fitPost = logspline(posteriorMu)\n",
    "BF_SD =  dlogspline(0,fitPost) /(dnorm(0,0,prior_sd) * 2)\n",
    "BF_SD\n",
    "\n",
    "\n",
    "\n"
   ]
  },
  {
   "cell_type": "code",
   "execution_count": 200,
   "metadata": {},
   "outputs": [
    {
     "data": {
      "text/html": [
       "1.47467031975454"
      ],
      "text/latex": [
       "1.47467031975454"
      ],
      "text/markdown": [
       "1.47467031975454"
      ],
      "text/plain": [
       "[1] 1.47467"
      ]
     },
     "metadata": {},
     "output_type": "display_data"
    }
   ],
   "source": [
    "dlogspline(0,fitPost) / (.25 * dnorm(0,0,prior_sd))"
   ]
  },
  {
   "cell_type": "code",
   "execution_count": 201,
   "metadata": {},
   "outputs": [
    {
     "data": {
      "text/plain": [
       "\n",
       "Iterations = 1:10000\n",
       "Thinning interval = 1 \n",
       "Number of chains = 4 \n",
       "Sample size per chain = 10000 \n",
       "\n",
       "1. Empirical mean and standard deviation for each variable,\n",
       "   plus standard error of the mean:\n",
       "\n",
       "        Mean    SD Naive SE Time-series SE\n",
       "mu     27.74 18.38  0.09191        0.09764\n",
       "sigma 104.37 25.21  0.12605        0.15204\n",
       "\n",
       "2. Quantiles for each variable:\n",
       "\n",
       "       2.5%   25%    50%    75%  97.5%\n",
       "mu     1.54 13.17  25.11  39.18  69.61\n",
       "sigma 66.35 85.90 100.21 118.81 164.81\n"
      ]
     },
     "metadata": {},
     "output_type": "display_data"
    }
   ],
   "source": [
    "summary(draws)"
   ]
  },
  {
   "cell_type": "code",
   "execution_count": 153,
   "metadata": {},
   "outputs": [],
   "source": [
    "norm.lik <- function(center, scale){\n",
    "  lik.func <- function(theta){dnorm(x = center, mean = theta, sd = scale)}\n",
    "  params = list(center = center, scale = scale, df = df)\n",
    "  desc = paste0(\"Parameters\\nCenter: \",params$center,\"\\nScale: \",params$scale)\n",
    "  new(Class = 'likelihood',\n",
    "      data = list(lik.type = \"normal\", parameters = params),\n",
    "      func = lik.func,\n",
    "      desc = desc,\n",
    "      dist.type = \"continuous\")\n",
    "}"
   ]
  },
  {
   "cell_type": "code",
   "execution_count": 160,
   "metadata": {},
   "outputs": [
    {
     "data": {
      "image/png": "[encoded data removed]",
      "text/plain": [
       "plot without title"
      ]
     },
     "metadata": {
      "image/png": {
       "height": 420,
       "width": 420
      }
     },
     "output_type": "display_data"
    }
   ],
   "source": [
    "data_model1 = norm.lik(center = 3, scale = 1)\n",
    "plot(data_model1,seq(-5,10,.1))"
   ]
  },
  {
   "cell_type": "code",
   "execution_count": 161,
   "metadata": {},
   "outputs": [
    {
     "data": {
      "image/png": "[encoded data removed]",
      "text/plain": [
       "plot without title"
      ]
     },
     "metadata": {
      "image/png": {
       "height": 420,
       "width": 420
      }
     },
     "output_type": "display_data"
    }
   ],
   "source": [
    "data_model2 = bayesplay::scaled.shifted.t.lik(center = 3, scale = 1, df = 29)\n",
    "plot(data_model2,seq(-5,10,.1))"
   ]
  },
  {
   "cell_type": "code",
   "execution_count": 12,
   "metadata": {},
   "outputs": [
    {
     "name": "stderr",
     "output_type": "stream",
     "text": [
      "\n",
      "running 4 chains simultaneously on up to 6 cores\n",
      "\n",
      "\n",
      "\n",
      "    warmup                                           0/1000 | eta:  ?s          \n",
      "\n",
      "    warmup ==                                       50/1000 | eta: 26s          \n",
      "\n",
      "    warmup ====                                    100/1000 | eta: 18s          \n",
      "\n",
      "    warmup =====                                   150/1000 | eta: 15s          \n",
      "\n",
      "    warmup =======                                 200/1000 | eta: 13s          \n",
      "\n",
      "    warmup =========                               250/1000 | eta: 12s          \n",
      "\n",
      "    warmup ===========                             300/1000 | eta: 11s          \n",
      "\n",
      "    warmup =============                           350/1000 | eta: 10s          \n",
      "\n",
      "    warmup ==============                          400/1000 | eta:  9s          \n",
      "\n",
      "    warmup ================                        450/1000 | eta:  8s          \n",
      "\n",
      "    warmup ==================                      500/1000 | eta:  7s          \n",
      "\n",
      "    warmup ====================                    550/1000 | eta:  7s          \n",
      "\n",
      "    warmup ======================                  600/1000 | eta:  6s          \n",
      "\n",
      "    warmup =======================                 650/1000 | eta:  5s          \n",
      "\n",
      "    warmup =========================               700/1000 | eta:  4s          \n",
      "\n",
      "    warmup ===========================             750/1000 | eta:  4s          \n",
      "\n",
      "    warmup =============================           800/1000 | eta:  3s          \n",
      "\n",
      "    warmup ===============================         850/1000 | eta:  2s          \n",
      "\n",
      "    warmup ================================        900/1000 | eta:  1s          \n",
      "\n",
      "    warmup ==================================      950/1000 | eta:  1s          \n",
      "\n",
      "    warmup ====================================   1000/1000 | eta:  0s          \n",
      "\n",
      "\n",
      "\n",
      "  sampling                                          0/10000 | eta:  ?s          \n",
      "\n",
      "  sampling                                         50/10000 | eta:  1m          \n",
      "\n",
      "  sampling                                        100/10000 | eta:  1m          \n",
      "\n",
      "  sampling =                                      150/10000 | eta:  1m          \n",
      "\n",
      "  sampling =                                      200/10000 | eta:  2m          \n",
      "\n",
      "  sampling =                                      250/10000 | eta:  2m          \n",
      "\n",
      "  sampling =                                      300/10000 | eta:  2m          \n",
      "\n",
      "  sampling =                                      350/10000 | eta:  2m          \n",
      "\n",
      "  sampling =                                      400/10000 | eta:  2m          \n",
      "\n",
      "  sampling ==                                     450/10000 | eta:  2m          \n",
      "\n",
      "  sampling ==                                     500/10000 | eta:  2m          \n",
      "\n",
      "  sampling ==                                     550/10000 | eta:  1m          \n",
      "\n",
      "  sampling ==                                     600/10000 | eta:  1m          \n",
      "\n",
      "  sampling ==                                     650/10000 | eta:  1m          \n",
      "\n",
      "  sampling ===                                    700/10000 | eta:  1m          \n",
      "\n",
      "  sampling ===                                    750/10000 | eta:  1m          \n",
      "\n",
      "  sampling ===                                    800/10000 | eta:  1m          \n",
      "\n",
      "  sampling ===                                    850/10000 | eta:  1m          \n",
      "\n",
      "  sampling ===                                    900/10000 | eta:  1m          \n",
      "\n",
      "  sampling ===                                    950/10000 | eta:  1m          \n",
      "\n",
      "  sampling ====                                  1000/10000 | eta:  1m          \n",
      "\n",
      "  sampling ====                                  1050/10000 | eta:  1m          \n",
      "\n",
      "  sampling ====                                  1100/10000 | eta:  1m          \n",
      "\n",
      "  sampling ====                                  1150/10000 | eta:  1m          \n",
      "\n",
      "  sampling ====                                  1200/10000 | eta:  1m          \n",
      "\n",
      "  sampling ====                                  1250/10000 | eta:  1m          \n",
      "\n",
      "  sampling =====                                 1300/10000 | eta:  1m          \n",
      "\n",
      "  sampling =====                                 1350/10000 | eta:  1m          \n",
      "\n",
      "  sampling =====                                 1400/10000 | eta:  1m          \n",
      "\n",
      "  sampling =====                                 1450/10000 | eta:  1m          \n",
      "\n",
      "  sampling =====                                 1500/10000 | eta:  1m          \n",
      "\n",
      "  sampling ======                                1550/10000 | eta:  1m          \n",
      "\n",
      "  sampling ======                                1600/10000 | eta:  1m          \n",
      "\n",
      "  sampling ======                                1650/10000 | eta:  1m          \n",
      "\n",
      "  sampling ======                                1700/10000 | eta:  1m          \n",
      "\n",
      "  sampling ======                                1750/10000 | eta:  1m          \n",
      "\n",
      "  sampling ======                                1800/10000 | eta:  1m          \n",
      "\n",
      "  sampling =======                               1850/10000 | eta:  1m          \n",
      "\n",
      "  sampling =======                               1900/10000 | eta:  1m          \n",
      "\n",
      "  sampling =======                               1950/10000 | eta:  1m          \n",
      "\n",
      "  sampling =======                               2000/10000 | eta:  1m          \n",
      "\n",
      "  sampling =======                               2050/10000 | eta:  1m          \n",
      "\n",
      "  sampling ========                              2100/10000 | eta:  1m          \n",
      "\n",
      "  sampling ========                              2150/10000 | eta:  1m          \n",
      "\n",
      "  sampling ========                              2200/10000 | eta:  1m          \n",
      "\n",
      "  sampling ========                              2250/10000 | eta:  1m          \n",
      "\n",
      "  sampling ========                              2300/10000 | eta:  1m          \n",
      "\n",
      "  sampling ========                              2350/10000 | eta:  1m          \n",
      "\n",
      "  sampling =========                             2400/10000 | eta:  1m          \n",
      "\n",
      "  sampling =========                             2450/10000 | eta:  1m          \n",
      "\n",
      "  sampling =========                             2500/10000 | eta:  1m          \n",
      "\n",
      "  sampling =========                             2550/10000 | eta:  1m          \n",
      "\n",
      "  sampling =========                             2600/10000 | eta:  1m          \n",
      "\n",
      "  sampling ==========                            2650/10000 | eta:  1m          \n",
      "\n",
      "  sampling ==========                            2700/10000 | eta:  1m          \n",
      "\n",
      "  sampling ==========                            2750/10000 | eta:  1m          \n",
      "\n",
      "  sampling ==========                            2800/10000 | eta:  1m          \n",
      "\n",
      "  sampling ==========                            2850/10000 | eta:  1m          \n",
      "\n",
      "  sampling ==========                            2900/10000 | eta:  1m          \n",
      "\n",
      "  sampling ===========                           2950/10000 | eta:  1m          \n",
      "\n",
      "  sampling ===========                           3000/10000 | eta:  1m          \n",
      "\n",
      "  sampling ===========                           3050/10000 | eta:  1m          \n",
      "\n",
      "  sampling ===========                           3100/10000 | eta:  1m          \n",
      "\n",
      "  sampling ===========                           3150/10000 | eta:  1m          \n",
      "\n",
      "  sampling ============                          3200/10000 | eta:  1m          \n",
      "\n",
      "  sampling ============                          3250/10000 | eta:  1m          \n",
      "\n",
      "  sampling ============                          3300/10000 | eta:  1m          \n",
      "\n",
      "  sampling ============                          3350/10000 | eta:  1m          \n",
      "\n",
      "  sampling ============                          3400/10000 | eta:  1m          \n",
      "\n",
      "  sampling ============                          3450/10000 | eta:  1m          \n",
      "\n",
      "  sampling =============                         3500/10000 | eta:  1m          \n",
      "\n",
      "  sampling =============                         3550/10000 | eta:  1m          \n",
      "\n",
      "  sampling =============                         3600/10000 | eta:  1m          \n",
      "\n",
      "  sampling =============                         3650/10000 | eta:  1m          \n",
      "\n",
      "  sampling =============                         3700/10000 | eta:  1m          \n",
      "\n",
      "  sampling ==============                        3750/10000 | eta:  1m          \n",
      "\n",
      "  sampling ==============                        3800/10000 | eta:  1m          \n",
      "\n",
      "  sampling ==============                        3850/10000 | eta:  1m          \n",
      "\n",
      "  sampling ==============                        3900/10000 | eta:  1m          \n"
     ]
    },
    {
     "name": "stderr",
     "output_type": "stream",
     "text": [
      "\n",
      "  sampling ==============                        3950/10000 | eta:  1m          \n",
      "\n",
      "  sampling ==============                        4000/10000 | eta:  1m          \n",
      "\n",
      "  sampling ===============                       4050/10000 | eta:  1m          \n",
      "\n",
      "  sampling ===============                       4100/10000 | eta:  1m          \n",
      "\n",
      "  sampling ===============                       4150/10000 | eta:  1m          \n",
      "\n",
      "  sampling ===============                       4200/10000 | eta:  1m          \n",
      "\n",
      "  sampling ===============                       4250/10000 | eta:  1m          \n",
      "\n",
      "  sampling ===============                       4300/10000 | eta:  1m          \n",
      "\n",
      "  sampling ================                      4350/10000 | eta:  1m          \n",
      "\n",
      "  sampling ================                      4400/10000 | eta:  1m          \n",
      "\n",
      "  sampling ================                      4450/10000 | eta:  1m          \n",
      "\n",
      "  sampling ================                      4500/10000 | eta:  1m          \n",
      "\n",
      "  sampling ================                      4550/10000 | eta:  1m          \n",
      "\n",
      "  sampling =================                     4600/10000 | eta:  1m          \n",
      "\n",
      "  sampling =================                     4650/10000 | eta:  1m          \n",
      "\n",
      "  sampling =================                     4700/10000 | eta:  1m          \n",
      "\n",
      "  sampling =================                     4750/10000 | eta:  1m          \n",
      "\n",
      "  sampling =================                     4800/10000 | eta:  1m          \n",
      "\n",
      "  sampling =================                     4850/10000 | eta:  1m          \n",
      "\n",
      "  sampling ==================                    4900/10000 | eta:  1m          \n",
      "\n",
      "  sampling ==================                    4950/10000 | eta:  1m          \n",
      "\n",
      "  sampling ==================                    5000/10000 | eta:  1m          \n",
      "\n",
      "  sampling ==================                    5050/10000 | eta:  1m          \n",
      "\n",
      "  sampling ==================                    5100/10000 | eta: 50s          \n",
      "\n",
      "  sampling ===================                   5150/10000 | eta: 49s          \n",
      "\n",
      "  sampling ===================                   5200/10000 | eta: 49s          \n",
      "\n",
      "  sampling ===================                   5250/10000 | eta: 48s          \n",
      "\n",
      "  sampling ===================                   5300/10000 | eta: 48s          \n",
      "\n",
      "  sampling ===================                   5350/10000 | eta: 48s          \n",
      "\n",
      "  sampling ===================                   5400/10000 | eta: 47s          \n",
      "\n",
      "  sampling ====================                  5450/10000 | eta: 46s          \n",
      "\n",
      "  sampling ====================                  5500/10000 | eta: 46s          \n",
      "\n",
      "  sampling ====================                  5550/10000 | eta: 46s          \n",
      "\n",
      "  sampling ====================                  5600/10000 | eta: 45s          \n",
      "\n",
      "  sampling ====================                  5650/10000 | eta: 45s          \n",
      "\n",
      "  sampling =====================                 5700/10000 | eta: 44s          \n",
      "\n",
      "  sampling =====================                 5750/10000 | eta: 44s          \n",
      "\n",
      "  sampling =====================                 5800/10000 | eta: 43s          \n",
      "\n",
      "  sampling =====================                 5850/10000 | eta: 43s          \n",
      "\n",
      "  sampling =====================                 5900/10000 | eta: 42s          \n",
      "\n",
      "  sampling =====================                 5950/10000 | eta: 42s          \n",
      "\n",
      "  sampling ======================                6000/10000 | eta: 41s          \n",
      "\n",
      "  sampling ======================                6050/10000 | eta: 41s          \n",
      "\n",
      "  sampling ======================                6100/10000 | eta: 40s          \n",
      "\n",
      "  sampling ======================                6150/10000 | eta: 40s          \n",
      "\n",
      "  sampling ======================                6200/10000 | eta: 39s          \n",
      "\n",
      "  sampling ======================                6250/10000 | eta: 39s          \n",
      "\n",
      "  sampling =======================               6300/10000 | eta: 38s          \n",
      "\n",
      "  sampling =======================               6350/10000 | eta: 37s          \n",
      "\n",
      "  sampling =======================               6400/10000 | eta: 37s          \n",
      "\n",
      "  sampling =======================               6450/10000 | eta: 37s          \n",
      "\n",
      "  sampling =======================               6500/10000 | eta: 36s          \n",
      "\n",
      "  sampling ========================              6550/10000 | eta: 35s          \n",
      "\n",
      "  sampling ========================              6600/10000 | eta: 35s          \n",
      "\n",
      "  sampling ========================              6650/10000 | eta: 34s          \n",
      "\n",
      "  sampling ========================              6700/10000 | eta: 34s          \n",
      "\n",
      "  sampling ========================              6750/10000 | eta: 33s          \n",
      "\n",
      "  sampling ========================              6800/10000 | eta: 33s          \n",
      "\n",
      "  sampling =========================             6850/10000 | eta: 32s          \n",
      "\n",
      "  sampling =========================             6900/10000 | eta: 32s          \n",
      "\n",
      "  sampling =========================             6950/10000 | eta: 31s          \n",
      "\n",
      "  sampling =========================             7000/10000 | eta: 31s          \n",
      "\n",
      "  sampling =========================             7050/10000 | eta: 30s          \n",
      "\n",
      "  sampling ==========================            7100/10000 | eta: 30s          \n",
      "\n",
      "  sampling ==========================            7150/10000 | eta: 29s          \n",
      "\n",
      "  sampling ==========================            7200/10000 | eta: 29s          \n",
      "\n",
      "  sampling ==========================            7250/10000 | eta: 28s          \n",
      "\n",
      "  sampling ==========================            7300/10000 | eta: 28s          \n",
      "\n",
      "  sampling ==========================            7350/10000 | eta: 27s          \n",
      "\n",
      "  sampling ===========================           7400/10000 | eta: 26s          \n",
      "\n",
      "  sampling ===========================           7450/10000 | eta: 26s          \n",
      "\n",
      "  sampling ===========================           7500/10000 | eta: 25s          \n",
      "\n",
      "  sampling ===========================           7550/10000 | eta: 25s          \n",
      "\n",
      "  sampling ===========================           7600/10000 | eta: 24s          \n",
      "\n",
      "  sampling ============================          7650/10000 | eta: 24s          \n",
      "\n",
      "  sampling ============================          7700/10000 | eta: 23s          \n",
      "\n",
      "  sampling ============================          7750/10000 | eta: 23s          \n",
      "\n",
      "  sampling ============================          7800/10000 | eta: 22s          \n",
      "\n",
      "  sampling ============================          7850/10000 | eta: 22s          \n",
      "\n",
      "  sampling ============================          7900/10000 | eta: 21s          \n",
      "\n",
      "  sampling =============================         7950/10000 | eta: 21s          \n",
      "\n",
      "  sampling =============================         8000/10000 | eta: 20s          \n",
      "\n",
      "  sampling =============================         8050/10000 | eta: 20s          \n",
      "\n",
      "  sampling =============================         8100/10000 | eta: 19s          \n",
      "\n",
      "  sampling =============================         8150/10000 | eta: 19s          \n",
      "\n",
      "  sampling ==============================        8200/10000 | eta: 18s          \n",
      "\n",
      "  sampling ==============================        8250/10000 | eta: 18s          \n",
      "\n",
      "  sampling ==============================        8300/10000 | eta: 17s          \n",
      "\n",
      "  sampling ==============================        8350/10000 | eta: 17s          \n",
      "\n",
      "  sampling ==============================        8400/10000 | eta: 16s          \n",
      "\n",
      "  sampling ==============================        8450/10000 | eta: 16s          \n",
      "\n",
      "  sampling ===============================       8500/10000 | eta: 15s          \n",
      "\n",
      "  sampling ===============================       8550/10000 | eta: 15s          \n",
      "\n",
      "  sampling ===============================       8600/10000 | eta: 14s          \n",
      "\n",
      "  sampling ===============================       8650/10000 | eta: 14s          \n",
      "\n",
      "  sampling ===============================       8700/10000 | eta: 13s          \n",
      "\n",
      "  sampling ================================      8750/10000 | eta: 13s          \n",
      "\n",
      "  sampling ================================      8800/10000 | eta: 12s          \n",
      "\n",
      "  sampling ================================      8850/10000 | eta: 12s          \n",
      "\n",
      "  sampling ================================      8900/10000 | eta: 11s          \n"
     ]
    },
    {
     "name": "stderr",
     "output_type": "stream",
     "text": [
      "\n",
      "  sampling ================================      8950/10000 | eta: 11s          \n",
      "\n",
      "  sampling ================================      9000/10000 | eta: 10s          \n",
      "\n",
      "  sampling =================================     9050/10000 | eta: 10s          \n",
      "\n",
      "  sampling =================================     9100/10000 | eta:  9s          \n",
      "\n",
      "  sampling =================================     9150/10000 | eta:  9s          \n",
      "\n",
      "  sampling =================================     9200/10000 | eta:  8s          \n",
      "\n",
      "  sampling =================================     9250/10000 | eta:  8s          \n",
      "\n",
      "  sampling =================================     9300/10000 | eta:  7s          \n",
      "\n",
      "  sampling ==================================    9350/10000 | eta:  7s          \n",
      "\n",
      "  sampling ==================================    9400/10000 | eta:  6s          \n",
      "\n",
      "  sampling ==================================    9450/10000 | eta:  6s          \n",
      "\n",
      "  sampling ==================================    9500/10000 | eta:  5s          \n",
      "\n",
      "  sampling ==================================    9550/10000 | eta:  5s          \n",
      "\n",
      "  sampling ===================================   9600/10000 | eta:  4s          \n",
      "\n",
      "  sampling ===================================   9650/10000 | eta:  4s          \n",
      "\n",
      "  sampling ===================================   9700/10000 | eta:  3s          \n",
      "\n",
      "  sampling ===================================   9750/10000 | eta:  3s          \n",
      "\n",
      "  sampling ===================================   9800/10000 | eta:  2s          \n",
      "\n",
      "  sampling ===================================   9850/10000 | eta:  2s          \n",
      "\n",
      "  sampling ====================================  9900/10000 | eta:  1s          \n",
      "\n",
      "  sampling ====================================  9950/10000 | eta:  1s          \n",
      "\n",
      "  sampling ==================================== 10000/10000 | eta:  0s          \n",
      "\n",
      "\n"
     ]
    }
   ],
   "source": [
    "# Bayesian Estimate in the style of Bayesian Estimation Supersedes T-Tests (BEST)\n",
    "\n",
    "x =  GenSynthSample(mean = 20, sd = 5, n = 100)\n",
    "\n",
    "\n",
    "# Define model \n",
    "\n",
    "mu = greta::normal(mean = mean(x), sd = sd(x) * 1000)\n",
    "sigma = greta::uniform(min = sd(x)/1000, max = sd(x) * 1000)\n",
    "nu = greta::exponential(1/29) + 1\n",
    "\n",
    "greta::distribution(x) = greta::student(mu = mu, sigma = sigma, df = nu)\n",
    "\n",
    "m = greta::model(mu, sigma, nu)\n",
    "\n",
    "posterior_samples = greta::mcmc(m, n_samples = 10000)\n"
   ]
  },
  {
   "cell_type": "code",
   "execution_count": 13,
   "metadata": {},
   "outputs": [
    {
     "data": {
      "text/plain": [
       "\n",
       "Iterations = 1:10000\n",
       "Thinning interval = 1 \n",
       "Number of chains = 4 \n",
       "Sample size per chain = 10000 \n",
       "\n",
       "1. Empirical mean and standard deviation for each variable,\n",
       "   plus standard error of the mean:\n",
       "\n",
       "        Mean      SD Naive SE Time-series SE\n",
       "sigma  4.879  0.3967 0.001983       0.003645\n",
       "nu    39.033 29.9223 0.149611       0.163890\n",
       "mu    20.040  0.5099 0.002549       0.005567\n",
       "\n",
       "2. Quantiles for each variable:\n",
       "\n",
       "        2.5%   25%    50%    75%   97.5%\n",
       "sigma  4.142  4.61  4.864  5.131   5.701\n",
       "nu     6.870 17.89 30.561 51.258 117.794\n",
       "mu    19.039 19.70 20.041 20.382  21.050\n"
      ]
     },
     "metadata": {},
     "output_type": "display_data"
    }
   ],
   "source": [
    "summary(posterior_samples)"
   ]
  },
  {
   "cell_type": "code",
   "execution_count": 15,
   "metadata": {},
   "outputs": [
    {
     "name": "stderr",
     "output_type": "stream",
     "text": [
      "Waiting for parallel processing to complete...\n",
      "done.\n",
      "\n"
     ]
    },
    {
     "data": {
      "text/html": [
       "<table>\n",
       "<caption>A summary.BEST: 5 × 11 of type dbl</caption>\n",
       "<thead>\n",
       "\t<tr><th></th><th scope=col>mean</th><th scope=col>median</th><th scope=col>mode</th><th scope=col>HDI%</th><th scope=col>HDIlo</th><th scope=col>HDIup</th><th scope=col>compVal</th><th scope=col>%&gt;compVal</th><th scope=col>ROPElow</th><th scope=col>ROPEhigh</th><th scope=col>%InROPE</th></tr>\n",
       "</thead>\n",
       "<tbody>\n",
       "\t<tr><th scope=row>mu</th><td>20.034088</td><td>20.033745</td><td>20.020033</td><td>95</td><td>19.0508915</td><td>21.053807</td><td> 0</td><td>100</td><td>NA</td><td>NA</td><td>NA</td></tr>\n",
       "\t<tr><th scope=row>sigma</th><td> 4.880115</td><td> 4.862780</td><td> 4.826927</td><td>95</td><td> 4.1128495</td><td> 5.657865</td><td>NA</td><td> NA</td><td>NA</td><td>NA</td><td>NA</td></tr>\n",
       "\t<tr><th scope=row>nu</th><td>39.070688</td><td>30.673816</td><td>15.968614</td><td>95</td><td> 3.6281833</td><td>98.500875</td><td>NA</td><td> NA</td><td>NA</td><td>NA</td><td>NA</td></tr>\n",
       "\t<tr><th scope=row>log10nu</th><td> 1.479177</td><td> 1.486768</td><td> 1.467578</td><td>95</td><td> 0.8640078</td><td> 2.088541</td><td>NA</td><td> NA</td><td>NA</td><td>NA</td><td>NA</td></tr>\n",
       "\t<tr><th scope=row>effSz</th><td> 4.132215</td><td> 4.118373</td><td> 4.096924</td><td>95</td><td> 3.4616168</td><td> 4.837233</td><td> 0</td><td>100</td><td>NA</td><td>NA</td><td>NA</td></tr>\n",
       "</tbody>\n",
       "</table>\n"
      ],
      "text/latex": [
       "A summary.BEST: 5 × 11 of type dbl\n",
       "\\begin{tabular}{r|lllllllllll}\n",
       "  & mean & median & mode & HDI\\% & HDIlo & HDIup & compVal & \\%>compVal & ROPElow & ROPEhigh & \\%InROPE\\\\\n",
       "\\hline\n",
       "\tmu & 20.034088 & 20.033745 & 20.020033 & 95 & 19.0508915 & 21.053807 &  0 & 100 & NA & NA & NA\\\\\n",
       "\tsigma &  4.880115 &  4.862780 &  4.826927 & 95 &  4.1128495 &  5.657865 & NA &  NA & NA & NA & NA\\\\\n",
       "\tnu & 39.070688 & 30.673816 & 15.968614 & 95 &  3.6281833 & 98.500875 & NA &  NA & NA & NA & NA\\\\\n",
       "\tlog10nu &  1.479177 &  1.486768 &  1.467578 & 95 &  0.8640078 &  2.088541 & NA &  NA & NA & NA & NA\\\\\n",
       "\teffSz &  4.132215 &  4.118373 &  4.096924 & 95 &  3.4616168 &  4.837233 &  0 & 100 & NA & NA & NA\\\\\n",
       "\\end{tabular}\n"
      ],
      "text/markdown": [
       "\n",
       "A summary.BEST: 5 × 11 of type dbl\n",
       "\n",
       "| <!--/--> | mean | median | mode | HDI% | HDIlo | HDIup | compVal | %&gt;compVal | ROPElow | ROPEhigh | %InROPE |\n",
       "|---|---|---|---|---|---|---|---|---|---|---|---|\n",
       "| mu | 20.034088 | 20.033745 | 20.020033 | 95 | 19.0508915 | 21.053807 |  0 | 100 | NA | NA | NA |\n",
       "| sigma |  4.880115 |  4.862780 |  4.826927 | 95 |  4.1128495 |  5.657865 | NA |  NA | NA | NA | NA |\n",
       "| nu | 39.070688 | 30.673816 | 15.968614 | 95 |  3.6281833 | 98.500875 | NA |  NA | NA | NA | NA |\n",
       "| log10nu |  1.479177 |  1.486768 |  1.467578 | 95 |  0.8640078 |  2.088541 | NA |  NA | NA | NA | NA |\n",
       "| effSz |  4.132215 |  4.118373 |  4.096924 | 95 |  3.4616168 |  4.837233 |  0 | 100 | NA | NA | NA |\n",
       "\n"
      ],
      "text/plain": [
       "        mean      median    mode      HDI% HDIlo      HDIup     compVal\n",
       "mu      20.034088 20.033745 20.020033 95   19.0508915 21.053807  0     \n",
       "sigma    4.880115  4.862780  4.826927 95    4.1128495  5.657865 NA     \n",
       "nu      39.070688 30.673816 15.968614 95    3.6281833 98.500875 NA     \n",
       "log10nu  1.479177  1.486768  1.467578 95    0.8640078  2.088541 NA     \n",
       "effSz    4.132215  4.118373  4.096924 95    3.4616168  4.837233  0     \n",
       "        %>compVal ROPElow ROPEhigh %InROPE\n",
       "mu      100       NA      NA       NA     \n",
       "sigma    NA       NA      NA       NA     \n",
       "nu       NA       NA      NA       NA     \n",
       "log10nu  NA       NA      NA       NA     \n",
       "effSz   100       NA      NA       NA     "
      ]
     },
     "metadata": {},
     "output_type": "display_data"
    }
   ],
   "source": [
    "b = BEST::BESTmcmc(x)\n",
    "summary(b)"
   ]
  },
  {
   "cell_type": "code",
   "execution_count": 226,
   "metadata": {},
   "outputs": [
    {
     "data": {
      "text/html": [
       "<ol class=list-inline>\n",
       "\t<li>'mu'</li>\n",
       "\t<li>'sigma'</li>\n",
       "\t<li>'nu'</li>\n",
       "</ol>\n"
      ],
      "text/latex": [
       "\\begin{enumerate*}\n",
       "\\item 'mu'\n",
       "\\item 'sigma'\n",
       "\\item 'nu'\n",
       "\\end{enumerate*}\n"
      ],
      "text/markdown": [
       "1. 'mu'\n",
       "2. 'sigma'\n",
       "3. 'nu'\n",
       "\n",
       "\n"
      ],
      "text/plain": [
       "[1] \"mu\"    \"sigma\" \"nu\"   "
      ]
     },
     "metadata": {},
     "output_type": "display_data"
    }
   ],
   "source": [
    "names(m$target_greta_arrays)\n",
    "\n",
    "mu = posterior_samples[[1]][,1]\n",
    "sigma = posterior_samples[[1]][,2]\n",
    "nu = posterior_samples[[1]][,3]"
   ]
  },
  {
   "cell_type": "code",
   "execution_count": 231,
   "metadata": {},
   "outputs": [
    {
     "data": {
      "text/plain": [
       "\n",
       "Iterations = 1:10000\n",
       "Thinning interval = 1 \n",
       "Number of chains = 4 \n",
       "Sample size per chain = 10000 \n",
       "\n",
       "1. Empirical mean and standard deviation for each variable,\n",
       "   plus standard error of the mean:\n",
       "\n",
       "         Mean     SD  Naive SE Time-series SE\n",
       "nu     0.8732 0.1256 0.0006282      0.0008094\n",
       "mu    19.5789 0.4946 0.0024731      0.0033988\n",
       "sigma  2.9336 0.4126 0.0020631      0.0031199\n",
       "\n",
       "2. Quantiles for each variable:\n",
       "\n",
       "         2.5%     25%     50%     75%  97.5%\n",
       "nu     0.6519  0.7855  0.8646  0.9513  1.143\n",
       "mu    18.6080 19.2471 19.5792 19.9104 20.546\n",
       "sigma  2.1918  2.6457  2.9103  3.1956  3.812\n"
      ]
     },
     "metadata": {},
     "output_type": "display_data"
    }
   ],
   "source": [
    "summary(posterior_samples)"
   ]
  },
  {
   "cell_type": "code",
   "execution_count": 8,
   "metadata": {},
   "outputs": [],
   "source": [
    "x =  GenSynthSample(mean = 20, sd = 5, n = 100)\n",
    "\n",
    "\n",
    "data = tibble(y = x)\n",
    "\n",
    "mean_y = mean(data$y)\n",
    "sd_y = sd(data$y)\n",
    "\n",
    "stanvars <- \n",
    "  stanvar(mean_y, name = \"mean_y\") + \n",
    "  stanvar(sd_y,   name = \"sd_y\") + \n",
    "  stanvar(1/29,   name = \"one_over_twentynine\")\n",
    "\n",
    "\n",
    "priors <- \n",
    "prior(normal(mean_y, sd_y * 1000), class = Intercept) +\n",
    "prior(cauchy(0, sd_y), class = sigma) +\n",
    "prior(exponential(one_over_twentynine), class = nu)\n",
    "\n",
    "\n",
    "\n",
    "\n",
    "\n"
   ]
  },
  {
   "cell_type": "code",
   "execution_count": 9,
   "metadata": {},
   "outputs": [
    {
     "name": "stderr",
     "output_type": "stream",
     "text": [
      "Compiling the C++ model\n",
      "\n",
      "Start sampling\n",
      "\n"
     ]
    }
   ],
   "source": [
    "fit2 <-\n",
    "  brm(data = data,\n",
    "      family = student,\n",
    "      y ~ 1,\n",
    "      prior = priors,\n",
    "      chains = 4, cores = 4,\n",
    "      stanvars = stanvars,\n",
    "      seed = 12)\n"
   ]
  },
  {
   "cell_type": "code",
   "execution_count": 5,
   "metadata": {},
   "outputs": [],
   "source": [
    "GenSynthSample = function(mean, sd, se, n){\n",
    "  inputs = as.list(sys.call())\n",
    "  if(sum(names(inputs) %in% c(\"se\",\"sd\")) == 2){\n",
    "    stop(\"input se OR sd\")\n",
    "  }\n",
    "  \n",
    "  if(\"se\" %in% names(inputs)){\n",
    "    sd = se * sqrt(n)\n",
    "  }\n",
    "  \n",
    "  x = mean + sd * scale(rnorm(n, 0, 1))\n",
    "  return(x)\n",
    "}"
   ]
  },
  {
   "cell_type": "code",
   "execution_count": 10,
   "metadata": {},
   "outputs": [
    {
     "name": "stderr",
     "output_type": "stream",
     "text": [
      "Waiting for parallel processing to complete...\n",
      "done.\n",
      "\n"
     ]
    },
    {
     "data": {
      "text/html": [
       "<table>\n",
       "<caption>A summary.BEST: 5 × 11 of type dbl</caption>\n",
       "<thead>\n",
       "\t<tr><th></th><th scope=col>mean</th><th scope=col>median</th><th scope=col>mode</th><th scope=col>HDI%</th><th scope=col>HDIlo</th><th scope=col>HDIup</th><th scope=col>compVal</th><th scope=col>%&gt;compVal</th><th scope=col>ROPElow</th><th scope=col>ROPEhigh</th><th scope=col>%InROPE</th></tr>\n",
       "</thead>\n",
       "<tbody>\n",
       "\t<tr><th scope=row>mu</th><td>20.081496</td><td>20.084367</td><td>20.109459</td><td>95</td><td>19.082665</td><td>21.075291</td><td> 0</td><td>100</td><td>NA</td><td>NA</td><td>NA</td></tr>\n",
       "\t<tr><th scope=row>sigma</th><td> 4.827858</td><td> 4.818996</td><td> 4.830912</td><td>95</td><td> 4.032929</td><td> 5.650873</td><td>NA</td><td> NA</td><td>NA</td><td>NA</td><td>NA</td></tr>\n",
       "\t<tr><th scope=row>nu</th><td>35.706849</td><td>27.150934</td><td>12.819064</td><td>95</td><td> 2.917887</td><td>93.893325</td><td>NA</td><td> NA</td><td>NA</td><td>NA</td><td>NA</td></tr>\n",
       "\t<tr><th scope=row>log10nu</th><td> 1.425915</td><td> 1.433785</td><td> 1.475224</td><td>95</td><td> 0.766263</td><td> 2.048769</td><td>NA</td><td> NA</td><td>NA</td><td>NA</td><td>NA</td></tr>\n",
       "\t<tr><th scope=row>effSz</th><td> 4.190424</td><td> 4.166844</td><td> 4.110044</td><td>95</td><td> 3.459129</td><td> 4.954716</td><td> 0</td><td>100</td><td>NA</td><td>NA</td><td>NA</td></tr>\n",
       "</tbody>\n",
       "</table>\n"
      ],
      "text/latex": [
       "A summary.BEST: 5 × 11 of type dbl\n",
       "\\begin{tabular}{r|lllllllllll}\n",
       "  & mean & median & mode & HDI\\% & HDIlo & HDIup & compVal & \\%>compVal & ROPElow & ROPEhigh & \\%InROPE\\\\\n",
       "\\hline\n",
       "\tmu & 20.081496 & 20.084367 & 20.109459 & 95 & 19.082665 & 21.075291 &  0 & 100 & NA & NA & NA\\\\\n",
       "\tsigma &  4.827858 &  4.818996 &  4.830912 & 95 &  4.032929 &  5.650873 & NA &  NA & NA & NA & NA\\\\\n",
       "\tnu & 35.706849 & 27.150934 & 12.819064 & 95 &  2.917887 & 93.893325 & NA &  NA & NA & NA & NA\\\\\n",
       "\tlog10nu &  1.425915 &  1.433785 &  1.475224 & 95 &  0.766263 &  2.048769 & NA &  NA & NA & NA & NA\\\\\n",
       "\teffSz &  4.190424 &  4.166844 &  4.110044 & 95 &  3.459129 &  4.954716 &  0 & 100 & NA & NA & NA\\\\\n",
       "\\end{tabular}\n"
      ],
      "text/markdown": [
       "\n",
       "A summary.BEST: 5 × 11 of type dbl\n",
       "\n",
       "| <!--/--> | mean | median | mode | HDI% | HDIlo | HDIup | compVal | %&gt;compVal | ROPElow | ROPEhigh | %InROPE |\n",
       "|---|---|---|---|---|---|---|---|---|---|---|---|\n",
       "| mu | 20.081496 | 20.084367 | 20.109459 | 95 | 19.082665 | 21.075291 |  0 | 100 | NA | NA | NA |\n",
       "| sigma |  4.827858 |  4.818996 |  4.830912 | 95 |  4.032929 |  5.650873 | NA |  NA | NA | NA | NA |\n",
       "| nu | 35.706849 | 27.150934 | 12.819064 | 95 |  2.917887 | 93.893325 | NA |  NA | NA | NA | NA |\n",
       "| log10nu |  1.425915 |  1.433785 |  1.475224 | 95 |  0.766263 |  2.048769 | NA |  NA | NA | NA | NA |\n",
       "| effSz |  4.190424 |  4.166844 |  4.110044 | 95 |  3.459129 |  4.954716 |  0 | 100 | NA | NA | NA |\n",
       "\n"
      ],
      "text/plain": [
       "        mean      median    mode      HDI% HDIlo     HDIup     compVal\n",
       "mu      20.081496 20.084367 20.109459 95   19.082665 21.075291  0     \n",
       "sigma    4.827858  4.818996  4.830912 95    4.032929  5.650873 NA     \n",
       "nu      35.706849 27.150934 12.819064 95    2.917887 93.893325 NA     \n",
       "log10nu  1.425915  1.433785  1.475224 95    0.766263  2.048769 NA     \n",
       "effSz    4.190424  4.166844  4.110044 95    3.459129  4.954716  0     \n",
       "        %>compVal ROPElow ROPEhigh %InROPE\n",
       "mu      100       NA      NA       NA     \n",
       "sigma    NA       NA      NA       NA     \n",
       "nu       NA       NA      NA       NA     \n",
       "log10nu  NA       NA      NA       NA     \n",
       "effSz   100       NA      NA       NA     "
      ]
     },
     "metadata": {},
     "output_type": "display_data"
    }
   ],
   "source": [
    "b = BEST::(x)\n",
    "summary(b)"
   ]
  },
  {
   "cell_type": "code",
   "execution_count": 11,
   "metadata": {},
   "outputs": [
    {
     "data": {
      "text/plain": [
       " Family: student \n",
       "  Links: mu = identity; sigma = identity; nu = identity \n",
       "Formula: y ~ 1 \n",
       "   Data: data (Number of observations: 100) \n",
       "Samples: 4 chains, each with iter = 2000; warmup = 1000; thin = 1;\n",
       "         total post-warmup samples = 4000\n",
       "\n",
       "Population-Level Effects: \n",
       "          Estimate Est.Error l-95% CI u-95% CI Rhat Bulk_ESS Tail_ESS\n",
       "Intercept    20.09      0.50    19.09    21.07 1.00     3419     3105\n",
       "\n",
       "Family Specific Parameters: \n",
       "      Estimate Est.Error l-95% CI u-95% CI Rhat Bulk_ESS Tail_ESS\n",
       "sigma     4.78      0.40     4.03     5.58 1.00     2804     2713\n",
       "nu       34.58     28.85     5.77   115.84 1.00     2526     2877\n",
       "\n",
       "Samples were drawn using sampling(NUTS). For each parameter, Eff.Sample \n",
       "is a crude measure of effective sample size, and Rhat is the potential \n",
       "scale reduction factor on split chains (at convergence, Rhat = 1)."
      ]
     },
     "metadata": {},
     "output_type": "display_data"
    }
   ],
   "source": [
    "summary(fit2)"
   ]
  }
 ],
 "metadata": {
  "kernelspec": {
   "display_name": "R",
   "language": "R",
   "name": "ir"
  },
  "language_info": {
   "codemirror_mode": "r",
   "file_extension": ".r",
   "mimetype": "text/x-r-source",
   "name": "R",
   "pygments_lexer": "r",
   "version": "3.6.1"
  }
 },
 "nbformat": 4,
 "nbformat_minor": 4
}
