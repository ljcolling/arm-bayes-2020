{
 "cells": [
  {
   "cell_type": "code",
   "execution_count": 82,
   "metadata": {},
   "outputs": [],
   "source": [
    "# Rewrite this so it's just a single package to load\n",
    "suppressMessages(require(tidyverse))\n",
    "suppressMessages(require(magrittr))\n",
    "suppressMessages(require(logspline))\n",
    "suppressMessages(require(patchwork))\n",
    "suppressMessages(require(IRdisplay))"
   ]
  },
  {
   "cell_type": "markdown",
   "metadata": {},
   "source": [
    "# Introduction\n",
    "\n",
    "The aim of this course is to give you an introduction to Bayesian statistics. It is by no means intended to be an exhaustive course, so at the end of it there will still be a lot for you to learn. However, I do hope that at the end of this workshop you’ll have a better understanding of Bayesian statistics, how it differs from Frequentist approaches, and how to incorporate some Bayesian approaches into your own research. \n",
    "\n",
    "The course will cover a number of topics including the foundations of Frequentist and Bayesian approaches to statistics, how to calculate Bayes factors, Bayesian estimation, and Bayesian regression modelling. \n",
    "\n",
    "- [The *p* value](#the-p-value)"
   ]
  },
  {
   "cell_type": "markdown",
   "metadata": {},
   "source": [
    "## *The p value* \n",
    "\n",
    "*The American Statistical Association (ASA) defines a p value as:*\n",
    "\n",
    "> *the probabi*lity under a specified statistical model that a statistical summary of the data (e.g., the sample mean difference between two compared groups) would be equal to or more extreme than its observed value [@wasserstein2016, my emphasis]\n",
    "\n",
    "While this is a perfectly acceptable definition it is maybe a little tricky to understand. The main reason for this is that the definition contains at least one *ill-defined concept* (\"probability\") and one tricky concept (\"specified statistical model\"). To understand what a *p* value really is, we're going to have to unpack both of these ideas. Along the way we're going to learn about some other concepts that will also help us understand *Bayesian* statistics. And a good grounding on Frequentist inference will also help use understand the distinction between Frequentist inference and Bayesian inference. "
   ]
  },
  {
   "cell_type": "markdown",
   "metadata": {},
   "source": [
    "### Understanding *p* values through simulation"
   ]
  },
  {
   "cell_type": "code",
   "execution_count": null,
   "metadata": {},
   "outputs": [],
   "source": []
  },
  {
   "cell_type": "code",
   "execution_count": null,
   "metadata": {},
   "outputs": [],
   "source": []
  },
  {
   "cell_type": "code",
   "execution_count": null,
   "metadata": {},
   "outputs": [],
   "source": []
  },
  {
   "cell_type": "code",
   "execution_count": 93,
   "metadata": {},
   "outputs": [
    {
     "name": "stdout",
     "output_type": "stream",
     "text": [
      "Observations: 100,000\n",
      "Variables: 4\n",
      "$ sample_mean \u001b[3m\u001b[38;5;246m<dbl>\u001b[39m\u001b[23m 1.425150218, 1.166585169, 0.515405304, 0.559386086, 0.218…\n",
      "$ sample_sd   \u001b[3m\u001b[38;5;246m<dbl>\u001b[39m\u001b[23m 2.1659451, 3.0019120, 2.4244579, 2.7109392, 1.9137974, 2.…\n",
      "$ n           \u001b[3m\u001b[38;5;246m<dbl>\u001b[39m\u001b[23m 10, 10, 10, 10, 10, 10, 10, 10, 10, 10, 10, 10, 10, 10, 1…\n",
      "$ i           \u001b[3m\u001b[38;5;246m<int>\u001b[39m\u001b[23m 1, 2, 3, 4, 5, 6, 7, 8, 9, 10, 11, 12, 13, 14, 15, 16, 17…\n"
     ]
    }
   ],
   "source": [
    "# Understanding p values through simulation\n",
    "set.seed(612) # Set the seed for reproducibility\n",
    "\n",
    "run.exp = function(){\n",
    "  # define function for running experiment\n",
    "  \n",
    "    # define characteristics of the population\n",
    "    sample_size = 10; average = 0\n",
    "    \n",
    "    \n",
    "    \n",
    "  # generate a sample\n",
    "  dev = runif(1,1,10); min_possible = 0 -dev; max_possible = 0 + dev\n",
    "  this_sample = runif(sample_size, min_possible, max_possible)\n",
    "  \n",
    "  # make descriptive stats\n",
    "  tibble::tibble(sample_mean = mean(this_sample), \n",
    "                 sample_sd = sd(this_sample), \n",
    "                 n = sample_size)  \n",
    "}\n",
    "\n",
    "future::plan(\"multiprocess\") # Set to run in parallel\n",
    "no_of_exps = 100000 # Set the number of experiments to run\n",
    "all_exps <- furrr::future_map_dfr(1:no_of_exps, function(x) \n",
    "  run.exp() %>% dplyr::mutate(i = x)) # run the experiments\n",
    "\n",
    "dplyr::glimpse(all_exps) # view the results"
   ]
  },
  {
   "cell_type": "code",
   "execution_count": 121,
   "metadata": {},
   "outputs": [
    {
     "data": {
      "text/markdown": [
       "Our 10 measurements are: 0.25; -0.54; -0.51; -0.75; 0.27; -1.62; -1.29; -0.21; 0.17; -0.83  \n",
       "           Our $\\bar{x}$ = -0.51  \n",
       "           Our $s_\\bar{x}$ = 0.204  \n",
       "This means that our scaled measurement, $t$ = -2.485"
      ]
     },
     "metadata": {},
     "output_type": "display_data"
    }
   ],
   "source": [
    "set.seed(151); X = rnorm(10, runif(1,-10,10), runif(1));\n",
    "\n",
    "glue::glue(\"Our {length(X)} measurements are: {glue::glue_collapse(round(X,2),sep = '; ')}  \n",
    "           Our $\\\\bar{{x}}$ = {round(mean(X),2)}  \n",
    "           Our $s_\\\\bar{{x}}$ = {round(sd(X)/sqrt(length(X)),3)}  \n",
    "This means that our scaled measurement, $t$ = {round(mean(X) / (sd(X)/sqrt(length(X))),3)}\") %>% \n",
    "IRdisplay::display_markdown()"
   ]
  },
  {
   "cell_type": "markdown",
   "metadata": {},
   "source": [
    "$t={\\frac {\\mu\\, \\sqrt{n}}{\\sigma}}$"
   ]
  },
  {
   "cell_type": "code",
   "execution_count": 94,
   "metadata": {},
   "outputs": [
    {
     "name": "stderr",
     "output_type": "stream",
     "text": [
      "Warning message:\n",
      "“Removed 1 rows containing missing values (geom_bar).”\n",
      "Warning message:\n",
      "“Removed 583 rows containing non-finite values (stat_bin).”\n"
     ]
    },
    {
     "data": {
      "image/png": "[encoded data removed]",
      "text/plain": [
       "plot without title"
      ]
     },
     "metadata": {
      "image/png": {
       "height": 420,
       "width": 420
      }
     },
     "output_type": "display_data"
    }
   ],
   "source": [
    "all_exps %<>% mutate(t = (sample_mean * sqrt(n)) / sample_sd)\n",
    "\n",
    "\n",
    "all_exps %>% ggplot(aes(x = sample_mean)) + geom_histogram(fill = \"seagreen\",bins = 100) +\n",
    "  labs(x = \"sample mean\", y = \"number of experiments\") + \n",
    "  xlim(c(-max(abs(all_exps$sample_mean)) * 1.10, max(abs(all_exps$sample_mean)) * 1.10)) +\n",
    "  theme_minimal() -> mean_hist\n",
    "\n",
    "all_exps %>% ggplot(aes(x = t)) + geom_histogram(fill = \"seagreen\", bins = 100) +\n",
    "  labs(x = \"t stat\", y = \"number of experiments\") + xlim(c(-4,4)) +\n",
    "  theme_minimal() -> t_hist\n",
    "\n",
    "tibble(x = seq(-4, 4, length.out = 10000)) %>% \n",
    "  mutate(y = dlogspline(x,logspline(all_exps$t))) %>%\n",
    "  ggplot(aes(x = x, y = y)) + geom_line(colour = \"darkblue\") +\n",
    "  labs(x = \"t\", y = \"density\") + xlim(c(-4,4)) +\n",
    "  theme_minimal() -> density_plot\n",
    "\n",
    "\n",
    "(mean_hist | t_hist) / density_plot \n",
    "\n"
   ]
  },
  {
   "cell_type": "code",
   "execution_count": 49,
   "metadata": {},
   "outputs": [],
   "source": [
    "this_exp =rnorm(10, mean = 3, sd = 4)\n"
   ]
  },
  {
   "cell_type": "code",
   "execution_count": 50,
   "metadata": {},
   "outputs": [
    {
     "data": {
      "text/html": [
       "2.36560035906941"
      ],
      "text/latex": [
       "2.36560035906941"
      ],
      "text/markdown": [
       "2.36560035906941"
      ],
      "text/plain": [
       "[1] 2.3656"
      ]
     },
     "metadata": {},
     "output_type": "display_data"
    }
   ],
   "source": [
    "t = (mean(this_exp) * sqrt(10)) / sd(this_exp)\n",
    "t"
   ]
  },
  {
   "cell_type": "code",
   "execution_count": 51,
   "metadata": {},
   "outputs": [
    {
     "data": {
      "text/html": [
       "7e-05"
      ],
      "text/latex": [
       "7e-05"
      ],
      "text/markdown": [
       "7e-05"
      ],
      "text/plain": [
       "[1] 7e-05"
      ]
     },
     "metadata": {},
     "output_type": "display_data"
    }
   ],
   "source": [
    "(all_exps$sample_mean > mean(this_exp)) %>% mean()"
   ]
  },
  {
   "cell_type": "code",
   "execution_count": 35,
   "metadata": {},
   "outputs": [],
   "source": [
    "  sample_size = 10; min_possible = -5; max_possible = 5\n",
    "  this_sample = runif(sample_size, min_possible, max_possible)\n",
    "\n"
   ]
  },
  {
   "cell_type": "code",
   "execution_count": 41,
   "metadata": {},
   "outputs": [
    {
     "data": {
      "text/html": [
       "<ol>\n",
       "\t<li>0.109940057154745</li>\n",
       "\t<li>-4.36434631701559</li>\n",
       "\t<li>2.03549209283665</li>\n",
       "\t<li>-3.14730389043689</li>\n",
       "\t<li>2.14692105539143</li>\n",
       "\t<li>0.429101414047182</li>\n",
       "\t<li>-3.02048409124836</li>\n",
       "\t<li>-2.02572116395459</li>\n",
       "\t<li>-3.16781763685867</li>\n",
       "\t<li>0.73657757602632</li>\n",
       "</ol>\n"
      ],
      "text/latex": [
       "\\begin{enumerate}\n",
       "\\item 0.109940057154745\n",
       "\\item -4.36434631701559\n",
       "\\item 2.03549209283665\n",
       "\\item -3.14730389043689\n",
       "\\item 2.14692105539143\n",
       "\\item 0.429101414047182\n",
       "\\item -3.02048409124836\n",
       "\\item -2.02572116395459\n",
       "\\item -3.16781763685867\n",
       "\\item 0.73657757602632\n",
       "\\end{enumerate}\n"
      ],
      "text/markdown": [
       "1. 0.109940057154745\n",
       "2. -4.36434631701559\n",
       "3. 2.03549209283665\n",
       "4. -3.14730389043689\n",
       "5. 2.14692105539143\n",
       "6. 0.429101414047182\n",
       "7. -3.02048409124836\n",
       "8. -2.02572116395459\n",
       "9. -3.16781763685867\n",
       "10. 0.73657757602632\n",
       "\n",
       "\n"
      ],
      "text/plain": [
       "[[1]]\n",
       "[1] 0.1099401\n",
       "\n",
       "[[2]]\n",
       "[1] -4.364346\n",
       "\n",
       "[[3]]\n",
       "[1] 2.035492\n",
       "\n",
       "[[4]]\n",
       "[1] -3.147304\n",
       "\n",
       "[[5]]\n",
       "[1] 2.146921\n",
       "\n",
       "[[6]]\n",
       "[1] 0.4291014\n",
       "\n",
       "[[7]]\n",
       "[1] -3.020484\n",
       "\n",
       "[[8]]\n",
       "[1] -2.025721\n",
       "\n",
       "[[9]]\n",
       "[1] -3.167818\n",
       "\n",
       "[[10]]\n",
       "[1] 0.7365776\n"
      ]
     },
     "metadata": {},
     "output_type": "display_data"
    }
   ],
   "source": []
  },
  {
   "cell_type": "code",
   "execution_count": 46,
   "metadata": {},
   "outputs": [],
   "source": [
    "set.seed(612) # Set the seed for reproducibility\n",
    "run.exp.trunc = function(){\n",
    "  # define function for running experiment\n",
    "  \n",
    "  # define characteristics of the population\n",
    "  sample_size = 10; min_possible = -5; max_possible = 5; trunc_at = 3\n",
    "  \n",
    "  # generate a sample\n",
    "  this_sample = runif(sample_size, min_possible, max_possible)\n",
    "  this_sample = map_dbl(this_sample, function(x) ifelse(x > trunc_at, trunc_at, x))\n",
    "    \n",
    "  # make descriptive stats\n",
    "  tibble::tibble(sample_mean = mean(this_sample), \n",
    "                 sample_sd = sd(this_sample), \n",
    "                 n = sample_size)  \n",
    "}"
   ]
  },
  {
   "cell_type": "code",
   "execution_count": 47,
   "metadata": {},
   "outputs": [
    {
     "name": "stdout",
     "output_type": "stream",
     "text": [
      "Observations: 100,000\n",
      "Variables: 4\n",
      "$ sample_mean \u001b[3m\u001b[38;5;246m<dbl>\u001b[39m\u001b[23m -0.9728251, 0.1520450, 0.9774468, -0.7023351, 0.1637986, …\n",
      "$ sample_sd   \u001b[3m\u001b[38;5;246m<dbl>\u001b[39m\u001b[23m 2.755097, 2.595596, 2.484868, 2.790967, 2.241521, 2.71295…\n",
      "$ n           \u001b[3m\u001b[38;5;246m<dbl>\u001b[39m\u001b[23m 10, 10, 10, 10, 10, 10, 10, 10, 10, 10, 10, 10, 10, 10, 1…\n",
      "$ i           \u001b[3m\u001b[38;5;246m<int>\u001b[39m\u001b[23m 1, 2, 3, 4, 5, 6, 7, 8, 9, 10, 11, 12, 13, 14, 15, 16, 17…\n"
     ]
    }
   ],
   "source": [
    "future::plan(\"multiprocess\") # Set to run in parallel\n",
    "no_of_exps = 100000 # Set the number of experiments to run\n",
    "all_exps_trunc <- furrr::future_map_dfr(1:no_of_exps, function(x) \n",
    "  run.exp.trunc() %>% dplyr::mutate(i = x)) # run the experiments\n",
    "\n",
    "dplyr::glimpse(all_exps_trunc) # view the results"
   ]
  },
  {
   "cell_type": "code",
   "execution_count": 58,
   "metadata": {},
   "outputs": [
    {
     "data": {
      "text/plain": [
       "\n",
       "\tOne Sample t-test\n",
       "\n",
       "data:  .\n",
       "t = 2.2662, df = 9, p-value = 0.04967\n",
       "alternative hypothesis: true mean is not equal to 0\n",
       "95 percent confidence interval:\n",
       " 0.000947656 1.068784716\n",
       "sample estimates:\n",
       "mean of x \n",
       "0.5348662 \n"
      ]
     },
     "metadata": {},
     "output_type": "display_data"
    }
   ],
   "source": [
    "set.seed(10); runif(n = 10, min = -1, max = 3) %>% t.test()"
   ]
  },
  {
   "cell_type": "code",
   "execution_count": 89,
   "metadata": {},
   "outputs": [
    {
     "data": {
      "text/html": [
       "<table>\n",
       " <thead>\n",
       "  <tr>\n",
       "   <th style=\"text-align:right;\"> sample_mean </th>\n",
       "   <th style=\"text-align:right;\"> sample_sd </th>\n",
       "   <th style=\"text-align:right;\"> n </th>\n",
       "   <th style=\"text-align:right;\"> i </th>\n",
       "   <th style=\"text-align:right;\"> t </th>\n",
       "  </tr>\n",
       " </thead>\n",
       "<tbody>\n",
       "  <tr>\n",
       "   <td style=\"text-align:right;\"> -0.9728251 </td>\n",
       "   <td style=\"text-align:right;\"> 2.755098 </td>\n",
       "   <td style=\"text-align:right;\"> 10 </td>\n",
       "   <td style=\"text-align:right;\"> 1 </td>\n",
       "   <td style=\"text-align:right;\"> -1.1166005 </td>\n",
       "  </tr>\n",
       "  <tr>\n",
       "   <td style=\"text-align:right;\"> 0.1520450 </td>\n",
       "   <td style=\"text-align:right;\"> 2.595596 </td>\n",
       "   <td style=\"text-align:right;\"> 10 </td>\n",
       "   <td style=\"text-align:right;\"> 2 </td>\n",
       "   <td style=\"text-align:right;\"> 0.1852401 </td>\n",
       "  </tr>\n",
       "  <tr>\n",
       "   <td style=\"text-align:right;\"> 0.9774468 </td>\n",
       "   <td style=\"text-align:right;\"> 2.484868 </td>\n",
       "   <td style=\"text-align:right;\"> 10 </td>\n",
       "   <td style=\"text-align:right;\"> 3 </td>\n",
       "   <td style=\"text-align:right;\"> 1.2439126 </td>\n",
       "  </tr>\n",
       "  <tr>\n",
       "   <td style=\"text-align:right;\"> -0.7023351 </td>\n",
       "   <td style=\"text-align:right;\"> 2.790967 </td>\n",
       "   <td style=\"text-align:right;\"> 10 </td>\n",
       "   <td style=\"text-align:right;\"> 4 </td>\n",
       "   <td style=\"text-align:right;\"> -0.7957738 </td>\n",
       "  </tr>\n",
       "  <tr>\n",
       "   <td style=\"text-align:right;\"> 0.1637986 </td>\n",
       "   <td style=\"text-align:right;\"> 2.241521 </td>\n",
       "   <td style=\"text-align:right;\"> 10 </td>\n",
       "   <td style=\"text-align:right;\"> 5 </td>\n",
       "   <td style=\"text-align:right;\"> 0.2310827 </td>\n",
       "  </tr>\n",
       "  <tr>\n",
       "   <td style=\"text-align:right;\"> -0.1807060 </td>\n",
       "   <td style=\"text-align:right;\"> 2.712958 </td>\n",
       "   <td style=\"text-align:right;\"> 10 </td>\n",
       "   <td style=\"text-align:right;\"> 6 </td>\n",
       "   <td style=\"text-align:right;\"> -0.2106345 </td>\n",
       "  </tr>\n",
       "</tbody>\n",
       "</table>"
      ]
     },
     "metadata": {},
     "output_type": "display_data"
    }
   ],
   "source": [
    "all_exps %>% head() %>% knitr::kable() %>% as.character() %>% display_html()"
   ]
  },
  {
   "cell_type": "code",
   "execution_count": 90,
   "metadata": {},
   "outputs": [
    {
     "data": {
      "text/markdown": [
       "# Heading"
      ]
     },
     "metadata": {},
     "output_type": "display_data"
    }
   ],
   "source": []
  },
  {
   "cell_type": "code",
   "execution_count": 183,
   "metadata": {},
   "outputs": [],
   "source": [
    "# testing our rule\n",
    "set.seed(14) # set seed for reproducibly\n",
    "\n",
    "Pr_treasure = runif(1) # Set the probablity of finding treasure\n",
    "\n",
    "simulate_hunt <- function(Pr_treasure){\n",
    "    \n",
    "    # Decide whether this hunt has treasure\n",
    "    has.treasure = ifelse(runif(1) < Pr_treasure, 1, 0) \n",
    "    \n",
    "    X = rnorm(10, has.treasure, 1.5) # generate 10 readings\n",
    "    \n",
    "    # work out the scaled measurement and how suprising it is\n",
    "    # and decide whether to dig or not!\n",
    "    t.test(X) %>% broom::tidy() %>%\n",
    "  mutate(has.treasure = ifelse(has.treasure == 1, \"Y\",\"N\"), \n",
    "         how.suprising = p.value, \n",
    "         dig = ifelse(p.value < 0.05, \"Y\",\"N\")) %>%\n",
    "  select(has.treasure, dig)\n",
    "    \n",
    "}\n",
    "\n",
    "set.seed(11) # set seed for reproducibly\n",
    "furrr::future_map_dfr(1:100000, function(x) simulate_hunt(Pr_treasure)) -> test"
   ]
  },
  {
   "cell_type": "code",
   "execution_count": 184,
   "metadata": {},
   "outputs": [
    {
     "data": {
      "text/html": [
       "<table>\n",
       " <thead>\n",
       "  <tr>\n",
       "   <th style=\"text-align:left;\"> has.treasure </th>\n",
       "   <th style=\"text-align:left;\"> dig </th>\n",
       "  </tr>\n",
       " </thead>\n",
       "<tbody>\n",
       "  <tr>\n",
       "   <td style=\"text-align:left;\"> Y </td>\n",
       "   <td style=\"text-align:left;\"> N </td>\n",
       "  </tr>\n",
       "  <tr>\n",
       "   <td style=\"text-align:left;\"> N </td>\n",
       "   <td style=\"text-align:left;\"> N </td>\n",
       "  </tr>\n",
       "  <tr>\n",
       "   <td style=\"text-align:left;\"> Y </td>\n",
       "   <td style=\"text-align:left;\"> Y </td>\n",
       "  </tr>\n",
       "  <tr>\n",
       "   <td style=\"text-align:left;\"> N </td>\n",
       "   <td style=\"text-align:left;\"> N </td>\n",
       "  </tr>\n",
       "  <tr>\n",
       "   <td style=\"text-align:left;\"> Y </td>\n",
       "   <td style=\"text-align:left;\"> Y </td>\n",
       "  </tr>\n",
       "  <tr>\n",
       "   <td style=\"text-align:left;\"> N </td>\n",
       "   <td style=\"text-align:left;\"> N </td>\n",
       "  </tr>\n",
       "  <tr>\n",
       "   <td style=\"text-align:left;\"> N </td>\n",
       "   <td style=\"text-align:left;\"> N </td>\n",
       "  </tr>\n",
       "  <tr>\n",
       "   <td style=\"text-align:left;\"> Y </td>\n",
       "   <td style=\"text-align:left;\"> N </td>\n",
       "  </tr>\n",
       "  <tr>\n",
       "   <td style=\"text-align:left;\"> N </td>\n",
       "   <td style=\"text-align:left;\"> Y </td>\n",
       "  </tr>\n",
       "  <tr>\n",
       "   <td style=\"text-align:left;\"> Y </td>\n",
       "   <td style=\"text-align:left;\"> N </td>\n",
       "  </tr>\n",
       "</tbody>\n",
       "</table>"
      ]
     },
     "metadata": {},
     "output_type": "display_data"
    }
   ],
   "source": [
    "test %>% slice(1:10) %>% knitr::kable() %>% as.character() %>% IRdisplay::display_html()"
   ]
  },
  {
   "cell_type": "code",
   "execution_count": 136,
   "metadata": {},
   "outputs": [
    {
     "data": {
      "text/html": [
       "0.2556"
      ],
      "text/latex": [
       "0.2556"
      ],
      "text/markdown": [
       "0.2556"
      ],
      "text/plain": [
       "[1] 0.2556"
      ]
     },
     "metadata": {},
     "output_type": "display_data"
    },
    {
     "data": {
      "text/html": [
       "0.254033731063828"
      ],
      "text/latex": [
       "0.254033731063828"
      ],
      "text/markdown": [
       "0.254033731063828"
      ],
      "text/plain": [
       "[1] 0.2540337"
      ]
     },
     "metadata": {},
     "output_type": "display_data"
    }
   ],
   "source": []
  },
  {
   "cell_type": "code",
   "execution_count": 7,
   "metadata": {
    "slideshow": {
     "slide_type": "slide"
    }
   },
   "outputs": [
    {
     "data": {
      "image/png": "[encoded data removed]",
      "text/plain": [
       "plot without title"
      ]
     },
     "metadata": {
      "image/png": {
       "height": 420,
       "width": 420
      }
     },
     "output_type": "display_data"
    }
   ],
   "source": [
    "list(p1 = c(heads = 2, flips = 2),p2 = c(heads = 2, flips = 3),p3 = c(heads = 2, flips = 4),p4 = c(heads = 4, flips = 5)) -> scenarios\n",
    "map(scenarios, function(x) {dbinom.like <- function(t) dbinom(x[[\"heads\"]],x[[\"flips\"]],t); integrate(dbinom.like,0,1)$value %>% tibble(heads = x[[\"heads\"]], flips = x[[\"flips\"]], auc = .)}) -> aucs\n",
    "map(aucs, function(x) ggplot(mapping = aes(x = seq(0,1,length.out = 100), y = dbinom(x$heads,x$flips,seq(0,1,length.out = 100)))) + geom_line() + labs(y = \"likelihood\", x = \"θ\", title = glue::glue(\"likelihood for {x$heads} heads in {x$flips} flips\"), subtitle = glue::glue(\"area under curve is {round(x$auc,3)}\")) + theme_minimal() + theme(text = element_text(size = 8))) -> plots\n",
    "(plots$p1 + plots$p2) / (plots$p3 + plots$p4) "
   ]
  },
  {
   "cell_type": "code",
   "execution_count": null,
   "metadata": {},
   "outputs": [],
   "source": []
  }
 ],
 "metadata": {
  "celltoolbar": "Slideshow",
  "kernelspec": {
   "display_name": "R",
   "language": "R",
   "name": "ir"
  },
  "language_info": {
   "codemirror_mode": "r",
   "file_extension": ".r",
   "mimetype": "text/x-r-source",
   "name": "R",
   "pygments_lexer": "r",
   "version": "3.6.1"
  }
 },
 "nbformat": 4,
 "nbformat_minor": 4
}
