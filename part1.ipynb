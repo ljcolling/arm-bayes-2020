{
 "cells": [
  {
   "cell_type": "code",
   "execution_count": 1,
   "metadata": {},
   "outputs": [],
   "source": [
    "loadpackages = function(){\n",
    "  suppressMessages(require(tidyverse))\n",
    "  suppressMessages(require(brms))\n",
    "  suppressMessages(require(patchwork))\n",
    "  suppressMessages(require(bayesplay))\n",
    "  suppressMessages(require(BayesFactor))\n",
    "  suppressMessages(require(logspline))\n",
    "  suppressMessages(require(furrr))\n",
    "  suppressMessages(require(tidyverse))\n",
    "  suppressMessages(require(magrittr))\n",
    "  suppressMessages(require(logspline))\n",
    "  suppressMessages(require(patchwork))\n",
    "  suppressMessages(require(IRdisplay))\n",
    "\n",
    "}\n",
    "\n",
    "loadpackages()"
   ]
  },
  {
   "cell_type": "markdown",
   "metadata": {},
   "source": [
    "# The P Value"
   ]
  },
  {
   "cell_type": "markdown",
   "metadata": {},
   "source": [
    "\n",
    "\n",
    "The American Statistical Association (ASA) defines a *p* value as:\n",
    "\n",
    "> the probability under a specified statistical model that a statistical summary of the data (e.g., the sample mean difference between two compared groups) would be equal to or more extreme than its observed value [@wasserstein2016, my emphasis]\n",
    "\n",
    "While this is a perfectly acceptable definition it is maybe a little tricky to understand. The main reason for this is that the definition contains at least one *ill-defined concept* (\"probability\") and one tricky concept (\"specified statistical model\"). To understand what a *p* value really is, we're going to have to unpack both of these ideas. Along the way we're going to learn about some other concepts that will also help us understand *Frequentist* inference. And a good grounding in Frequentist inference will also help use understand the distinction between Frequentist inference and Bayesian inference. \n",
    "\n",
    "## Probability\n",
    "\n",
    "Most people think of *probability* as a mathematical concept. In a sense it is, but it is also a deeply *philosophical* concept. We deploy the word *probability* in many different *kinds* of situations and it's not clear whether we mean the same thing in each of them. Some examples of where we use the word probability is when we ask questions like: What is the probability of getting heads on repeated tosses of a fair coin?  What is the probability that it will rain tomorrow? What is the probability the criminal committed the crime? The word *probability* seemingly refers to different things in each of these situations. \n",
    "\n",
    "For example, we might suggest that the probability of the getting heads is 0.5 where this 0.5 refers to the *long run relative frequency* of getting heads. That is, if we were to toss a coin many many times then on around 0.5 (i.e., half) of the tosses the coin would come up heads.\n",
    "\n",
    "We might use a different notion when thinking about the case of the criminal. We might say something like, \"we are 90% sure\" (probability of .9) that the criminal committed the crime. But what does \"90% sure\" mean. Does it make sense to think of it as the *relative frequency*? If not, then how else might be think of it? We might, for example, think of it as a *credence* or a *degree of belief* that the proposition is true. Or we might think of it as a *degree of support*. That is, we might say that the available evidence supports the hypothesis that the criminal committed the crime with odds of 9-to-1.\n",
    "\n",
    "This isn't meant to be an exhaustive list of definitions. The aim is just to highlight that we might sometimes mean different things when we think about probability. It pays to keep this in minds as we move through the course. \n",
    "\n",
    "## Probability and *p* values\n",
    "\n",
    "Now that we know that *probability* can mean different things in different situations, what notion of *probability* is at play in ASA's definition of the *p* value. The common view is to say that it refers to *relative frequencies*. But relative frequencies of **what** over repeats of **what**? \n",
    "\n",
    "> the p value refers to the relative frequency of obtaining a statistical summary of the data as large or larger than the observed value over hypothetical repeats of an experiment described by a specified statistical model\n",
    "\n",
    "### Understanding the *p* through simulation\n",
    "\n",
    "To understand how *p* values work let's start off with a little scenario: \n",
    "\n",
    "\n",
    "> You've been given a device that can be used for finding buried treasure. The device has a numbered dial on it, and there is a little arrow that can point at these numbers. The arrow never stays still, but swings around a bit. You don't know how the device works, expect that it behaves *differently* around treasure compared with when there is no treasure present. How can you use this device to find treasure?\n",
    "\n",
    "This seems like hard problem. You know very little about the device. You don't know what it's meant to do when it finds treasure, and you don't know what it's meant to do when there isn't any treasure. So how do you go about using it to find treasure?\n",
    "\n",
    "#### Finding treasure \n",
    "\n",
    "The first step to using the device is to get a good description of what it does when there isn't any treasure around. You take your device somewhere there's no treasure, and you just sit and watch the dial. After a long time watching it you notice that although the pointer swings around a lot, *on average* it points at zero. This one bit of information is enough to develop a treasure hunting strategy using this device. \n",
    "\n",
    "The first step in the strategy is deciding how many readings to take on each hunt. Because the pointer swings around a lot, we'll need to take a couple of readings and then use these to work out an average (which we'll call $\\bar{x}$). We're in a hurry so we'll take **10** readings on each hunt. \n",
    "\n",
    "Next, we'll need to scale our average. If our average is 1 then is this close to 0? How about 0.5? or 5? or 15? It's impossible to know, because you don't know how big the average range of it's swings are. So your scaling factor should be proportional to the magnitude of the average deviations you've observed (we'll call this scaling factor $s_{\\bar{x}}$).\n",
    "\n",
    "With this information in hand, we have enough to build a statistical model of our device's behaviour. To do this, we just go where there is no treasure and perform the following steps: 1) Take 10 readings; 2) work our an average ($\\bar{x}$); 3) scale it by our scaling factor ($s_{\\bar{x}}$); write down our scaled measurement (which we'll call $t$); and repeat!  Once we've done this many many times then we'll have a nice distribution or statistical model of how our device behaves when there isn't any treasure. Of course, we don't have to do this for real. We can just simulate it!\n"
   ]
  },
  {
   "cell_type": "code",
   "execution_count": 2,
   "metadata": {},
   "outputs": [],
   "source": [
    "# 1\n",
    "# run this chunk to set up the simulation function\n",
    "\n",
    "set.seed(612) # Set the seed for reproducibility\n",
    "\n",
    "run.exp = function(sample_size, average){\n",
    "  # define function for running and experiment\n",
    "  \n",
    "      \n",
    "    # we don't know how much the pointer actually swings around,\n",
    "    # so lets just pick a random range between 1 and 10!\n",
    "    dev = runif(1,1,10); min_possible = 0 -dev; max_possible = 0 + dev\n",
    "  \n",
    "    # generate a sample of readings\n",
    "    this_sample = runif(sample_size, min_possible, max_possible)\n",
    "  \n",
    "  # make descriptive stats\n",
    "  tibble::tibble(sample_mean = mean(this_sample), \n",
    "                 sample_sd = sd(this_sample), \n",
    "                 n = sample_size,\n",
    "                 se = sample_sd / sqrt(sample_size))\n",
    "}"
   ]
  },
  {
   "cell_type": "code",
   "execution_count": 3,
   "metadata": {},
   "outputs": [
    {
     "name": "stdout",
     "output_type": "stream",
     "text": [
      "Observations: 100,000\n",
      "Variables: 5\n",
      "$ sample_mean \u001b[3m\u001b[38;5;246m<dbl>\u001b[39m\u001b[23m 0.24773030, -0.51012705, 0.08996398, 1.13376593, 0.232675…\n",
      "$ sample_sd   \u001b[3m\u001b[38;5;246m<dbl>\u001b[39m\u001b[23m 0.6261914, 0.9511805, 1.1865844, 1.4667853, 2.3075037, 1.…\n",
      "$ n           \u001b[3m\u001b[38;5;246m<dbl>\u001b[39m\u001b[23m 10, 10, 10, 10, 10, 10, 10, 10, 10, 10, 10, 10, 10, 10, 1…\n",
      "$ se          \u001b[3m\u001b[38;5;246m<dbl>\u001b[39m\u001b[23m 0.1980191, 0.3007897, 0.3752309, 0.4638382, 0.7296968, 0.…\n",
      "$ i           \u001b[3m\u001b[38;5;246m<int>\u001b[39m\u001b[23m 1, 2, 3, 4, 5, 6, 7, 8, 9, 10, 11, 12, 13, 14, 15, 16, 17…\n"
     ]
    }
   ],
   "source": [
    "# 2\n",
    "# run this chunk to actually run the simulations!\n",
    "\n",
    "future::plan(\"multiprocess\") # Set to run in parallel\n",
    "no_of_exps = 100000 # Set the number of experiments to simulate\n",
    "all_exps <- furrr::future_map_dfr(1:no_of_exps, function(x) \n",
    "  run.exp(sample_size = 10, average = 0) %>% dplyr::mutate(i = x)) # run the experiments\n",
    "\n",
    "dplyr::glimpse(all_exps) # view the results"
   ]
  },
  {
   "cell_type": "code",
   "execution_count": 4,
   "metadata": {},
   "outputs": [
    {
     "data": {
      "image/png": "[encoded data removed]",
      "text/plain": [
       "plot without title"
      ]
     },
     "metadata": {
      "image/png": {
       "height": 420,
       "width": 420
      }
     },
     "output_type": "display_data"
    }
   ],
   "source": [
    "# 3\n",
    "# run this chunk to view some plots of our simulations\n",
    "all_exps %<>% mutate(t = (sample_mean * sqrt(n)) / sample_sd)\n",
    "\n",
    "# make a histogram of the unscaled averages\n",
    "all_exps %>% ggplot(aes(x = sample_mean)) + geom_histogram(fill = \"seagreen\",bins = 100, na.rm = TRUE) +\n",
    "  labs(x = \"sample mean\", y = \"number of experiments\") + \n",
    "  xlim(c(-max(abs(all_exps$sample_mean)) * 1.10, max(abs(all_exps$sample_mean)) * 1.10)) +\n",
    "  theme_minimal() -> mean_hist\n",
    "\n",
    "# make a histograme of the scaled averages\n",
    "all_exps %>% ggplot(aes(x = t)) + geom_histogram(fill = \"seagreen\", bins = 100, na.rm = TRUE) +\n",
    "  labs(x = \"t stat\", y = \"number of experiments\") + xlim(c(-4,4)) +\n",
    "  theme_minimal() -> t_hist\n",
    "\n",
    "# convert the histogram of the scaled averages to a probability density\n",
    "tibble(x = seq(-4, 4, length.out = 10000)) %>% \n",
    "  mutate(y = dlogspline(x,logspline(all_exps$t))) %>%\n",
    "  ggplot(aes(x = x, y = y)) + geom_line(colour = \"darkblue\") +\n",
    "  labs(x = \"t\", y = \"density\") + xlim(c(-4,4)) +\n",
    "  theme_minimal() -> density_plot\n",
    "\n",
    "\n",
    "((mean_hist | t_hist) / density_plot ) + plot_annotation(tag_levels = \"A\")"
   ]
  },
  {
   "cell_type": "code",
   "execution_count": 5,
   "metadata": {},
   "outputs": [
    {
     "data": {
      "text/markdown": [
       "Our 10 measurements are: 0.25; -0.54; -0.51; -0.75; 0.27; -1.62; -1.29; -0.21; 0.17; -0.83  \n",
       "           Our $\\bar{x}$ = -0.507  \n",
       "           Our $s_\\bar{x}$ = 0.204      \n",
       "This means that our scaled measurement, $t$ = -2.485"
      ]
     },
     "metadata": {},
     "output_type": "display_data"
    }
   ],
   "source": [
    "# 4\n",
    "# trying out our treasure hunting device\n",
    "set.seed(151); X = rnorm(10, runif(1,-10,10), runif(1));\n",
    "\n",
    "x_bar = mean(X) # work out an average\n",
    "s_x_bar = sd(X)/sqrt(length(X)) # work out the scaling factor\n",
    "t_value = x_bar / s_x_bar # work out the scaled measurement \n",
    "\n",
    "glue::glue(\"Our {length(X)} measurements are: {glue::glue_collapse(round(X,2),sep = '; ')}  \n",
    "           Our $\\\\bar{{x}}$ = {round(x_bar,3)}  \n",
    "           Our $s_\\\\bar{{x}}$ = {round(s_x_bar,3)}      \n",
    "This means that our scaled measurement, $t$ = {round(t_value,3)}\") %>% \n",
    "IRdisplay::display_markdown()"
   ]
  },
  {
   "cell_type": "code",
   "execution_count": 6,
   "metadata": {},
   "outputs": [
    {
     "data": {
      "text/markdown": [
       "96.17% of values from our simulation where closer to zero than our current value.   \n",
       "Only 3.83% of values where further from zero than our current value."
      ]
     },
     "metadata": {},
     "output_type": "display_data"
    }
   ],
   "source": [
    "# 5\n",
    "# how surprising is our measurement\n",
    "\n",
    "# first convert it to an absolute value\n",
    "t_value = abs(t_value)\n",
    "\n",
    "larger_than_positive = mean(all_exps$t > t_value)\n",
    "smaller_than_negative = mean(all_exps$t < -t_value)\n",
    "\n",
    "further_from_zero = larger_than_positive + smaller_than_negative\n",
    "closer_to_zero = 1 - further_from_zero\n",
    "\n",
    "glue::glue(\"{round(closer_to_zero * 100,2)}% of values from our simulation where closer to zero than our current value.   \n",
    "Only {round(further_from_zero * 100, 2)}% of values where further from zero than our current value.\") %>%\n",
    "IRdisplay::display_markdown()"
   ]
  },
  {
   "cell_type": "code",
   "execution_count": 7,
   "metadata": {},
   "outputs": [],
   "source": [
    "# 6\n",
    "# testing our rule\n",
    "set.seed(14) # set seed for reproducibly\n",
    "n_tests = 10000 # set the number of tests\n",
    "\n",
    "Pr_treasure = runif(1) # Set the probablity of finding treasure\n",
    "\n",
    "simulate_hunt <- function(Pr_treasure){\n",
    "    \n",
    "    # Decide whether this hunt has treasure\n",
    "    has.treasure = ifelse(runif(1) < Pr_treasure, 1, 0) \n",
    "    \n",
    "    X = rnorm(10, has.treasure, 1.5) # generate 10 readings\n",
    "    \n",
    "    # work out the scaled measurement and how suprising it is\n",
    "    # and decide whether to dig or not!\n",
    "    t.test(X) %>% broom::tidy() %>%\n",
    "  mutate(has.treasure = ifelse(has.treasure == 1, \"Y\",\"N\"), \n",
    "         how.suprising = p.value, \n",
    "         dig = ifelse(p.value < 0.05, \"Y\",\"N\")) %>%\n",
    "  select(has.treasure, dig)\n",
    "    \n",
    "}\n",
    "\n",
    "set.seed(11) # set seed for reproducibly\n",
    "test_hunts = furrr::future_map_dfr(1:n_tests, function(x) simulate_hunt(Pr_treasure)) "
   ]
  },
  {
   "cell_type": "code",
   "execution_count": 8,
   "metadata": {},
   "outputs": [
    {
     "data": {
      "text/html": [
       "<table>\n",
       " <thead>\n",
       "  <tr>\n",
       "   <th style=\"text-align:left;\"> Had treasure? </th>\n",
       "   <th style=\"text-align:left;\"> Dig or not? </th>\n",
       "  </tr>\n",
       " </thead>\n",
       "<tbody>\n",
       "  <tr>\n",
       "   <td style=\"text-align:left;\"> N </td>\n",
       "   <td style=\"text-align:left;\"> N </td>\n",
       "  </tr>\n",
       "  <tr>\n",
       "   <td style=\"text-align:left;\"> N </td>\n",
       "   <td style=\"text-align:left;\"> N </td>\n",
       "  </tr>\n",
       "  <tr>\n",
       "   <td style=\"text-align:left;\"> N </td>\n",
       "   <td style=\"text-align:left;\"> N </td>\n",
       "  </tr>\n",
       "  <tr>\n",
       "   <td style=\"text-align:left;\"> N </td>\n",
       "   <td style=\"text-align:left;\"> N </td>\n",
       "  </tr>\n",
       "  <tr>\n",
       "   <td style=\"text-align:left;\"> N </td>\n",
       "   <td style=\"text-align:left;\"> N </td>\n",
       "  </tr>\n",
       "  <tr>\n",
       "   <td style=\"text-align:left;\"> N </td>\n",
       "   <td style=\"text-align:left;\"> N </td>\n",
       "  </tr>\n",
       "  <tr>\n",
       "   <td style=\"text-align:left;\"> N </td>\n",
       "   <td style=\"text-align:left;\"> N </td>\n",
       "  </tr>\n",
       "  <tr>\n",
       "   <td style=\"text-align:left;\"> N </td>\n",
       "   <td style=\"text-align:left;\"> N </td>\n",
       "  </tr>\n",
       "  <tr>\n",
       "   <td style=\"text-align:left;\"> N </td>\n",
       "   <td style=\"text-align:left;\"> N </td>\n",
       "  </tr>\n",
       "  <tr>\n",
       "   <td style=\"text-align:left;\"> N </td>\n",
       "   <td style=\"text-align:left;\"> N </td>\n",
       "  </tr>\n",
       "  <tr>\n",
       "   <td style=\"text-align:left;\"> N </td>\n",
       "   <td style=\"text-align:left;\"> N </td>\n",
       "  </tr>\n",
       "  <tr>\n",
       "   <td style=\"text-align:left;\"> Y </td>\n",
       "   <td style=\"text-align:left;\"> Y </td>\n",
       "  </tr>\n",
       "  <tr>\n",
       "   <td style=\"text-align:left;\"> Y </td>\n",
       "   <td style=\"text-align:left;\"> Y </td>\n",
       "  </tr>\n",
       "  <tr>\n",
       "   <td style=\"text-align:left;\"> N </td>\n",
       "   <td style=\"text-align:left;\"> N </td>\n",
       "  </tr>\n",
       "  <tr>\n",
       "   <td style=\"text-align:left;\"> N </td>\n",
       "   <td style=\"text-align:left;\"> N </td>\n",
       "  </tr>\n",
       "  <tr>\n",
       "   <td style=\"text-align:left;\"> N </td>\n",
       "   <td style=\"text-align:left;\"> N </td>\n",
       "  </tr>\n",
       "  <tr>\n",
       "   <td style=\"text-align:left;\"> N </td>\n",
       "   <td style=\"text-align:left;\"> N </td>\n",
       "  </tr>\n",
       "  <tr>\n",
       "   <td style=\"text-align:left;\"> N </td>\n",
       "   <td style=\"text-align:left;\"> N </td>\n",
       "  </tr>\n",
       "  <tr>\n",
       "   <td style=\"text-align:left;\"> N </td>\n",
       "   <td style=\"text-align:left;\"> N </td>\n",
       "  </tr>\n",
       "  <tr>\n",
       "   <td style=\"text-align:left;\"> N </td>\n",
       "   <td style=\"text-align:left;\"> Y </td>\n",
       "  </tr>\n",
       "</tbody>\n",
       "</table>"
      ]
     },
     "metadata": {},
     "output_type": "display_data"
    }
   ],
   "source": [
    "# 7\n",
    "# look at the results of tests\n",
    "\n",
    "test_hunts %>% slice(1:20) %>% knitr::kable(format = \"html\", \n",
    "                                            col.names = c(\"Had treasure?\",\"Dig or not?\")) %>% \n",
    "as.character() %>% IRdisplay::display_html()\n"
   ]
  },
  {
   "cell_type": "code",
   "execution_count": 9,
   "metadata": {},
   "outputs": [],
   "source": [
    "#8 \n",
    "\n",
    "# function for computing metrics\n",
    "get_metrics = function(test_hunts){\n",
    "    test_hunts %<>% mutate(type = case_when(has.treasure == \"Y\" & dig == \"Y\" ~ \"Hit\", \n",
    "                                            has.treasure == \"Y\" & dig == \"N\" ~ \"Miss\",\n",
    "                                            has.treasure == \"N\" & dig == \"N\" ~ \"Correct Rejection\",\n",
    "                                            has.treasure == \"N\" & dig == \"Y\" ~ \"False alarm\"))\n",
    "\n",
    "    metrics = test_hunts %>% \n",
    "    mutate(type = factor(type,levels = c(\"Hit\",\"Miss\",\"Correct Rejection\",\"False alarm\"))) %>% \n",
    "    group_by(type, `.drop` = FALSE) %>% summarise(n = n()) %>% mutate(type = as.character(type)) %>%\n",
    "    pivot_wider(names_from = \"type\", values_from = \"n\") %>% \n",
    "    mutate(Correct = `Correct Rejection` + Hit, \n",
    "       Incorrect = `False alarm` + Miss, \n",
    "       Accuracy = Correct / (Correct + Incorrect)) \n",
    "\n",
    "    amount_of_treasure = test_hunts %>% \n",
    "    mutate(has.treasure = factor(has.treasure, levels = c(\"Y\",\"N\"))) %>%\n",
    "    group_by(has.treasure, `.drop` = FALSE) %>% summarise(n = n()) %>%\n",
    "        spread(key = has.treasure, value = n) %>% \n",
    "        set_colnames(c(\"N\" = \"No treasure\", \"Y\" = \"Treasure\")) %>% \n",
    "        mutate(`actual Pr_treasure` = `Treasure` / (`No treasure` + `Treasure`))\n",
    "\n",
    "    cbind(metrics,amount_of_treasure)\n",
    "    \n",
    "    \n",
    "}\n"
   ]
  },
  {
   "cell_type": "code",
   "execution_count": 10,
   "metadata": {},
   "outputs": [
    {
     "data": {
      "text/html": [
       "<table>\n",
       "<caption>A data.frame: 1 × 10</caption>\n",
       "<thead>\n",
       "\t<tr><th scope=col>Hit</th><th scope=col>Miss</th><th scope=col>Correct Rejection</th><th scope=col>False alarm</th><th scope=col>Correct</th><th scope=col>Incorrect</th><th scope=col>Accuracy</th><th scope=col>No treasure</th><th scope=col>Treasure</th><th scope=col>actual Pr_treasure</th></tr>\n",
       "\t<tr><th scope=col>&lt;int&gt;</th><th scope=col>&lt;int&gt;</th><th scope=col>&lt;int&gt;</th><th scope=col>&lt;int&gt;</th><th scope=col>&lt;int&gt;</th><th scope=col>&lt;int&gt;</th><th scope=col>&lt;dbl&gt;</th><th scope=col>&lt;int&gt;</th><th scope=col>&lt;int&gt;</th><th scope=col>&lt;dbl&gt;</th></tr>\n",
       "</thead>\n",
       "<tbody>\n",
       "\t<tr><td>1173</td><td>1337</td><td>7084</td><td>406</td><td>8257</td><td>1743</td><td>0.8257</td><td>2510</td><td>7490</td><td>0.749</td></tr>\n",
       "</tbody>\n",
       "</table>\n"
      ],
      "text/latex": [
       "A data.frame: 1 × 10\n",
       "\\begin{tabular}{r|llllllllll}\n",
       " Hit & Miss & Correct Rejection & False alarm & Correct & Incorrect & Accuracy & No treasure & Treasure & actual Pr\\_treasure\\\\\n",
       " <int> & <int> & <int> & <int> & <int> & <int> & <dbl> & <int> & <int> & <dbl>\\\\\n",
       "\\hline\n",
       "\t 1173 & 1337 & 7084 & 406 & 8257 & 1743 & 0.8257 & 2510 & 7490 & 0.749\\\\\n",
       "\\end{tabular}\n"
      ],
      "text/markdown": [
       "\n",
       "A data.frame: 1 × 10\n",
       "\n",
       "| Hit &lt;int&gt; | Miss &lt;int&gt; | Correct Rejection &lt;int&gt; | False alarm &lt;int&gt; | Correct &lt;int&gt; | Incorrect &lt;int&gt; | Accuracy &lt;dbl&gt; | No treasure &lt;int&gt; | Treasure &lt;int&gt; | actual Pr_treasure &lt;dbl&gt; |\n",
       "|---|---|---|---|---|---|---|---|---|---|\n",
       "| 1173 | 1337 | 7084 | 406 | 8257 | 1743 | 0.8257 | 2510 | 7490 | 0.749 |\n",
       "\n"
      ],
      "text/plain": [
       "  Hit  Miss Correct Rejection False alarm Correct Incorrect Accuracy\n",
       "1 1173 1337 7084              406         8257    1743      0.8257  \n",
       "  No treasure Treasure actual Pr_treasure\n",
       "1 2510        7490     0.749             "
      ]
     },
     "metadata": {},
     "output_type": "display_data"
    }
   ],
   "source": [
    "# 9\n",
    "# Get some metrics for your simulated hunt\n",
    "test_hunts %>% get_metrics()"
   ]
  },
  {
   "cell_type": "code",
   "execution_count": 11,
   "metadata": {},
   "outputs": [
    {
     "data": {
      "text/html": [
       "<table>\n",
       "<caption>A data.frame: 1 × 10</caption>\n",
       "<thead>\n",
       "\t<tr><th scope=col>Hit</th><th scope=col>Miss</th><th scope=col>Correct Rejection</th><th scope=col>False alarm</th><th scope=col>Correct</th><th scope=col>Incorrect</th><th scope=col>Accuracy</th><th scope=col>No treasure</th><th scope=col>Treasure</th><th scope=col>actual Pr_treasure</th></tr>\n",
       "\t<tr><th scope=col>&lt;int&gt;</th><th scope=col>&lt;int&gt;</th><th scope=col>&lt;int&gt;</th><th scope=col>&lt;int&gt;</th><th scope=col>&lt;int&gt;</th><th scope=col>&lt;int&gt;</th><th scope=col>&lt;dbl&gt;</th><th scope=col>&lt;int&gt;</th><th scope=col>&lt;int&gt;</th><th scope=col>&lt;dbl&gt;</th></tr>\n",
       "</thead>\n",
       "<tbody>\n",
       "\t<tr><td>0</td><td>0</td><td>9509</td><td>491</td><td>9509</td><td>491</td><td>0.9509</td><td>0</td><td>10000</td><td>1</td></tr>\n",
       "</tbody>\n",
       "</table>\n"
      ],
      "text/latex": [
       "A data.frame: 1 × 10\n",
       "\\begin{tabular}{r|llllllllll}\n",
       " Hit & Miss & Correct Rejection & False alarm & Correct & Incorrect & Accuracy & No treasure & Treasure & actual Pr\\_treasure\\\\\n",
       " <int> & <int> & <int> & <int> & <int> & <int> & <dbl> & <int> & <int> & <dbl>\\\\\n",
       "\\hline\n",
       "\t 0 & 0 & 9509 & 491 & 9509 & 491 & 0.9509 & 0 & 10000 & 1\\\\\n",
       "\\end{tabular}\n"
      ],
      "text/markdown": [
       "\n",
       "A data.frame: 1 × 10\n",
       "\n",
       "| Hit &lt;int&gt; | Miss &lt;int&gt; | Correct Rejection &lt;int&gt; | False alarm &lt;int&gt; | Correct &lt;int&gt; | Incorrect &lt;int&gt; | Accuracy &lt;dbl&gt; | No treasure &lt;int&gt; | Treasure &lt;int&gt; | actual Pr_treasure &lt;dbl&gt; |\n",
       "|---|---|---|---|---|---|---|---|---|---|\n",
       "| 0 | 0 | 9509 | 491 | 9509 | 491 | 0.9509 | 0 | 10000 | 1 |\n",
       "\n"
      ],
      "text/plain": [
       "  Hit Miss Correct Rejection False alarm Correct Incorrect Accuracy No treasure\n",
       "1 0   0    9509              491         9509    491       0.9509   0          \n",
       "  Treasure actual Pr_treasure\n",
       "1 10000    1                 "
      ]
     },
     "metadata": {},
     "output_type": "display_data"
    }
   ],
   "source": [
    "# 10 \n",
    "furrr::future_map_dfr(1:n_tests, function(x) simulate_hunt(0)) %>% get_metrics()"
   ]
  },
  {
   "cell_type": "code",
   "execution_count": 12,
   "metadata": {},
   "outputs": [
    {
     "data": {
      "text/html": [
       "<table>\n",
       "<caption>A data.frame: 1 × 10</caption>\n",
       "<thead>\n",
       "\t<tr><th scope=col>Hit</th><th scope=col>Miss</th><th scope=col>Correct Rejection</th><th scope=col>False alarm</th><th scope=col>Correct</th><th scope=col>Incorrect</th><th scope=col>Accuracy</th><th scope=col>No treasure</th><th scope=col>Treasure</th><th scope=col>actual Pr_treasure</th></tr>\n",
       "\t<tr><th scope=col>&lt;int&gt;</th><th scope=col>&lt;int&gt;</th><th scope=col>&lt;int&gt;</th><th scope=col>&lt;int&gt;</th><th scope=col>&lt;int&gt;</th><th scope=col>&lt;int&gt;</th><th scope=col>&lt;dbl&gt;</th><th scope=col>&lt;int&gt;</th><th scope=col>&lt;int&gt;</th><th scope=col>&lt;dbl&gt;</th></tr>\n",
       "</thead>\n",
       "<tbody>\n",
       "\t<tr><td>0</td><td>0</td><td>9529</td><td>471</td><td>9529</td><td>471</td><td>0.9529</td><td>0</td><td>10000</td><td>1</td></tr>\n",
       "</tbody>\n",
       "</table>\n"
      ],
      "text/latex": [
       "A data.frame: 1 × 10\n",
       "\\begin{tabular}{r|llllllllll}\n",
       " Hit & Miss & Correct Rejection & False alarm & Correct & Incorrect & Accuracy & No treasure & Treasure & actual Pr\\_treasure\\\\\n",
       " <int> & <int> & <int> & <int> & <int> & <int> & <dbl> & <int> & <int> & <dbl>\\\\\n",
       "\\hline\n",
       "\t 0 & 0 & 9529 & 471 & 9529 & 471 & 0.9529 & 0 & 10000 & 1\\\\\n",
       "\\end{tabular}\n"
      ],
      "text/markdown": [
       "\n",
       "A data.frame: 1 × 10\n",
       "\n",
       "| Hit &lt;int&gt; | Miss &lt;int&gt; | Correct Rejection &lt;int&gt; | False alarm &lt;int&gt; | Correct &lt;int&gt; | Incorrect &lt;int&gt; | Accuracy &lt;dbl&gt; | No treasure &lt;int&gt; | Treasure &lt;int&gt; | actual Pr_treasure &lt;dbl&gt; |\n",
       "|---|---|---|---|---|---|---|---|---|---|\n",
       "| 0 | 0 | 9529 | 471 | 9529 | 471 | 0.9529 | 0 | 10000 | 1 |\n",
       "\n"
      ],
      "text/plain": [
       "  Hit Miss Correct Rejection False alarm Correct Incorrect Accuracy No treasure\n",
       "1 0   0    9529              471         9529    471       0.9529   0          \n",
       "  Treasure actual Pr_treasure\n",
       "1 10000    1                 "
      ]
     },
     "metadata": {},
     "output_type": "display_data"
    }
   ],
   "source": [
    "# 11\n",
    "furrr::future_map_dfr(1:n_tests, function(x) simulate_hunt(0)) %>% get_metrics()"
   ]
  },
  {
   "cell_type": "code",
   "execution_count": 13,
   "metadata": {},
   "outputs": [],
   "source": [
    "get_metrics2 = function(.data){\n",
    "    .data %>% mutate(`False alarm rate` = `False alarm`/(`No treasure` + `Treasure`),\n",
    "                            `Miss rate` = `Miss` / (`No treasure` + `Treasure`))\n",
    "}"
   ]
  },
  {
   "cell_type": "code",
   "execution_count": 14,
   "metadata": {},
   "outputs": [
    {
     "data": {
      "text/html": [
       "<table>\n",
       "<caption>A data.frame: 1 × 12</caption>\n",
       "<thead>\n",
       "\t<tr><th scope=col>Hit</th><th scope=col>Miss</th><th scope=col>Correct Rejection</th><th scope=col>False alarm</th><th scope=col>Correct</th><th scope=col>Incorrect</th><th scope=col>Accuracy</th><th scope=col>No treasure</th><th scope=col>Treasure</th><th scope=col>actual Pr_treasure</th><th scope=col>False alarm rate</th><th scope=col>Miss rate</th></tr>\n",
       "\t<tr><th scope=col>&lt;int&gt;</th><th scope=col>&lt;int&gt;</th><th scope=col>&lt;int&gt;</th><th scope=col>&lt;int&gt;</th><th scope=col>&lt;int&gt;</th><th scope=col>&lt;int&gt;</th><th scope=col>&lt;dbl&gt;</th><th scope=col>&lt;int&gt;</th><th scope=col>&lt;int&gt;</th><th scope=col>&lt;dbl&gt;</th><th scope=col>&lt;dbl&gt;</th><th scope=col>&lt;dbl&gt;</th></tr>\n",
       "</thead>\n",
       "<tbody>\n",
       "\t<tr><td>2319</td><td>2661</td><td>4759</td><td>261</td><td>7078</td><td>2922</td><td>0.7078</td><td>4980</td><td>5020</td><td>0.502</td><td>0.0261</td><td>0.2661</td></tr>\n",
       "</tbody>\n",
       "</table>\n"
      ],
      "text/latex": [
       "A data.frame: 1 × 12\n",
       "\\begin{tabular}{r|llllllllllll}\n",
       " Hit & Miss & Correct Rejection & False alarm & Correct & Incorrect & Accuracy & No treasure & Treasure & actual Pr\\_treasure & False alarm rate & Miss rate\\\\\n",
       " <int> & <int> & <int> & <int> & <int> & <int> & <dbl> & <int> & <int> & <dbl> & <dbl> & <dbl>\\\\\n",
       "\\hline\n",
       "\t 2319 & 2661 & 4759 & 261 & 7078 & 2922 & 0.7078 & 4980 & 5020 & 0.502 & 0.0261 & 0.2661\\\\\n",
       "\\end{tabular}\n"
      ],
      "text/markdown": [
       "\n",
       "A data.frame: 1 × 12\n",
       "\n",
       "| Hit &lt;int&gt; | Miss &lt;int&gt; | Correct Rejection &lt;int&gt; | False alarm &lt;int&gt; | Correct &lt;int&gt; | Incorrect &lt;int&gt; | Accuracy &lt;dbl&gt; | No treasure &lt;int&gt; | Treasure &lt;int&gt; | actual Pr_treasure &lt;dbl&gt; | False alarm rate &lt;dbl&gt; | Miss rate &lt;dbl&gt; |\n",
       "|---|---|---|---|---|---|---|---|---|---|---|---|\n",
       "| 2319 | 2661 | 4759 | 261 | 7078 | 2922 | 0.7078 | 4980 | 5020 | 0.502 | 0.0261 | 0.2661 |\n",
       "\n"
      ],
      "text/plain": [
       "  Hit  Miss Correct Rejection False alarm Correct Incorrect Accuracy\n",
       "1 2319 2661 4759              261         7078    2922      0.7078  \n",
       "  No treasure Treasure actual Pr_treasure False alarm rate Miss rate\n",
       "1 4980        5020     0.502              0.0261           0.2661   "
      ]
     },
     "metadata": {},
     "output_type": "display_data"
    }
   ],
   "source": [
    "furrr::future_map_dfr(1:10000, function(x) simulate_hunt(.5)) %>% get_metrics() %>% get_metrics2()\n",
    "                      "
   ]
  },
  {
   "cell_type": "code",
   "execution_count": null,
   "metadata": {},
   "outputs": [],
   "source": []
  }
 ],
 "metadata": {
  "kernelspec": {
   "display_name": "R",
   "language": "R",
   "name": "ir"
  },
  "language_info": {
   "codemirror_mode": "r",
   "file_extension": ".r",
   "mimetype": "text/x-r-source",
   "name": "R",
   "pygments_lexer": "r",
   "version": "3.6.1"
  }
 },
 "nbformat": 4,
 "nbformat_minor": 4
}
